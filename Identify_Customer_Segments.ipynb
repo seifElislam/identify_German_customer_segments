{
 "cells": [
  {
   "cell_type": "markdown",
   "metadata": {},
   "source": [
    "# Project: Identify Customer Segments\n",
    "\n",
    "In this project, you will apply unsupervised learning techniques to identify segments of the population that form the core customer base for a mail-order sales company in Germany. These segments can then be used to direct marketing campaigns towards audiences that will have the highest expected rate of returns. The data that you will use has been provided by our partners at Bertelsmann Arvato Analytics, and represents a real-life data science task.\n",
    "\n",
    "This notebook will help you complete this task by providing a framework within which you will perform your analysis steps. In each step of the project, you will see some text describing the subtask that you will perform, followed by one or more code cells for you to complete your work. **Feel free to add additional code and markdown cells as you go along so that you can explore everything in precise chunks.** The code cells provided in the base template will outline only the major tasks, and will usually not be enough to cover all of the minor tasks that comprise it.\n",
    "\n",
    "It should be noted that while there will be precise guidelines on how you should handle certain tasks in the project, there will also be places where an exact specification is not provided. **There will be times in the project where you will need to make and justify your own decisions on how to treat the data.** These are places where there may not be only one way to handle the data. In real-life tasks, there may be many valid ways to approach an analysis task. One of the most important things you can do is clearly document your approach so that other scientists can understand the decisions you've made.\n",
    "\n",
    "At the end of most sections, there will be a Markdown cell labeled **Discussion**. In these cells, you will report your findings for the completed section, as well as document the decisions that you made in your approach to each subtask. **Your project will be evaluated not just on the code used to complete the tasks outlined, but also your communication about your observations and conclusions at each stage.**"
   ]
  },
  {
   "cell_type": "code",
   "execution_count": 122,
   "metadata": {},
   "outputs": [
    {
     "data": {
      "text/plain": [
       "'\\nImport note: The classroom currently uses sklearn version 0.19.\\nIf you need to use an imputer, it is available in sklearn.preprocessing.Imputer,\\ninstead of sklearn.impute as in newer versions of sklearn.\\n'"
      ]
     },
     "execution_count": 122,
     "metadata": {},
     "output_type": "execute_result"
    }
   ],
   "source": [
    "# import libraries here; add more as necessary\n",
    "import math\n",
    "import numpy as np\n",
    "import pandas as pd\n",
    "import matplotlib.pyplot as plt\n",
    "import seaborn as sns\n",
    "\n",
    "from sklearn.preprocessing import Imputer\n",
    "from sklearn.preprocessing import StandardScaler\n",
    "from sklearn.decomposition import PCA\n",
    "from sklearn.cluster import KMeans \n",
    "\n",
    "from scipy.stats import itemfreq, chisquare\n",
    "\n",
    "\n",
    "# magic word for producing visualizations in notebook\n",
    "%matplotlib inline\n",
    "\n",
    "'''\n",
    "Import note: The classroom currently uses sklearn version 0.19.\n",
    "If you need to use an imputer, it is available in sklearn.preprocessing.Imputer,\n",
    "instead of sklearn.impute as in newer versions of sklearn.\n",
    "'''"
   ]
  },
  {
   "cell_type": "code",
   "execution_count": 125,
   "metadata": {},
   "outputs": [],
   "source": [
    "import warnings\n",
    "warnings.filterwarnings('ignore')"
   ]
  },
  {
   "cell_type": "markdown",
   "metadata": {},
   "source": [
    "### Step 0: Load the Data\n",
    "\n",
    "There are four files associated with this project (not including this one):\n",
    "\n",
    "- `Udacity_AZDIAS_Subset.csv`: Demographics data for the general population of Germany; 891211 persons (rows) x 85 features (columns).\n",
    "- `Udacity_CUSTOMERS_Subset.csv`: Demographics data for customers of a mail-order company; 191652 persons (rows) x 85 features (columns).\n",
    "- `Data_Dictionary.md`: Detailed information file about the features in the provided datasets.\n",
    "- `AZDIAS_Feature_Summary.csv`: Summary of feature attributes for demographics data; 85 features (rows) x 4 columns\n",
    "\n",
    "Each row of the demographics files represents a single person, but also includes information outside of individuals, including information about their household, building, and neighborhood. You will use this information to cluster the general population into groups with similar demographic properties. Then, you will see how the people in the customers dataset fit into those created clusters. The hope here is that certain clusters are over-represented in the customers data, as compared to the general population; those over-represented clusters will be assumed to be part of the core userbase. This information can then be used for further applications, such as targeting for a marketing campaign.\n",
    "\n",
    "To start off with, load in the demographics data for the general population into a pandas DataFrame, and do the same for the feature attributes summary. Note for all of the `.csv` data files in this project: they're semicolon (`;`) delimited, so you'll need an additional argument in your [`read_csv()`](https://pandas.pydata.org/pandas-docs/stable/generated/pandas.read_csv.html) call to read in the data properly. Also, considering the size of the main dataset, it may take some time for it to load completely.\n",
    "\n",
    "Once the dataset is loaded, it's recommended that you take a little bit of time just browsing the general structure of the dataset and feature summary file. You'll be getting deep into the innards of the cleaning in the first major step of the project, so gaining some general familiarity can help you get your bearings."
   ]
  },
  {
   "cell_type": "code",
   "execution_count": 2,
   "metadata": {},
   "outputs": [],
   "source": [
    "# Load in the general demographics data.\n",
    "azdias = pd.read_csv('Udacity_AZDIAS_Subset.csv', sep=';')\n",
    "\n",
    "# Load in the feature summary file.\n",
    "feat_info = pd.read_csv('AZDIAS_Feature_Summary.csv', sep=';')"
   ]
  },
  {
   "cell_type": "code",
   "execution_count": 3,
   "metadata": {},
   "outputs": [
    {
     "data": {
      "text/plain": [
       "(891221, 85)"
      ]
     },
     "execution_count": 3,
     "metadata": {},
     "output_type": "execute_result"
    }
   ],
   "source": [
    "# Check the structure of the data after it's loaded (e.g. print the number of\n",
    "# rows and columns, print the first few rows).\n",
    "azdias.shape\n",
    "\n"
   ]
  },
  {
   "cell_type": "code",
   "execution_count": 4,
   "metadata": {},
   "outputs": [
    {
     "name": "stdout",
     "output_type": "stream",
     "text": [
      "<class 'pandas.core.frame.DataFrame'>\n",
      "RangeIndex: 891221 entries, 0 to 891220\n",
      "Data columns (total 85 columns):\n",
      "AGER_TYP                 891221 non-null int64\n",
      "ALTERSKATEGORIE_GROB     891221 non-null int64\n",
      "ANREDE_KZ                891221 non-null int64\n",
      "CJT_GESAMTTYP            886367 non-null float64\n",
      "FINANZ_MINIMALIST        891221 non-null int64\n",
      "FINANZ_SPARER            891221 non-null int64\n",
      "FINANZ_VORSORGER         891221 non-null int64\n",
      "FINANZ_ANLEGER           891221 non-null int64\n",
      "FINANZ_UNAUFFAELLIGER    891221 non-null int64\n",
      "FINANZ_HAUSBAUER         891221 non-null int64\n",
      "FINANZTYP                891221 non-null int64\n",
      "GEBURTSJAHR              891221 non-null int64\n",
      "GFK_URLAUBERTYP          886367 non-null float64\n",
      "GREEN_AVANTGARDE         891221 non-null int64\n",
      "HEALTH_TYP               891221 non-null int64\n",
      "LP_LEBENSPHASE_FEIN      886367 non-null float64\n",
      "LP_LEBENSPHASE_GROB      886367 non-null float64\n",
      "LP_FAMILIE_FEIN          886367 non-null float64\n",
      "LP_FAMILIE_GROB          886367 non-null float64\n",
      "LP_STATUS_FEIN           886367 non-null float64\n",
      "LP_STATUS_GROB           886367 non-null float64\n",
      "NATIONALITAET_KZ         891221 non-null int64\n",
      "PRAEGENDE_JUGENDJAHRE    891221 non-null int64\n",
      "RETOURTYP_BK_S           886367 non-null float64\n",
      "SEMIO_SOZ                891221 non-null int64\n",
      "SEMIO_FAM                891221 non-null int64\n",
      "SEMIO_REL                891221 non-null int64\n",
      "SEMIO_MAT                891221 non-null int64\n",
      "SEMIO_VERT               891221 non-null int64\n",
      "SEMIO_LUST               891221 non-null int64\n",
      "SEMIO_ERL                891221 non-null int64\n",
      "SEMIO_KULT               891221 non-null int64\n",
      "SEMIO_RAT                891221 non-null int64\n",
      "SEMIO_KRIT               891221 non-null int64\n",
      "SEMIO_DOM                891221 non-null int64\n",
      "SEMIO_KAEM               891221 non-null int64\n",
      "SEMIO_PFLICHT            891221 non-null int64\n",
      "SEMIO_TRADV              891221 non-null int64\n",
      "SHOPPER_TYP              891221 non-null int64\n",
      "SOHO_KZ                  817722 non-null float64\n",
      "TITEL_KZ                 817722 non-null float64\n",
      "VERS_TYP                 891221 non-null int64\n",
      "ZABEOTYP                 891221 non-null int64\n",
      "ALTER_HH                 817722 non-null float64\n",
      "ANZ_PERSONEN             817722 non-null float64\n",
      "ANZ_TITEL                817722 non-null float64\n",
      "HH_EINKOMMEN_SCORE       872873 non-null float64\n",
      "KK_KUNDENTYP             306609 non-null float64\n",
      "W_KEIT_KIND_HH           783619 non-null float64\n",
      "WOHNDAUER_2008           817722 non-null float64\n",
      "ANZ_HAUSHALTE_AKTIV      798073 non-null float64\n",
      "ANZ_HH_TITEL             794213 non-null float64\n",
      "GEBAEUDETYP              798073 non-null float64\n",
      "KONSUMNAEHE              817252 non-null float64\n",
      "MIN_GEBAEUDEJAHR         798073 non-null float64\n",
      "OST_WEST_KZ              798073 non-null object\n",
      "WOHNLAGE                 798073 non-null float64\n",
      "CAMEO_DEUG_2015          792242 non-null object\n",
      "CAMEO_DEU_2015           792242 non-null object\n",
      "CAMEO_INTL_2015          792242 non-null object\n",
      "KBA05_ANTG1              757897 non-null float64\n",
      "KBA05_ANTG2              757897 non-null float64\n",
      "KBA05_ANTG3              757897 non-null float64\n",
      "KBA05_ANTG4              757897 non-null float64\n",
      "KBA05_BAUMAX             757897 non-null float64\n",
      "KBA05_GBZ                757897 non-null float64\n",
      "BALLRAUM                 797481 non-null float64\n",
      "EWDICHTE                 797481 non-null float64\n",
      "INNENSTADT               797481 non-null float64\n",
      "GEBAEUDETYP_RASTER       798066 non-null float64\n",
      "KKK                      770025 non-null float64\n",
      "MOBI_REGIO               757897 non-null float64\n",
      "ONLINE_AFFINITAET        886367 non-null float64\n",
      "REGIOTYP                 770025 non-null float64\n",
      "KBA13_ANZAHL_PKW         785421 non-null float64\n",
      "PLZ8_ANTG1               774706 non-null float64\n",
      "PLZ8_ANTG2               774706 non-null float64\n",
      "PLZ8_ANTG3               774706 non-null float64\n",
      "PLZ8_ANTG4               774706 non-null float64\n",
      "PLZ8_BAUMAX              774706 non-null float64\n",
      "PLZ8_HHZ                 774706 non-null float64\n",
      "PLZ8_GBZ                 774706 non-null float64\n",
      "ARBEIT                   794005 non-null float64\n",
      "ORTSGR_KLS9              794005 non-null float64\n",
      "RELAT_AB                 794005 non-null float64\n",
      "dtypes: float64(49), int64(32), object(4)\n",
      "memory usage: 578.0+ MB\n"
     ]
    }
   ],
   "source": [
    "azdias.info()"
   ]
  },
  {
   "cell_type": "code",
   "execution_count": 5,
   "metadata": {},
   "outputs": [
    {
     "data": {
      "text/html": [
       "<div>\n",
       "<style scoped>\n",
       "    .dataframe tbody tr th:only-of-type {\n",
       "        vertical-align: middle;\n",
       "    }\n",
       "\n",
       "    .dataframe tbody tr th {\n",
       "        vertical-align: top;\n",
       "    }\n",
       "\n",
       "    .dataframe thead th {\n",
       "        text-align: right;\n",
       "    }\n",
       "</style>\n",
       "<table border=\"1\" class=\"dataframe\">\n",
       "  <thead>\n",
       "    <tr style=\"text-align: right;\">\n",
       "      <th></th>\n",
       "      <th>AGER_TYP</th>\n",
       "      <th>ALTERSKATEGORIE_GROB</th>\n",
       "      <th>ANREDE_KZ</th>\n",
       "      <th>CJT_GESAMTTYP</th>\n",
       "      <th>FINANZ_MINIMALIST</th>\n",
       "      <th>FINANZ_SPARER</th>\n",
       "      <th>FINANZ_VORSORGER</th>\n",
       "      <th>FINANZ_ANLEGER</th>\n",
       "      <th>FINANZ_UNAUFFAELLIGER</th>\n",
       "      <th>FINANZ_HAUSBAUER</th>\n",
       "      <th>...</th>\n",
       "      <th>PLZ8_ANTG1</th>\n",
       "      <th>PLZ8_ANTG2</th>\n",
       "      <th>PLZ8_ANTG3</th>\n",
       "      <th>PLZ8_ANTG4</th>\n",
       "      <th>PLZ8_BAUMAX</th>\n",
       "      <th>PLZ8_HHZ</th>\n",
       "      <th>PLZ8_GBZ</th>\n",
       "      <th>ARBEIT</th>\n",
       "      <th>ORTSGR_KLS9</th>\n",
       "      <th>RELAT_AB</th>\n",
       "    </tr>\n",
       "  </thead>\n",
       "  <tbody>\n",
       "    <tr>\n",
       "      <th>0</th>\n",
       "      <td>-1</td>\n",
       "      <td>2</td>\n",
       "      <td>1</td>\n",
       "      <td>2.0</td>\n",
       "      <td>3</td>\n",
       "      <td>4</td>\n",
       "      <td>3</td>\n",
       "      <td>5</td>\n",
       "      <td>5</td>\n",
       "      <td>3</td>\n",
       "      <td>...</td>\n",
       "      <td>NaN</td>\n",
       "      <td>NaN</td>\n",
       "      <td>NaN</td>\n",
       "      <td>NaN</td>\n",
       "      <td>NaN</td>\n",
       "      <td>NaN</td>\n",
       "      <td>NaN</td>\n",
       "      <td>NaN</td>\n",
       "      <td>NaN</td>\n",
       "      <td>NaN</td>\n",
       "    </tr>\n",
       "    <tr>\n",
       "      <th>1</th>\n",
       "      <td>-1</td>\n",
       "      <td>1</td>\n",
       "      <td>2</td>\n",
       "      <td>5.0</td>\n",
       "      <td>1</td>\n",
       "      <td>5</td>\n",
       "      <td>2</td>\n",
       "      <td>5</td>\n",
       "      <td>4</td>\n",
       "      <td>5</td>\n",
       "      <td>...</td>\n",
       "      <td>2.0</td>\n",
       "      <td>3.0</td>\n",
       "      <td>2.0</td>\n",
       "      <td>1.0</td>\n",
       "      <td>1.0</td>\n",
       "      <td>5.0</td>\n",
       "      <td>4.0</td>\n",
       "      <td>3.0</td>\n",
       "      <td>5.0</td>\n",
       "      <td>4.0</td>\n",
       "    </tr>\n",
       "    <tr>\n",
       "      <th>2</th>\n",
       "      <td>-1</td>\n",
       "      <td>3</td>\n",
       "      <td>2</td>\n",
       "      <td>3.0</td>\n",
       "      <td>1</td>\n",
       "      <td>4</td>\n",
       "      <td>1</td>\n",
       "      <td>2</td>\n",
       "      <td>3</td>\n",
       "      <td>5</td>\n",
       "      <td>...</td>\n",
       "      <td>3.0</td>\n",
       "      <td>3.0</td>\n",
       "      <td>1.0</td>\n",
       "      <td>0.0</td>\n",
       "      <td>1.0</td>\n",
       "      <td>4.0</td>\n",
       "      <td>4.0</td>\n",
       "      <td>3.0</td>\n",
       "      <td>5.0</td>\n",
       "      <td>2.0</td>\n",
       "    </tr>\n",
       "    <tr>\n",
       "      <th>3</th>\n",
       "      <td>2</td>\n",
       "      <td>4</td>\n",
       "      <td>2</td>\n",
       "      <td>2.0</td>\n",
       "      <td>4</td>\n",
       "      <td>2</td>\n",
       "      <td>5</td>\n",
       "      <td>2</td>\n",
       "      <td>1</td>\n",
       "      <td>2</td>\n",
       "      <td>...</td>\n",
       "      <td>2.0</td>\n",
       "      <td>2.0</td>\n",
       "      <td>2.0</td>\n",
       "      <td>0.0</td>\n",
       "      <td>1.0</td>\n",
       "      <td>3.0</td>\n",
       "      <td>4.0</td>\n",
       "      <td>2.0</td>\n",
       "      <td>3.0</td>\n",
       "      <td>3.0</td>\n",
       "    </tr>\n",
       "    <tr>\n",
       "      <th>4</th>\n",
       "      <td>-1</td>\n",
       "      <td>3</td>\n",
       "      <td>1</td>\n",
       "      <td>5.0</td>\n",
       "      <td>4</td>\n",
       "      <td>3</td>\n",
       "      <td>4</td>\n",
       "      <td>1</td>\n",
       "      <td>3</td>\n",
       "      <td>2</td>\n",
       "      <td>...</td>\n",
       "      <td>2.0</td>\n",
       "      <td>4.0</td>\n",
       "      <td>2.0</td>\n",
       "      <td>1.0</td>\n",
       "      <td>2.0</td>\n",
       "      <td>3.0</td>\n",
       "      <td>3.0</td>\n",
       "      <td>4.0</td>\n",
       "      <td>6.0</td>\n",
       "      <td>5.0</td>\n",
       "    </tr>\n",
       "  </tbody>\n",
       "</table>\n",
       "<p>5 rows × 85 columns</p>\n",
       "</div>"
      ],
      "text/plain": [
       "   AGER_TYP  ALTERSKATEGORIE_GROB  ANREDE_KZ  CJT_GESAMTTYP  \\\n",
       "0        -1                     2          1            2.0   \n",
       "1        -1                     1          2            5.0   \n",
       "2        -1                     3          2            3.0   \n",
       "3         2                     4          2            2.0   \n",
       "4        -1                     3          1            5.0   \n",
       "\n",
       "   FINANZ_MINIMALIST  FINANZ_SPARER  FINANZ_VORSORGER  FINANZ_ANLEGER  \\\n",
       "0                  3              4                 3               5   \n",
       "1                  1              5                 2               5   \n",
       "2                  1              4                 1               2   \n",
       "3                  4              2                 5               2   \n",
       "4                  4              3                 4               1   \n",
       "\n",
       "   FINANZ_UNAUFFAELLIGER  FINANZ_HAUSBAUER    ...     PLZ8_ANTG1  PLZ8_ANTG2  \\\n",
       "0                      5                 3    ...            NaN         NaN   \n",
       "1                      4                 5    ...            2.0         3.0   \n",
       "2                      3                 5    ...            3.0         3.0   \n",
       "3                      1                 2    ...            2.0         2.0   \n",
       "4                      3                 2    ...            2.0         4.0   \n",
       "\n",
       "   PLZ8_ANTG3  PLZ8_ANTG4  PLZ8_BAUMAX  PLZ8_HHZ  PLZ8_GBZ  ARBEIT  \\\n",
       "0         NaN         NaN          NaN       NaN       NaN     NaN   \n",
       "1         2.0         1.0          1.0       5.0       4.0     3.0   \n",
       "2         1.0         0.0          1.0       4.0       4.0     3.0   \n",
       "3         2.0         0.0          1.0       3.0       4.0     2.0   \n",
       "4         2.0         1.0          2.0       3.0       3.0     4.0   \n",
       "\n",
       "   ORTSGR_KLS9  RELAT_AB  \n",
       "0          NaN       NaN  \n",
       "1          5.0       4.0  \n",
       "2          5.0       2.0  \n",
       "3          3.0       3.0  \n",
       "4          6.0       5.0  \n",
       "\n",
       "[5 rows x 85 columns]"
      ]
     },
     "execution_count": 5,
     "metadata": {},
     "output_type": "execute_result"
    }
   ],
   "source": [
    "azdias.head()"
   ]
  },
  {
   "cell_type": "code",
   "execution_count": 6,
   "metadata": {},
   "outputs": [
    {
     "data": {
      "text/plain": [
       "(85, 4)"
      ]
     },
     "execution_count": 6,
     "metadata": {},
     "output_type": "execute_result"
    }
   ],
   "source": [
    "feat_info.shape"
   ]
  },
  {
   "cell_type": "code",
   "execution_count": 7,
   "metadata": {},
   "outputs": [
    {
     "data": {
      "text/plain": [
       "array(['categorical', 'ordinal', 'numeric', 'mixed', 'interval'], dtype=object)"
      ]
     },
     "execution_count": 7,
     "metadata": {},
     "output_type": "execute_result"
    }
   ],
   "source": [
    "feat_info['type'].unique()"
   ]
  },
  {
   "cell_type": "code",
   "execution_count": 8,
   "metadata": {},
   "outputs": [
    {
     "data": {
      "text/html": [
       "<div>\n",
       "<style scoped>\n",
       "    .dataframe tbody tr th:only-of-type {\n",
       "        vertical-align: middle;\n",
       "    }\n",
       "\n",
       "    .dataframe tbody tr th {\n",
       "        vertical-align: top;\n",
       "    }\n",
       "\n",
       "    .dataframe thead th {\n",
       "        text-align: right;\n",
       "    }\n",
       "</style>\n",
       "<table border=\"1\" class=\"dataframe\">\n",
       "  <thead>\n",
       "    <tr style=\"text-align: right;\">\n",
       "      <th></th>\n",
       "      <th>attribute</th>\n",
       "      <th>information_level</th>\n",
       "      <th>type</th>\n",
       "      <th>missing_or_unknown</th>\n",
       "    </tr>\n",
       "  </thead>\n",
       "  <tbody>\n",
       "    <tr>\n",
       "      <th>11</th>\n",
       "      <td>GEBURTSJAHR</td>\n",
       "      <td>person</td>\n",
       "      <td>numeric</td>\n",
       "      <td>[0]</td>\n",
       "    </tr>\n",
       "    <tr>\n",
       "      <th>44</th>\n",
       "      <td>ANZ_PERSONEN</td>\n",
       "      <td>household</td>\n",
       "      <td>numeric</td>\n",
       "      <td>[]</td>\n",
       "    </tr>\n",
       "    <tr>\n",
       "      <th>45</th>\n",
       "      <td>ANZ_TITEL</td>\n",
       "      <td>household</td>\n",
       "      <td>numeric</td>\n",
       "      <td>[]</td>\n",
       "    </tr>\n",
       "    <tr>\n",
       "      <th>50</th>\n",
       "      <td>ANZ_HAUSHALTE_AKTIV</td>\n",
       "      <td>building</td>\n",
       "      <td>numeric</td>\n",
       "      <td>[0]</td>\n",
       "    </tr>\n",
       "    <tr>\n",
       "      <th>51</th>\n",
       "      <td>ANZ_HH_TITEL</td>\n",
       "      <td>building</td>\n",
       "      <td>numeric</td>\n",
       "      <td>[]</td>\n",
       "    </tr>\n",
       "  </tbody>\n",
       "</table>\n",
       "</div>"
      ],
      "text/plain": [
       "              attribute information_level     type missing_or_unknown\n",
       "11          GEBURTSJAHR            person  numeric                [0]\n",
       "44         ANZ_PERSONEN         household  numeric                 []\n",
       "45            ANZ_TITEL         household  numeric                 []\n",
       "50  ANZ_HAUSHALTE_AKTIV          building  numeric                [0]\n",
       "51         ANZ_HH_TITEL          building  numeric                 []"
      ]
     },
     "execution_count": 8,
     "metadata": {},
     "output_type": "execute_result"
    }
   ],
   "source": [
    "feat_info.loc[feat_info['type'] == 'numeric'].head()"
   ]
  },
  {
   "cell_type": "code",
   "execution_count": 9,
   "metadata": {},
   "outputs": [
    {
     "data": {
      "text/plain": [
       "array([ nan,   0.,   1.,   2.,   4.,   3.,   6.])"
      ]
     },
     "execution_count": 9,
     "metadata": {},
     "output_type": "execute_result"
    }
   ],
   "source": [
    "azdias['ANZ_TITEL'].unique()"
   ]
  },
  {
   "cell_type": "code",
   "execution_count": 10,
   "metadata": {},
   "outputs": [
    {
     "name": "stdout",
     "output_type": "stream",
     "text": [
      "num of features with type: categorical = 21\n",
      "num of features with type: ordinal = 49\n",
      "num of features with type: numeric = 7\n",
      "num of features with type: mixed = 7\n",
      "num of features with type: interval = 1\n"
     ]
    }
   ],
   "source": [
    "for feat_type in feat_info['type'].unique():\n",
    "    print('num of features with type: {} = {}'.format(feat_type, feat_info.loc[feat_info['type'] == feat_type].shape[0]))"
   ]
  },
  {
   "cell_type": "code",
   "execution_count": 11,
   "metadata": {},
   "outputs": [
    {
     "data": {
      "text/plain": [
       "AGER_TYP                      0\n",
       "ALTERSKATEGORIE_GROB          0\n",
       "ANREDE_KZ                     0\n",
       "CJT_GESAMTTYP              4854\n",
       "FINANZ_MINIMALIST             0\n",
       "FINANZ_SPARER                 0\n",
       "FINANZ_VORSORGER              0\n",
       "FINANZ_ANLEGER                0\n",
       "FINANZ_UNAUFFAELLIGER         0\n",
       "FINANZ_HAUSBAUER              0\n",
       "FINANZTYP                     0\n",
       "GEBURTSJAHR                   0\n",
       "GFK_URLAUBERTYP            4854\n",
       "GREEN_AVANTGARDE              0\n",
       "HEALTH_TYP                    0\n",
       "LP_LEBENSPHASE_FEIN        4854\n",
       "LP_LEBENSPHASE_GROB        4854\n",
       "LP_FAMILIE_FEIN            4854\n",
       "LP_FAMILIE_GROB            4854\n",
       "LP_STATUS_FEIN             4854\n",
       "LP_STATUS_GROB             4854\n",
       "NATIONALITAET_KZ              0\n",
       "PRAEGENDE_JUGENDJAHRE         0\n",
       "RETOURTYP_BK_S             4854\n",
       "SEMIO_SOZ                     0\n",
       "SEMIO_FAM                     0\n",
       "SEMIO_REL                     0\n",
       "SEMIO_MAT                     0\n",
       "SEMIO_VERT                    0\n",
       "SEMIO_LUST                    0\n",
       "                          ...  \n",
       "OST_WEST_KZ               93148\n",
       "WOHNLAGE                  93148\n",
       "CAMEO_DEUG_2015           98979\n",
       "CAMEO_DEU_2015            98979\n",
       "CAMEO_INTL_2015           98979\n",
       "KBA05_ANTG1              133324\n",
       "KBA05_ANTG2              133324\n",
       "KBA05_ANTG3              133324\n",
       "KBA05_ANTG4              133324\n",
       "KBA05_BAUMAX             133324\n",
       "KBA05_GBZ                133324\n",
       "BALLRAUM                  93740\n",
       "EWDICHTE                  93740\n",
       "INNENSTADT                93740\n",
       "GEBAEUDETYP_RASTER        93155\n",
       "KKK                      121196\n",
       "MOBI_REGIO               133324\n",
       "ONLINE_AFFINITAET          4854\n",
       "REGIOTYP                 121196\n",
       "KBA13_ANZAHL_PKW         105800\n",
       "PLZ8_ANTG1               116515\n",
       "PLZ8_ANTG2               116515\n",
       "PLZ8_ANTG3               116515\n",
       "PLZ8_ANTG4               116515\n",
       "PLZ8_BAUMAX              116515\n",
       "PLZ8_HHZ                 116515\n",
       "PLZ8_GBZ                 116515\n",
       "ARBEIT                    97216\n",
       "ORTSGR_KLS9               97216\n",
       "RELAT_AB                  97216\n",
       "Length: 85, dtype: int64"
      ]
     },
     "execution_count": 11,
     "metadata": {},
     "output_type": "execute_result"
    }
   ],
   "source": [
    "azdias.isnull().sum()"
   ]
  },
  {
   "cell_type": "markdown",
   "metadata": {},
   "source": [
    "> **Tip**: Add additional cells to keep everything in reasonably-sized chunks! Keyboard shortcut `esc --> a` (press escape to enter command mode, then press the 'A' key) adds a new cell before the active cell, and `esc --> b` adds a new cell after the active cell. If you need to convert an active cell to a markdown cell, use `esc --> m` and to convert to a code cell, use `esc --> y`. \n",
    "\n",
    "## Step 1: Preprocessing\n",
    "\n",
    "### Step 1.1: Assess Missing Data\n",
    "\n",
    "The feature summary file contains a summary of properties for each demographics data column. You will use this file to help you make cleaning decisions during this stage of the project. First of all, you should assess the demographics data in terms of missing data. Pay attention to the following points as you perform your analysis, and take notes on what you observe. Make sure that you fill in the **Discussion** cell with your findings and decisions at the end of each step that has one!\n",
    "\n",
    "#### Step 1.1.1: Convert Missing Value Codes to NaNs\n",
    "The fourth column of the feature attributes summary (loaded in above as `feat_info`) documents the codes from the data dictionary that indicate missing or unknown data. While the file encodes this as a list (e.g. `[-1,0]`), this will get read in as a string object. You'll need to do a little bit of parsing to make use of it to identify and clean the data. Convert data that matches a 'missing' or 'unknown' value code into a numpy NaN value. You might want to see how much data takes on a 'missing' or 'unknown' code, and how much data is naturally missing, as a point of interest.\n",
    "\n",
    "**As one more reminder, you are encouraged to add additional cells to break up your analysis into manageable chunks.**"
   ]
  },
  {
   "cell_type": "code",
   "execution_count": 12,
   "metadata": {},
   "outputs": [
    {
     "data": {
      "text/plain": [
       "array(['[-1,0]', '[-1,0,9]', '[0]', '[-1]', '[]', '[-1,9]', '[-1,X]',\n",
       "       '[XX]', '[-1,XX]'], dtype=object)"
      ]
     },
     "execution_count": 12,
     "metadata": {},
     "output_type": "execute_result"
    }
   ],
   "source": [
    "# unique values of missing_or_unknown column in feat_info file\n",
    "feat_info['missing_or_unknown'].unique()"
   ]
  },
  {
   "cell_type": "code",
   "execution_count": 13,
   "metadata": {},
   "outputs": [],
   "source": [
    "# parse string to list of missing values\n",
    "def parse_to_list(string):\n",
    "    values = string[1:-1].split(',')\n",
    "    return [int(i) if i and not i.isalpha() else i.strip() for i in values ]"
   ]
  },
  {
   "cell_type": "code",
   "execution_count": 14,
   "metadata": {},
   "outputs": [
    {
     "name": "stdout",
     "output_type": "stream",
     "text": [
      "[-1, 'XX']\n",
      "[-1, 0, 9]\n"
     ]
    }
   ],
   "source": [
    "print(parse_to_list('[-1,XX]'))\n",
    "print(parse_to_list('[-1,0,9]'))"
   ]
  },
  {
   "cell_type": "code",
   "execution_count": 15,
   "metadata": {},
   "outputs": [],
   "source": [
    "# convert missing_or_unknown column to list\n",
    "feat_info['missing_or_unknown'] = feat_info['missing_or_unknown'].apply(parse_to_list)"
   ]
  },
  {
   "cell_type": "code",
   "execution_count": 16,
   "metadata": {},
   "outputs": [],
   "source": [
    "# create a dict for features and corresponding missing values \n",
    "missing_data_dict = dict(zip(feat_info['attribute'], feat_info['missing_or_unknown']))"
   ]
  },
  {
   "cell_type": "code",
   "execution_count": 17,
   "metadata": {},
   "outputs": [
    {
     "data": {
      "text/plain": [
       "{'AGER_TYP': [-1, 0],\n",
       " 'ALTERSKATEGORIE_GROB': [-1, 0, 9],\n",
       " 'ANREDE_KZ': [-1, 0],\n",
       " 'CJT_GESAMTTYP': [0],\n",
       " 'FINANZ_MINIMALIST': [-1],\n",
       " 'FINANZ_SPARER': [-1],\n",
       " 'FINANZ_VORSORGER': [-1],\n",
       " 'FINANZ_ANLEGER': [-1],\n",
       " 'FINANZ_UNAUFFAELLIGER': [-1],\n",
       " 'FINANZ_HAUSBAUER': [-1],\n",
       " 'FINANZTYP': [-1],\n",
       " 'GEBURTSJAHR': [0],\n",
       " 'GFK_URLAUBERTYP': [''],\n",
       " 'GREEN_AVANTGARDE': [''],\n",
       " 'HEALTH_TYP': [-1, 0],\n",
       " 'LP_LEBENSPHASE_FEIN': [0],\n",
       " 'LP_LEBENSPHASE_GROB': [0],\n",
       " 'LP_FAMILIE_FEIN': [0],\n",
       " 'LP_FAMILIE_GROB': [0],\n",
       " 'LP_STATUS_FEIN': [0],\n",
       " 'LP_STATUS_GROB': [0],\n",
       " 'NATIONALITAET_KZ': [-1, 0],\n",
       " 'PRAEGENDE_JUGENDJAHRE': [-1, 0],\n",
       " 'RETOURTYP_BK_S': [0],\n",
       " 'SEMIO_SOZ': [-1, 9],\n",
       " 'SEMIO_FAM': [-1, 9],\n",
       " 'SEMIO_REL': [-1, 9],\n",
       " 'SEMIO_MAT': [-1, 9],\n",
       " 'SEMIO_VERT': [-1, 9],\n",
       " 'SEMIO_LUST': [-1, 9],\n",
       " 'SEMIO_ERL': [-1, 9],\n",
       " 'SEMIO_KULT': [-1, 9],\n",
       " 'SEMIO_RAT': [-1, 9],\n",
       " 'SEMIO_KRIT': [-1, 9],\n",
       " 'SEMIO_DOM': [-1, 9],\n",
       " 'SEMIO_KAEM': [-1, 9],\n",
       " 'SEMIO_PFLICHT': [-1, 9],\n",
       " 'SEMIO_TRADV': [-1, 9],\n",
       " 'SHOPPER_TYP': [-1],\n",
       " 'SOHO_KZ': [-1],\n",
       " 'TITEL_KZ': [-1, 0],\n",
       " 'VERS_TYP': [-1],\n",
       " 'ZABEOTYP': [-1, 9],\n",
       " 'ALTER_HH': [0],\n",
       " 'ANZ_PERSONEN': [''],\n",
       " 'ANZ_TITEL': [''],\n",
       " 'HH_EINKOMMEN_SCORE': [-1, 0],\n",
       " 'KK_KUNDENTYP': [-1],\n",
       " 'W_KEIT_KIND_HH': [-1, 0],\n",
       " 'WOHNDAUER_2008': [-1, 0],\n",
       " 'ANZ_HAUSHALTE_AKTIV': [0],\n",
       " 'ANZ_HH_TITEL': [''],\n",
       " 'GEBAEUDETYP': [-1, 0],\n",
       " 'KONSUMNAEHE': [''],\n",
       " 'MIN_GEBAEUDEJAHR': [0],\n",
       " 'OST_WEST_KZ': [-1],\n",
       " 'WOHNLAGE': [-1],\n",
       " 'CAMEO_DEUG_2015': [-1, 'X'],\n",
       " 'CAMEO_DEU_2015': ['XX'],\n",
       " 'CAMEO_INTL_2015': [-1, 'XX'],\n",
       " 'KBA05_ANTG1': [-1],\n",
       " 'KBA05_ANTG2': [-1],\n",
       " 'KBA05_ANTG3': [-1],\n",
       " 'KBA05_ANTG4': [-1],\n",
       " 'KBA05_BAUMAX': [-1, 0],\n",
       " 'KBA05_GBZ': [-1, 0],\n",
       " 'BALLRAUM': [-1],\n",
       " 'EWDICHTE': [-1],\n",
       " 'INNENSTADT': [-1],\n",
       " 'GEBAEUDETYP_RASTER': [''],\n",
       " 'KKK': [-1, 0],\n",
       " 'MOBI_REGIO': [''],\n",
       " 'ONLINE_AFFINITAET': [''],\n",
       " 'REGIOTYP': [-1, 0],\n",
       " 'KBA13_ANZAHL_PKW': [''],\n",
       " 'PLZ8_ANTG1': [-1],\n",
       " 'PLZ8_ANTG2': [-1],\n",
       " 'PLZ8_ANTG3': [-1],\n",
       " 'PLZ8_ANTG4': [-1],\n",
       " 'PLZ8_BAUMAX': [-1, 0],\n",
       " 'PLZ8_HHZ': [-1],\n",
       " 'PLZ8_GBZ': [-1],\n",
       " 'ARBEIT': [-1, 9],\n",
       " 'ORTSGR_KLS9': [-1, 0],\n",
       " 'RELAT_AB': [-1, 9]}"
      ]
     },
     "execution_count": 17,
     "metadata": {},
     "output_type": "execute_result"
    }
   ],
   "source": [
    "missing_data_dict"
   ]
  },
  {
   "cell_type": "code",
   "execution_count": 18,
   "metadata": {},
   "outputs": [
    {
     "name": "stdout",
     "output_type": "stream",
     "text": [
      "AGER_TYP\n",
      "nans before:  0\n",
      "nans after:  685843\n",
      "--------------------\n",
      "ALTERSKATEGORIE_GROB\n",
      "nans before:  0\n",
      "nans after:  2881\n",
      "--------------------\n",
      "GEBURTSJAHR\n",
      "nans before:  0\n",
      "nans after:  392318\n",
      "--------------------\n",
      "HEALTH_TYP\n",
      "nans before:  0\n",
      "nans after:  111196\n",
      "--------------------\n",
      "LP_LEBENSPHASE_FEIN\n",
      "nans before:  4854\n",
      "nans after:  97632\n",
      "--------------------\n",
      "LP_LEBENSPHASE_GROB\n",
      "nans before:  4854\n",
      "nans after:  94572\n",
      "--------------------\n",
      "LP_FAMILIE_FEIN\n",
      "nans before:  4854\n",
      "nans after:  77792\n",
      "--------------------\n",
      "LP_FAMILIE_GROB\n",
      "nans before:  4854\n",
      "nans after:  77792\n",
      "--------------------\n",
      "NATIONALITAET_KZ\n",
      "nans before:  0\n",
      "nans after:  108315\n",
      "--------------------\n",
      "PRAEGENDE_JUGENDJAHRE\n",
      "nans before:  0\n",
      "nans after:  108164\n",
      "--------------------\n",
      "SHOPPER_TYP\n",
      "nans before:  0\n",
      "nans after:  111196\n",
      "--------------------\n",
      "TITEL_KZ\n",
      "nans before:  73499\n",
      "nans after:  889061\n",
      "--------------------\n",
      "VERS_TYP\n",
      "nans before:  0\n",
      "nans after:  111196\n",
      "--------------------\n",
      "ALTER_HH\n",
      "nans before:  73499\n",
      "nans after:  310267\n",
      "--------------------\n",
      "W_KEIT_KIND_HH\n",
      "nans before:  107602\n",
      "nans after:  147988\n",
      "--------------------\n",
      "ANZ_HAUSHALTE_AKTIV\n",
      "nans before:  93148\n",
      "nans after:  99611\n",
      "--------------------\n",
      "CAMEO_DEUG_2015\n",
      "nans before:  98979\n",
      "nans after:  99352\n",
      "--------------------\n",
      "CAMEO_DEU_2015\n",
      "nans before:  98979\n",
      "nans after:  99352\n",
      "--------------------\n",
      "CAMEO_INTL_2015\n",
      "nans before:  98979\n",
      "nans after:  99352\n",
      "--------------------\n",
      "KBA05_BAUMAX\n",
      "nans before:  133324\n",
      "nans after:  476524\n",
      "--------------------\n",
      "KKK\n",
      "nans before:  121196\n",
      "nans after:  158064\n",
      "--------------------\n",
      "REGIOTYP\n",
      "nans before:  121196\n",
      "nans after:  158064\n",
      "--------------------\n",
      "ARBEIT\n",
      "nans before:  97216\n",
      "nans after:  97375\n",
      "--------------------\n",
      "ORTSGR_KLS9\n",
      "nans before:  97216\n",
      "nans after:  97274\n",
      "--------------------\n",
      "RELAT_AB\n",
      "nans before:  97216\n",
      "nans after:  97375\n",
      "--------------------\n"
     ]
    }
   ],
   "source": [
    "# Convert to nans using the missing_data_dict\n",
    "for col in missing_data_dict.keys():\n",
    "    nans_before = azdias[col].isnull().sum()\n",
    "    azdias.loc[azdias[col].isin(missing_data_dict[col]), col] = np.nan\n",
    "    nans_after = azdias[col].isnull().sum()\n",
    "    if nans_after != nans_before:\n",
    "        print(col)\n",
    "        print('nans before: ', nans_before)\n",
    "        print('nans after: ', nans_after)\n",
    "        print('-'*20)\n"
   ]
  },
  {
   "cell_type": "markdown",
   "metadata": {},
   "source": [
    "#### Step 1.1.2: Assess Missing Data in Each Column\n",
    "\n",
    "How much missing data is present in each column? There are a few columns that are outliers in terms of the proportion of values that are missing. You will want to use matplotlib's [`hist()`](https://matplotlib.org/api/_as_gen/matplotlib.pyplot.hist.html) function to visualize the distribution of missing value counts to find these columns. Identify and document these columns. While some of these columns might have justifications for keeping or re-encoding the data, for this project you should just remove them from the dataframe. (Feel free to make remarks about these outlier columns in the discussion, however!)\n",
    "\n",
    "For the remaining features, are there any patterns in which columns have, or share, missing data?"
   ]
  },
  {
   "cell_type": "code",
   "execution_count": 19,
   "metadata": {},
   "outputs": [
    {
     "data": {
      "text/plain": [
       "TITEL_KZ          0.997576\n",
       "AGER_TYP          0.769554\n",
       "KK_KUNDENTYP      0.655967\n",
       "KBA05_BAUMAX      0.534687\n",
       "GEBURTSJAHR       0.440203\n",
       "ALTER_HH          0.348137\n",
       "REGIOTYP          0.177357\n",
       "KKK               0.177357\n",
       "W_KEIT_KIND_HH    0.166051\n",
       "KBA05_ANTG4       0.149597\n",
       "KBA05_GBZ         0.149597\n",
       "MOBI_REGIO        0.149597\n",
       "KBA05_ANTG1       0.149597\n",
       "KBA05_ANTG2       0.149597\n",
       "KBA05_ANTG3       0.149597\n",
       "PLZ8_GBZ          0.130736\n",
       "PLZ8_HHZ          0.130736\n",
       "PLZ8_BAUMAX       0.130736\n",
       "PLZ8_ANTG4        0.130736\n",
       "PLZ8_ANTG1        0.130736\n",
       "PLZ8_ANTG3        0.130736\n",
       "PLZ8_ANTG2        0.130736\n",
       "SHOPPER_TYP       0.124768\n",
       "VERS_TYP          0.124768\n",
       "HEALTH_TYP        0.124768\n",
       "dtype: float64"
      ]
     },
     "execution_count": 19,
     "metadata": {},
     "output_type": "execute_result"
    }
   ],
   "source": [
    "# Perform an assessment of how much missing data there is in each column of the dataset.\n",
    "feat_nan_pct = (azdias.isnull().mean()).sort_values(ascending=False)\n",
    "feat_nan_pct[:25]"
   ]
  },
  {
   "cell_type": "code",
   "execution_count": 20,
   "metadata": {},
   "outputs": [
    {
     "data": {
      "text/html": [
       "<div>\n",
       "<style scoped>\n",
       "    .dataframe tbody tr th:only-of-type {\n",
       "        vertical-align: middle;\n",
       "    }\n",
       "\n",
       "    .dataframe tbody tr th {\n",
       "        vertical-align: top;\n",
       "    }\n",
       "\n",
       "    .dataframe thead th {\n",
       "        text-align: right;\n",
       "    }\n",
       "</style>\n",
       "<table border=\"1\" class=\"dataframe\">\n",
       "  <thead>\n",
       "    <tr style=\"text-align: right;\">\n",
       "      <th></th>\n",
       "      <th>feature</th>\n",
       "      <th>miss_pct</th>\n",
       "      <th>information_level</th>\n",
       "      <th>type</th>\n",
       "    </tr>\n",
       "  </thead>\n",
       "  <tbody>\n",
       "    <tr>\n",
       "      <th>0</th>\n",
       "      <td>TITEL_KZ</td>\n",
       "      <td>0.997576</td>\n",
       "      <td>person</td>\n",
       "      <td>categorical</td>\n",
       "    </tr>\n",
       "    <tr>\n",
       "      <th>1</th>\n",
       "      <td>AGER_TYP</td>\n",
       "      <td>0.769554</td>\n",
       "      <td>person</td>\n",
       "      <td>ordinal</td>\n",
       "    </tr>\n",
       "  </tbody>\n",
       "</table>\n",
       "</div>"
      ],
      "text/plain": [
       "    feature  miss_pct information_level         type\n",
       "0  TITEL_KZ  0.997576            person  categorical\n",
       "1  AGER_TYP  0.769554            person      ordinal"
      ]
     },
     "execution_count": 20,
     "metadata": {},
     "output_type": "execute_result"
    }
   ],
   "source": [
    "col_miss_df = feat_nan_pct.to_frame()\n",
    "col_miss_df.reset_index(level=0, inplace=True)\n",
    "col_miss_df.columns = ['feature','miss_pct']\n",
    "col_miss_df['information_level'] = feat_info['information_level']\n",
    "col_miss_df['type'] = feat_info['type']\n",
    "col_miss_df.head(2)"
   ]
  },
  {
   "cell_type": "code",
   "execution_count": 21,
   "metadata": {},
   "outputs": [
    {
     "data": {
      "text/plain": [
       "24"
      ]
     },
     "execution_count": 21,
     "metadata": {},
     "output_type": "execute_result"
    }
   ],
   "source": [
    "# num of features don't have nans\n",
    "col_miss_df[col_miss_df['miss_pct'] == 0].shape[0]"
   ]
  },
  {
   "cell_type": "code",
   "execution_count": 22,
   "metadata": {},
   "outputs": [
    {
     "data": {
      "image/png": "[encoded data removed]",
      "text/plain": [
       "<matplotlib.figure.Figure at 0x7f8e3a9f2048>"
      ]
     },
     "metadata": {
      "needs_background": "light"
     },
     "output_type": "display_data"
    }
   ],
   "source": [
    "# plot histgram to visualize distribution of missing rate\n",
    "col_miss_df.hist();"
   ]
  },
  {
   "cell_type": "code",
   "execution_count": 23,
   "metadata": {},
   "outputs": [
    {
     "data": {
      "image/png": "[encoded data removed]",
      "text/plain": [
       "<matplotlib.figure.Figure at 0x7f8e388b29b0>"
      ]
     },
     "metadata": {
      "needs_background": "light"
     },
     "output_type": "display_data"
    }
   ],
   "source": [
    "sns.boxplot(col_miss_df['miss_pct']);"
   ]
  },
  {
   "cell_type": "code",
   "execution_count": 24,
   "metadata": {},
   "outputs": [
    {
     "data": {
      "text/plain": [
       "6"
      ]
     },
     "execution_count": 24,
     "metadata": {},
     "output_type": "execute_result"
    }
   ],
   "source": [
    "# Features with the higher NaN values\n",
    "col_miss_df[col_miss_df['miss_pct']>0.2].shape[0]"
   ]
  },
  {
   "cell_type": "code",
   "execution_count": 25,
   "metadata": {},
   "outputs": [
    {
     "data": {
      "text/plain": [
       "24"
      ]
     },
     "execution_count": 25,
     "metadata": {},
     "output_type": "execute_result"
    }
   ],
   "source": [
    "col_miss_df[col_miss_df['miss_pct']==0].shape[0]"
   ]
  },
  {
   "cell_type": "code",
   "execution_count": 26,
   "metadata": {},
   "outputs": [
    {
     "data": {
      "text/html": [
       "<div>\n",
       "<style scoped>\n",
       "    .dataframe tbody tr th:only-of-type {\n",
       "        vertical-align: middle;\n",
       "    }\n",
       "\n",
       "    .dataframe tbody tr th {\n",
       "        vertical-align: top;\n",
       "    }\n",
       "\n",
       "    .dataframe thead th {\n",
       "        text-align: right;\n",
       "    }\n",
       "</style>\n",
       "<table border=\"1\" class=\"dataframe\">\n",
       "  <thead>\n",
       "    <tr style=\"text-align: right;\">\n",
       "      <th></th>\n",
       "      <th>feature</th>\n",
       "      <th>miss_pct</th>\n",
       "      <th>information_level</th>\n",
       "      <th>type</th>\n",
       "      <th>nan_degree</th>\n",
       "    </tr>\n",
       "  </thead>\n",
       "  <tbody>\n",
       "    <tr>\n",
       "      <th>0</th>\n",
       "      <td>TITEL_KZ</td>\n",
       "      <td>0.997576</td>\n",
       "      <td>person</td>\n",
       "      <td>categorical</td>\n",
       "      <td>high</td>\n",
       "    </tr>\n",
       "    <tr>\n",
       "      <th>1</th>\n",
       "      <td>AGER_TYP</td>\n",
       "      <td>0.769554</td>\n",
       "      <td>person</td>\n",
       "      <td>ordinal</td>\n",
       "      <td>high</td>\n",
       "    </tr>\n",
       "    <tr>\n",
       "      <th>2</th>\n",
       "      <td>KK_KUNDENTYP</td>\n",
       "      <td>0.655967</td>\n",
       "      <td>person</td>\n",
       "      <td>categorical</td>\n",
       "      <td>high</td>\n",
       "    </tr>\n",
       "    <tr>\n",
       "      <th>3</th>\n",
       "      <td>KBA05_BAUMAX</td>\n",
       "      <td>0.534687</td>\n",
       "      <td>person</td>\n",
       "      <td>categorical</td>\n",
       "      <td>high</td>\n",
       "    </tr>\n",
       "    <tr>\n",
       "      <th>4</th>\n",
       "      <td>GEBURTSJAHR</td>\n",
       "      <td>0.440203</td>\n",
       "      <td>person</td>\n",
       "      <td>ordinal</td>\n",
       "      <td>high</td>\n",
       "    </tr>\n",
       "  </tbody>\n",
       "</table>\n",
       "</div>"
      ],
      "text/plain": [
       "        feature  miss_pct information_level         type nan_degree\n",
       "0      TITEL_KZ  0.997576            person  categorical       high\n",
       "1      AGER_TYP  0.769554            person      ordinal       high\n",
       "2  KK_KUNDENTYP  0.655967            person  categorical       high\n",
       "3  KBA05_BAUMAX  0.534687            person  categorical       high\n",
       "4   GEBURTSJAHR  0.440203            person      ordinal       high"
      ]
     },
     "execution_count": 26,
     "metadata": {},
     "output_type": "execute_result"
    }
   ],
   "source": [
    "# Investigate patterns in the amount of missing data in each column.\n",
    "conditions = [\n",
    "    (col_miss_df['miss_pct'] == 0),\n",
    "    (col_miss_df['miss_pct'] > 0) & (col_miss_df['miss_pct'] <= 0.05),\n",
    "    (col_miss_df['miss_pct'] > 0.05) & (col_miss_df['miss_pct'] <= 0.2),\n",
    "    (col_miss_df['miss_pct'] > 0.2)\n",
    "    ]\n",
    "values = ['no_nan', 'low', 'medium', 'high']\n",
    "col_miss_df['nan_degree'] = np.select(conditions, values)\n",
    "col_miss_df.head()"
   ]
  },
  {
   "cell_type": "code",
   "execution_count": 27,
   "metadata": {},
   "outputs": [
    {
     "data": {
      "text/html": [
       "<div>\n",
       "<style scoped>\n",
       "    .dataframe tbody tr th:only-of-type {\n",
       "        vertical-align: middle;\n",
       "    }\n",
       "\n",
       "    .dataframe tbody tr th {\n",
       "        vertical-align: top;\n",
       "    }\n",
       "\n",
       "    .dataframe thead th {\n",
       "        text-align: right;\n",
       "    }\n",
       "</style>\n",
       "<table border=\"1\" class=\"dataframe\">\n",
       "  <thead>\n",
       "    <tr style=\"text-align: right;\">\n",
       "      <th></th>\n",
       "      <th>miss_pct</th>\n",
       "    </tr>\n",
       "  </thead>\n",
       "  <tbody>\n",
       "    <tr>\n",
       "      <th>count</th>\n",
       "      <td>85.000000</td>\n",
       "    </tr>\n",
       "    <tr>\n",
       "      <th>mean</th>\n",
       "      <td>0.110541</td>\n",
       "    </tr>\n",
       "    <tr>\n",
       "      <th>std</th>\n",
       "      <td>0.164498</td>\n",
       "    </tr>\n",
       "    <tr>\n",
       "      <th>min</th>\n",
       "      <td>0.000000</td>\n",
       "    </tr>\n",
       "    <tr>\n",
       "      <th>25%</th>\n",
       "      <td>0.000000</td>\n",
       "    </tr>\n",
       "    <tr>\n",
       "      <th>50%</th>\n",
       "      <td>0.104517</td>\n",
       "    </tr>\n",
       "    <tr>\n",
       "      <th>75%</th>\n",
       "      <td>0.130736</td>\n",
       "    </tr>\n",
       "    <tr>\n",
       "      <th>max</th>\n",
       "      <td>0.997576</td>\n",
       "    </tr>\n",
       "  </tbody>\n",
       "</table>\n",
       "</div>"
      ],
      "text/plain": [
       "        miss_pct\n",
       "count  85.000000\n",
       "mean    0.110541\n",
       "std     0.164498\n",
       "min     0.000000\n",
       "25%     0.000000\n",
       "50%     0.104517\n",
       "75%     0.130736\n",
       "max     0.997576"
      ]
     },
     "execution_count": 27,
     "metadata": {},
     "output_type": "execute_result"
    }
   ],
   "source": [
    "col_miss_df.describe()"
   ]
  },
  {
   "cell_type": "code",
   "execution_count": 28,
   "metadata": {},
   "outputs": [
    {
     "data": {
      "image/png": "[encoded data removed]",
      "text/plain": [
       "<matplotlib.figure.Figure at 0x7f8e387fd128>"
      ]
     },
     "metadata": {
      "needs_background": "light"
     },
     "output_type": "display_data"
    }
   ],
   "source": [
    "fig, ax1 = plt.subplots(figsize=(14,8))\n",
    "order = ['person', 'household', 'building', 'postcode', 'community',\n",
    "       'microcell_rr3', 'microcell_rr4', 'region_rr1', 'macrocell_plz8']\n",
    "hue_order = ['no_nan', 'low', 'medium', 'high']\n",
    "sns.countplot(data=col_miss_df,\n",
    "              x='information_level',\n",
    "              hue='nan_degree',\n",
    "              order=order,\n",
    "              hue_order=hue_order,\n",
    "              ax=ax1)\n",
    "plt.legend(loc='upper right')\n",
    "sns.despine(ax=ax1);"
   ]
  },
  {
   "cell_type": "code",
   "execution_count": 29,
   "metadata": {},
   "outputs": [
    {
     "data": {
      "text/plain": [
       "(891221, 79)"
      ]
     },
     "execution_count": 29,
     "metadata": {},
     "output_type": "execute_result"
    }
   ],
   "source": [
    "# Remove the outlier columns from the dataset. (You'll perform other data\n",
    "# engineering tasks such as re-encoding and imputation later.)\n",
    "outliers_features = col_miss_df[col_miss_df['miss_pct']>0.2].feature\n",
    "azdias.drop(outliers_features, axis=1, inplace=True)\n",
    "azdias.shape"
   ]
  },
  {
   "cell_type": "code",
   "execution_count": 30,
   "metadata": {},
   "outputs": [
    {
     "name": "stdout",
     "output_type": "stream",
     "text": [
      "0        TITEL_KZ\n",
      "1        AGER_TYP\n",
      "2    KK_KUNDENTYP\n",
      "3    KBA05_BAUMAX\n",
      "4     GEBURTSJAHR\n",
      "5        ALTER_HH\n",
      "Name: feature, dtype: object\n"
     ]
    }
   ],
   "source": [
    "print(outliers_features)"
   ]
  },
  {
   "cell_type": "markdown",
   "metadata": {},
   "source": [
    "#### Discussion 1.1.2: Assess Missing Data in Each Column\n",
    "\n",
    "- Observations:\n",
    "    - Average value of missing rate across all features = 11.05%\n",
    "    - 75% features have missing rate less than 13.07%\n",
    "    - The majority of features have less than 20% missing values.\n",
    "    - Num of features with a considerably higher number of missing values = 6\n",
    "    - Num of features with Zero missing values = 24\n",
    "    - Person features tend to have higher unusual missing rates.\n",
    "    - The colunms that are removed are those with missing rate higher than 20%: **[TITEL_KZ, AGER_TYP, KK_KUNDENTYP, KBA05_BAUMAX, GEBURTSJAHR, ALTER_HH]**"
   ]
  },
  {
   "cell_type": "markdown",
   "metadata": {},
   "source": [
    "#### Step 1.1.3: Assess Missing Data in Each Row\n",
    "\n",
    "Now, you'll perform a similar assessment for the rows of the dataset. How much data is missing in each row? As with the columns, you should see some groups of points that have a very different numbers of missing values. Divide the data into two subsets: one for data points that are above some threshold for missing values, and a second subset for points below that threshold.\n",
    "\n",
    "In order to know what to do with the outlier rows, we should see if the distribution of data values on columns that are not missing data (or are missing very little data) are similar or different between the two groups. Select at least five of these columns and compare the distribution of values.\n",
    "- You can use seaborn's [`countplot()`](https://seaborn.pydata.org/generated/seaborn.countplot.html) function to create a bar chart of code frequencies and matplotlib's [`subplot()`](https://matplotlib.org/api/_as_gen/matplotlib.pyplot.subplot.html) function to put bar charts for the two subplots side by side.\n",
    "- To reduce repeated code, you might want to write a function that can perform this comparison, taking as one of its arguments a column to be compared.\n",
    "\n",
    "Depending on what you observe in your comparison, this will have implications on how you approach your conclusions later in the analysis. If the distributions of non-missing features look similar between the data with many missing values and the data with few or no missing values, then we could argue that simply dropping those points from the analysis won't present a major issue. On the other hand, if the data with many missing values looks very different from the data with few or no missing values, then we should make a note on those data as special. We'll revisit these data later on. **Either way, you should continue your analysis for now using just the subset of the data with few or no missing values.**"
   ]
  },
  {
   "cell_type": "code",
   "execution_count": 31,
   "metadata": {},
   "outputs": [],
   "source": [
    "# How much data is missing in each row of the dataset?\n",
    "azdias['row_nan_pct'] = azdias.isnull().mean(axis=1) "
   ]
  },
  {
   "cell_type": "code",
   "execution_count": 32,
   "metadata": {},
   "outputs": [
    {
     "name": "stdout",
     "output_type": "stream",
     "text": [
      "count    891221.000000\n",
      "mean          0.071518\n",
      "std           0.167528\n",
      "min           0.000000\n",
      "25%           0.000000\n",
      "50%           0.000000\n",
      "75%           0.037975\n",
      "max           0.620253\n",
      "Name: row_nan_pct, dtype: float64\n"
     ]
    }
   ],
   "source": [
    "print(azdias['row_nan_pct'].describe())"
   ]
  },
  {
   "cell_type": "code",
   "execution_count": 33,
   "metadata": {},
   "outputs": [
    {
     "data": {
      "image/png": "[encoded data removed]",
      "text/plain": [
       "<matplotlib.figure.Figure at 0x7f8e387972b0>"
      ]
     },
     "metadata": {
      "needs_background": "light"
     },
     "output_type": "display_data"
    }
   ],
   "source": [
    "plt.hist(azdias['row_nan_pct'], bins=30);"
   ]
  },
  {
   "cell_type": "code",
   "execution_count": 34,
   "metadata": {},
   "outputs": [
    {
     "name": "stdout",
     "output_type": "stream",
     "text": [
      "num of rows have missing values < 0.1 = 747109, with percentage of 83.82982447675717%\n",
      "num of rows have missing values > 0.1 = 144112, with percentage of 16.170175523242833%\n"
     ]
    }
   ],
   "source": [
    "# Write code to divide the data into two subsets based on the number of missing\n",
    "# values in each row.\n",
    "threshhold = 0.1\n",
    "\n",
    "low_nan_rows = azdias.loc[azdias['row_nan_pct'] < threshhold]\n",
    "high_nan_rows = azdias.loc[azdias['row_nan_pct'] > threshhold]\n",
    "print('num of rows have missing values < 0.1 = {}, with percentage of {}%'.format(low_nan_rows.shape[0], (low_nan_rows.shape[0]/azdias.shape[0])*100))\n",
    "print('num of rows have missing values > 0.1 = {}, with percentage of {}%'.format(high_nan_rows.shape[0], (high_nan_rows.shape[0]/azdias.shape[0])*100))"
   ]
  },
  {
   "cell_type": "code",
   "execution_count": 35,
   "metadata": {},
   "outputs": [],
   "source": [
    "# Compare the distribution of values for at least five columns where there are\n",
    "# no or few missing values, between the two subsets.\n",
    "\n",
    "# no nan columns of low nan rows:\n",
    "low_nan_columns = low_nan_rows.dropna(axis=1)\n",
    "\n",
    "# no nan columns of high nan rows:\n",
    "high_nan_columns = high_nan_rows.dropna(axis=1)"
   ]
  },
  {
   "cell_type": "code",
   "execution_count": 36,
   "metadata": {},
   "outputs": [],
   "source": [
    "no_nan_columns = list(set(low_nan_columns.columns).intersection(high_nan_columns.columns))"
   ]
  },
  {
   "cell_type": "code",
   "execution_count": 37,
   "metadata": {},
   "outputs": [
    {
     "name": "stdout",
     "output_type": "stream",
     "text": [
      "num of columns with no missing values = 25\n"
     ]
    },
    {
     "data": {
      "text/plain": [
       "['SEMIO_SOZ',\n",
       " 'FINANZ_MINIMALIST',\n",
       " 'SEMIO_RAT',\n",
       " 'GREEN_AVANTGARDE',\n",
       " 'SEMIO_ERL',\n",
       " 'FINANZ_ANLEGER']"
      ]
     },
     "execution_count": 37,
     "metadata": {},
     "output_type": "execute_result"
    }
   ],
   "source": [
    "print('num of columns with no missing values = {}'.format(len(no_nan_columns)))\n",
    "no_nan_columns[:6]"
   ]
  },
  {
   "cell_type": "code",
   "execution_count": 38,
   "metadata": {},
   "outputs": [
    {
     "data": {
      "image/png": "[encoded data removed]",
      "text/plain": [
       "<matplotlib.figure.Figure at 0x7f8e188bb2b0>"
      ]
     },
     "metadata": {
      "needs_background": "light"
     },
     "output_type": "display_data"
    },
    {
     "data": {
      "image/png": "[encoded data removed]",
      "text/plain": [
       "<matplotlib.figure.Figure at 0x7f8e1d4ddbe0>"
      ]
     },
     "metadata": {
      "needs_background": "light"
     },
     "output_type": "display_data"
    },
    {
     "data": {
      "image/png": "[encoded data removed]",
      "text/plain": [
       "<matplotlib.figure.Figure at 0x7f8e1d422ac8>"
      ]
     },
     "metadata": {
      "needs_background": "light"
     },
     "output_type": "display_data"
    },
    {
     "data": {
      "image/png": "[encoded data removed]",
      "text/plain": [
       "<matplotlib.figure.Figure at 0x7f8e1d33e668>"
      ]
     },
     "metadata": {
      "needs_background": "light"
     },
     "output_type": "display_data"
    },
    {
     "data": {
      "image/png": "[encoded data removed]",
      "text/plain": [
       "<matplotlib.figure.Figure at 0x7f8e1d39ac18>"
      ]
     },
     "metadata": {
      "needs_background": "light"
     },
     "output_type": "display_data"
    },
    {
     "data": {
      "image/png": "[encoded data removed]",
      "text/plain": [
       "<matplotlib.figure.Figure at 0x7f8e3a9e3390>"
      ]
     },
     "metadata": {
      "needs_background": "light"
     },
     "output_type": "display_data"
    }
   ],
   "source": [
    "# draw count plot to compare between two groups\n",
    "def compare(column, df1, df2):\n",
    "    fig, axes = plt.subplots(1, 2, figsize=(12, 3))\n",
    "    ax1 = plt.subplot(1,2,1)\n",
    "    ax1 = sns.countplot(df1[column], color='g')\n",
    "    ax2 = plt.subplot(1, 2, 2, sharey=ax1)\n",
    "    ax2 = sns.countplot(df2[column], color='r')\n",
    "    plt.show()\n",
    "\n",
    "# compare with first 6 columns\n",
    "for col in no_nan_columns[:6]:\n",
    "    compare(col, low_nan_columns, high_nan_columns)"
   ]
  },
  {
   "cell_type": "markdown",
   "metadata": {},
   "source": [
    "#### Discussion 1.1.3: Assess Missing Data in Each Row\n",
    "\n",
    "(Double-click this cell and replace this text with your own text, reporting your observations regarding missing data in rows. Are the data with lots of missing values are qualitatively different from data with few or no missing values?)\n",
    "\n",
    "- Observations:\n",
    "    - 75% rows have missing rate = 0.037975\n",
    "    - Max amount of missing values in a row = 0.620253\n",
    "    - Threshhold of 0.1 is used to split the data into 2 groups to compare the distribution.\n",
    "    - Percentage of rows have missing values < 0.1 = 83.829\n",
    "    - Percentage of rows have missing values > 0.1 = 16.170\n",
    "    - The distributions of select 6 columns are discrete and look distinctly different.\n",
    "    \n",
    "####  So we will continue the analysis with the dataset that contains rows with less than 10% NaNs"
   ]
  },
  {
   "cell_type": "code",
   "execution_count": 39,
   "metadata": {},
   "outputs": [
    {
     "data": {
      "text/html": [
       "<div>\n",
       "<style scoped>\n",
       "    .dataframe tbody tr th:only-of-type {\n",
       "        vertical-align: middle;\n",
       "    }\n",
       "\n",
       "    .dataframe tbody tr th {\n",
       "        vertical-align: top;\n",
       "    }\n",
       "\n",
       "    .dataframe thead th {\n",
       "        text-align: right;\n",
       "    }\n",
       "</style>\n",
       "<table border=\"1\" class=\"dataframe\">\n",
       "  <thead>\n",
       "    <tr style=\"text-align: right;\">\n",
       "      <th></th>\n",
       "      <th>ALTERSKATEGORIE_GROB</th>\n",
       "      <th>ANREDE_KZ</th>\n",
       "      <th>CJT_GESAMTTYP</th>\n",
       "      <th>FINANZ_MINIMALIST</th>\n",
       "      <th>FINANZ_SPARER</th>\n",
       "      <th>FINANZ_VORSORGER</th>\n",
       "      <th>FINANZ_ANLEGER</th>\n",
       "      <th>FINANZ_UNAUFFAELLIGER</th>\n",
       "      <th>FINANZ_HAUSBAUER</th>\n",
       "      <th>FINANZTYP</th>\n",
       "      <th>...</th>\n",
       "      <th>PLZ8_ANTG1</th>\n",
       "      <th>PLZ8_ANTG2</th>\n",
       "      <th>PLZ8_ANTG3</th>\n",
       "      <th>PLZ8_ANTG4</th>\n",
       "      <th>PLZ8_BAUMAX</th>\n",
       "      <th>PLZ8_HHZ</th>\n",
       "      <th>PLZ8_GBZ</th>\n",
       "      <th>ARBEIT</th>\n",
       "      <th>ORTSGR_KLS9</th>\n",
       "      <th>RELAT_AB</th>\n",
       "    </tr>\n",
       "  </thead>\n",
       "  <tbody>\n",
       "    <tr>\n",
       "      <th>1</th>\n",
       "      <td>1.0</td>\n",
       "      <td>2.0</td>\n",
       "      <td>5.0</td>\n",
       "      <td>1.0</td>\n",
       "      <td>5.0</td>\n",
       "      <td>2.0</td>\n",
       "      <td>5.0</td>\n",
       "      <td>4.0</td>\n",
       "      <td>5.0</td>\n",
       "      <td>1.0</td>\n",
       "      <td>...</td>\n",
       "      <td>2.0</td>\n",
       "      <td>3.0</td>\n",
       "      <td>2.0</td>\n",
       "      <td>1.0</td>\n",
       "      <td>1.0</td>\n",
       "      <td>5.0</td>\n",
       "      <td>4.0</td>\n",
       "      <td>3.0</td>\n",
       "      <td>5.0</td>\n",
       "      <td>4.0</td>\n",
       "    </tr>\n",
       "    <tr>\n",
       "      <th>2</th>\n",
       "      <td>3.0</td>\n",
       "      <td>2.0</td>\n",
       "      <td>3.0</td>\n",
       "      <td>1.0</td>\n",
       "      <td>4.0</td>\n",
       "      <td>1.0</td>\n",
       "      <td>2.0</td>\n",
       "      <td>3.0</td>\n",
       "      <td>5.0</td>\n",
       "      <td>1.0</td>\n",
       "      <td>...</td>\n",
       "      <td>3.0</td>\n",
       "      <td>3.0</td>\n",
       "      <td>1.0</td>\n",
       "      <td>0.0</td>\n",
       "      <td>1.0</td>\n",
       "      <td>4.0</td>\n",
       "      <td>4.0</td>\n",
       "      <td>3.0</td>\n",
       "      <td>5.0</td>\n",
       "      <td>2.0</td>\n",
       "    </tr>\n",
       "    <tr>\n",
       "      <th>3</th>\n",
       "      <td>4.0</td>\n",
       "      <td>2.0</td>\n",
       "      <td>2.0</td>\n",
       "      <td>4.0</td>\n",
       "      <td>2.0</td>\n",
       "      <td>5.0</td>\n",
       "      <td>2.0</td>\n",
       "      <td>1.0</td>\n",
       "      <td>2.0</td>\n",
       "      <td>6.0</td>\n",
       "      <td>...</td>\n",
       "      <td>2.0</td>\n",
       "      <td>2.0</td>\n",
       "      <td>2.0</td>\n",
       "      <td>0.0</td>\n",
       "      <td>1.0</td>\n",
       "      <td>3.0</td>\n",
       "      <td>4.0</td>\n",
       "      <td>2.0</td>\n",
       "      <td>3.0</td>\n",
       "      <td>3.0</td>\n",
       "    </tr>\n",
       "    <tr>\n",
       "      <th>4</th>\n",
       "      <td>3.0</td>\n",
       "      <td>1.0</td>\n",
       "      <td>5.0</td>\n",
       "      <td>4.0</td>\n",
       "      <td>3.0</td>\n",
       "      <td>4.0</td>\n",
       "      <td>1.0</td>\n",
       "      <td>3.0</td>\n",
       "      <td>2.0</td>\n",
       "      <td>5.0</td>\n",
       "      <td>...</td>\n",
       "      <td>2.0</td>\n",
       "      <td>4.0</td>\n",
       "      <td>2.0</td>\n",
       "      <td>1.0</td>\n",
       "      <td>2.0</td>\n",
       "      <td>3.0</td>\n",
       "      <td>3.0</td>\n",
       "      <td>4.0</td>\n",
       "      <td>6.0</td>\n",
       "      <td>5.0</td>\n",
       "    </tr>\n",
       "    <tr>\n",
       "      <th>5</th>\n",
       "      <td>1.0</td>\n",
       "      <td>2.0</td>\n",
       "      <td>2.0</td>\n",
       "      <td>3.0</td>\n",
       "      <td>1.0</td>\n",
       "      <td>5.0</td>\n",
       "      <td>2.0</td>\n",
       "      <td>2.0</td>\n",
       "      <td>5.0</td>\n",
       "      <td>2.0</td>\n",
       "      <td>...</td>\n",
       "      <td>2.0</td>\n",
       "      <td>3.0</td>\n",
       "      <td>1.0</td>\n",
       "      <td>1.0</td>\n",
       "      <td>1.0</td>\n",
       "      <td>5.0</td>\n",
       "      <td>5.0</td>\n",
       "      <td>2.0</td>\n",
       "      <td>3.0</td>\n",
       "      <td>3.0</td>\n",
       "    </tr>\n",
       "  </tbody>\n",
       "</table>\n",
       "<p>5 rows × 79 columns</p>\n",
       "</div>"
      ],
      "text/plain": [
       "   ALTERSKATEGORIE_GROB  ANREDE_KZ  CJT_GESAMTTYP  FINANZ_MINIMALIST  \\\n",
       "1                   1.0        2.0            5.0                1.0   \n",
       "2                   3.0        2.0            3.0                1.0   \n",
       "3                   4.0        2.0            2.0                4.0   \n",
       "4                   3.0        1.0            5.0                4.0   \n",
       "5                   1.0        2.0            2.0                3.0   \n",
       "\n",
       "   FINANZ_SPARER  FINANZ_VORSORGER  FINANZ_ANLEGER  FINANZ_UNAUFFAELLIGER  \\\n",
       "1            5.0               2.0             5.0                    4.0   \n",
       "2            4.0               1.0             2.0                    3.0   \n",
       "3            2.0               5.0             2.0                    1.0   \n",
       "4            3.0               4.0             1.0                    3.0   \n",
       "5            1.0               5.0             2.0                    2.0   \n",
       "\n",
       "   FINANZ_HAUSBAUER  FINANZTYP    ...     PLZ8_ANTG1  PLZ8_ANTG2  PLZ8_ANTG3  \\\n",
       "1               5.0        1.0    ...            2.0         3.0         2.0   \n",
       "2               5.0        1.0    ...            3.0         3.0         1.0   \n",
       "3               2.0        6.0    ...            2.0         2.0         2.0   \n",
       "4               2.0        5.0    ...            2.0         4.0         2.0   \n",
       "5               5.0        2.0    ...            2.0         3.0         1.0   \n",
       "\n",
       "   PLZ8_ANTG4  PLZ8_BAUMAX  PLZ8_HHZ  PLZ8_GBZ  ARBEIT  ORTSGR_KLS9  RELAT_AB  \n",
       "1         1.0          1.0       5.0       4.0     3.0          5.0       4.0  \n",
       "2         0.0          1.0       4.0       4.0     3.0          5.0       2.0  \n",
       "3         0.0          1.0       3.0       4.0     2.0          3.0       3.0  \n",
       "4         1.0          2.0       3.0       3.0     4.0          6.0       5.0  \n",
       "5         1.0          1.0       5.0       5.0     2.0          3.0       3.0  \n",
       "\n",
       "[5 rows x 79 columns]"
      ]
     },
     "execution_count": 39,
     "metadata": {},
     "output_type": "execute_result"
    }
   ],
   "source": [
    "# Keep only the rows with NaNs pct below 10%\n",
    "df = low_nan_rows\n",
    "# Drop the 'row_nan_pct' column\n",
    "df = df.drop('row_nan_pct', axis=1)\n",
    "df.head()"
   ]
  },
  {
   "cell_type": "code",
   "execution_count": 40,
   "metadata": {},
   "outputs": [
    {
     "name": "stdout",
     "output_type": "stream",
     "text": [
      "(747109, 79)\n"
     ]
    }
   ],
   "source": [
    "print(df.shape)"
   ]
  },
  {
   "cell_type": "markdown",
   "metadata": {},
   "source": [
    "### Step 1.2: Select and Re-Encode Features\n",
    "\n",
    "Checking for missing data isn't the only way in which you can prepare a dataset for analysis. Since the unsupervised learning techniques to be used will only work on data that is encoded numerically, you need to make a few encoding changes or additional assumptions to be able to make progress. In addition, while almost all of the values in the dataset are encoded using numbers, not all of them represent numeric values. Check the third column of the feature summary (`feat_info`) for a summary of types of measurement.\n",
    "- For numeric and interval data, these features can be kept without changes.\n",
    "- Most of the variables in the dataset are ordinal in nature. While ordinal values may technically be non-linear in spacing, make the simplifying assumption that the ordinal variables can be treated as being interval in nature (that is, kept without any changes).\n",
    "- Special handling may be necessary for the remaining two variable types: categorical, and 'mixed'.\n",
    "\n",
    "In the first two parts of this sub-step, you will perform an investigation of the categorical and mixed-type features and make a decision on each of them, whether you will keep, drop, or re-encode each. Then, in the last part, you will create a new data frame with only the selected and engineered columns.\n",
    "\n",
    "Data wrangling is often the trickiest part of the data analysis process, and there's a lot of it to be done here. But stick with it: once you're done with this step, you'll be ready to get to the machine learning parts of the project!"
   ]
  },
  {
   "cell_type": "code",
   "execution_count": 41,
   "metadata": {},
   "outputs": [
    {
     "data": {
      "text/plain": [
       "array(['categorical', 'ordinal', 'numeric', 'mixed', 'interval'], dtype=object)"
      ]
     },
     "execution_count": 41,
     "metadata": {},
     "output_type": "execute_result"
    }
   ],
   "source": [
    "feat_info['type'].unique()"
   ]
  },
  {
   "cell_type": "code",
   "execution_count": 42,
   "metadata": {},
   "outputs": [
    {
     "data": {
      "text/plain": [
       "(79, 3)"
      ]
     },
     "execution_count": 42,
     "metadata": {},
     "output_type": "execute_result"
    }
   ],
   "source": [
    "# filter feat_info to the remaining columns\n",
    "feat_info = feat_info[feat_info.columns[:-1]]\n",
    "feat_info = feat_info[feat_info.attribute.isin(df.columns)]\n",
    "feat_info.shape"
   ]
  },
  {
   "cell_type": "code",
   "execution_count": 43,
   "metadata": {},
   "outputs": [
    {
     "name": "stdout",
     "output_type": "stream",
     "text": [
      "num of features with type: ordinal = 49\n",
      "num of features with type: categorical = 18\n",
      "num of features with type: mixed = 6\n",
      "num of features with type: numeric = 6\n"
     ]
    }
   ],
   "source": [
    "# How many features are there of each data type?\n",
    "for feat_type in feat_info['type'].unique():\n",
    "    print('num of features with type: {} = {}'.format(feat_type, feat_info.loc[feat_info['type'] == feat_type].shape[0]))"
   ]
  },
  {
   "cell_type": "markdown",
   "metadata": {},
   "source": [
    "#### Step 1.2.1: Re-Encode Categorical Features\n",
    "\n",
    "For categorical data, you would ordinarily need to encode the levels as dummy variables. Depending on the number of categories, perform one of the following:\n",
    "- For binary (two-level) categoricals that take numeric values, you can keep them without needing to do anything.\n",
    "- There is one binary variable that takes on non-numeric values. For this one, you need to re-encode the values as numbers or create a dummy variable.\n",
    "- For multi-level categoricals (three or more values), you can choose to encode the values using multiple dummy variables (e.g. via [OneHotEncoder](http://scikit-learn.org/stable/modules/generated/sklearn.preprocessing.OneHotEncoder.html)), or (to keep things straightforward) just drop them from the analysis. As always, document your choices in the Discussion section."
   ]
  },
  {
   "cell_type": "code",
   "execution_count": 44,
   "metadata": {},
   "outputs": [
    {
     "data": {
      "text/html": [
       "<div>\n",
       "<style scoped>\n",
       "    .dataframe tbody tr th:only-of-type {\n",
       "        vertical-align: middle;\n",
       "    }\n",
       "\n",
       "    .dataframe tbody tr th {\n",
       "        vertical-align: top;\n",
       "    }\n",
       "\n",
       "    .dataframe thead th {\n",
       "        text-align: right;\n",
       "    }\n",
       "</style>\n",
       "<table border=\"1\" class=\"dataframe\">\n",
       "  <thead>\n",
       "    <tr style=\"text-align: right;\">\n",
       "      <th></th>\n",
       "      <th>attribute</th>\n",
       "      <th>information_level</th>\n",
       "      <th>type</th>\n",
       "    </tr>\n",
       "  </thead>\n",
       "  <tbody>\n",
       "    <tr>\n",
       "      <th>1</th>\n",
       "      <td>ALTERSKATEGORIE_GROB</td>\n",
       "      <td>person</td>\n",
       "      <td>ordinal</td>\n",
       "    </tr>\n",
       "    <tr>\n",
       "      <th>2</th>\n",
       "      <td>ANREDE_KZ</td>\n",
       "      <td>person</td>\n",
       "      <td>categorical</td>\n",
       "    </tr>\n",
       "    <tr>\n",
       "      <th>3</th>\n",
       "      <td>CJT_GESAMTTYP</td>\n",
       "      <td>person</td>\n",
       "      <td>categorical</td>\n",
       "    </tr>\n",
       "    <tr>\n",
       "      <th>4</th>\n",
       "      <td>FINANZ_MINIMALIST</td>\n",
       "      <td>person</td>\n",
       "      <td>ordinal</td>\n",
       "    </tr>\n",
       "    <tr>\n",
       "      <th>5</th>\n",
       "      <td>FINANZ_SPARER</td>\n",
       "      <td>person</td>\n",
       "      <td>ordinal</td>\n",
       "    </tr>\n",
       "  </tbody>\n",
       "</table>\n",
       "</div>"
      ],
      "text/plain": [
       "              attribute information_level         type\n",
       "1  ALTERSKATEGORIE_GROB            person      ordinal\n",
       "2             ANREDE_KZ            person  categorical\n",
       "3         CJT_GESAMTTYP            person  categorical\n",
       "4     FINANZ_MINIMALIST            person      ordinal\n",
       "5         FINANZ_SPARER            person      ordinal"
      ]
     },
     "execution_count": 44,
     "metadata": {},
     "output_type": "execute_result"
    }
   ],
   "source": [
    "feat_info.head()"
   ]
  },
  {
   "cell_type": "code",
   "execution_count": 45,
   "metadata": {},
   "outputs": [
    {
     "data": {
      "text/plain": [
       "2            ANREDE_KZ\n",
       "3        CJT_GESAMTTYP\n",
       "10           FINANZTYP\n",
       "12     GFK_URLAUBERTYP\n",
       "13    GREEN_AVANTGARDE\n",
       "17     LP_FAMILIE_FEIN\n",
       "18     LP_FAMILIE_GROB\n",
       "19      LP_STATUS_FEIN\n",
       "20      LP_STATUS_GROB\n",
       "21    NATIONALITAET_KZ\n",
       "38         SHOPPER_TYP\n",
       "39             SOHO_KZ\n",
       "41            VERS_TYP\n",
       "42            ZABEOTYP\n",
       "52         GEBAEUDETYP\n",
       "55         OST_WEST_KZ\n",
       "57     CAMEO_DEUG_2015\n",
       "58      CAMEO_DEU_2015\n",
       "Name: attribute, dtype: object"
      ]
     },
     "execution_count": 45,
     "metadata": {},
     "output_type": "execute_result"
    }
   ],
   "source": [
    "# Assess categorical variables: which are binary, which are multi-level, and\n",
    "# which one needs to be re-encoded?\n",
    "# Get the categorical feature names\n",
    "df_cat_cols = feat_info[feat_info.type == 'categorical'].attribute\n",
    "df_cat_cols"
   ]
  },
  {
   "cell_type": "code",
   "execution_count": 46,
   "metadata": {},
   "outputs": [
    {
     "data": {
      "text/plain": [
       "ANREDE_KZ            2\n",
       "OST_WEST_KZ          2\n",
       "VERS_TYP             2\n",
       "SOHO_KZ              2\n",
       "GREEN_AVANTGARDE     2\n",
       "NATIONALITAET_KZ     3\n",
       "SHOPPER_TYP          4\n",
       "LP_STATUS_GROB       5\n",
       "LP_FAMILIE_GROB      5\n",
       "FINANZTYP            6\n",
       "ZABEOTYP             6\n",
       "CJT_GESAMTTYP        6\n",
       "GEBAEUDETYP          7\n",
       "CAMEO_DEUG_2015      9\n",
       "LP_STATUS_FEIN      10\n",
       "LP_FAMILIE_FEIN     11\n",
       "GFK_URLAUBERTYP     12\n",
       "CAMEO_DEU_2015      44\n",
       "dtype: int64"
      ]
     },
     "execution_count": 46,
     "metadata": {},
     "output_type": "execute_result"
    }
   ],
   "source": [
    "df[df_cat_cols].nunique().sort_values()"
   ]
  },
  {
   "cell_type": "code",
   "execution_count": 47,
   "metadata": {},
   "outputs": [
    {
     "data": {
      "text/plain": [
       "ANREDE_KZ           float64\n",
       "CJT_GESAMTTYP       float64\n",
       "FINANZTYP           float64\n",
       "GFK_URLAUBERTYP     float64\n",
       "GREEN_AVANTGARDE    float64\n",
       "LP_FAMILIE_FEIN     float64\n",
       "LP_FAMILIE_GROB     float64\n",
       "LP_STATUS_FEIN      float64\n",
       "LP_STATUS_GROB      float64\n",
       "NATIONALITAET_KZ    float64\n",
       "SHOPPER_TYP         float64\n",
       "SOHO_KZ             float64\n",
       "VERS_TYP            float64\n",
       "ZABEOTYP            float64\n",
       "GEBAEUDETYP         float64\n",
       "OST_WEST_KZ          object\n",
       "CAMEO_DEUG_2015      object\n",
       "CAMEO_DEU_2015       object\n",
       "dtype: object"
      ]
     },
     "execution_count": 47,
     "metadata": {},
     "output_type": "execute_result"
    }
   ],
   "source": [
    "df[df_cat_cols].dtypes"
   ]
  },
  {
   "cell_type": "markdown",
   "metadata": {},
   "source": [
    "The last three columns are of dtype object."
   ]
  },
  {
   "cell_type": "code",
   "execution_count": 48,
   "metadata": {},
   "outputs": [
    {
     "data": {
      "text/html": [
       "<div>\n",
       "<style scoped>\n",
       "    .dataframe tbody tr th:only-of-type {\n",
       "        vertical-align: middle;\n",
       "    }\n",
       "\n",
       "    .dataframe tbody tr th {\n",
       "        vertical-align: top;\n",
       "    }\n",
       "\n",
       "    .dataframe thead th {\n",
       "        text-align: right;\n",
       "    }\n",
       "</style>\n",
       "<table border=\"1\" class=\"dataframe\">\n",
       "  <thead>\n",
       "    <tr style=\"text-align: right;\">\n",
       "      <th></th>\n",
       "      <th>OST_WEST_KZ</th>\n",
       "      <th>CAMEO_DEUG_2015</th>\n",
       "      <th>CAMEO_DEU_2015</th>\n",
       "    </tr>\n",
       "  </thead>\n",
       "  <tbody>\n",
       "    <tr>\n",
       "      <th>1</th>\n",
       "      <td>W</td>\n",
       "      <td>8</td>\n",
       "      <td>8A</td>\n",
       "    </tr>\n",
       "    <tr>\n",
       "      <th>2</th>\n",
       "      <td>W</td>\n",
       "      <td>4</td>\n",
       "      <td>4C</td>\n",
       "    </tr>\n",
       "    <tr>\n",
       "      <th>3</th>\n",
       "      <td>W</td>\n",
       "      <td>2</td>\n",
       "      <td>2A</td>\n",
       "    </tr>\n",
       "    <tr>\n",
       "      <th>4</th>\n",
       "      <td>W</td>\n",
       "      <td>6</td>\n",
       "      <td>6B</td>\n",
       "    </tr>\n",
       "    <tr>\n",
       "      <th>5</th>\n",
       "      <td>W</td>\n",
       "      <td>8</td>\n",
       "      <td>8C</td>\n",
       "    </tr>\n",
       "  </tbody>\n",
       "</table>\n",
       "</div>"
      ],
      "text/plain": [
       "  OST_WEST_KZ CAMEO_DEUG_2015 CAMEO_DEU_2015\n",
       "1           W               8             8A\n",
       "2           W               4             4C\n",
       "3           W               2             2A\n",
       "4           W               6             6B\n",
       "5           W               8             8C"
      ]
     },
     "execution_count": 48,
     "metadata": {},
     "output_type": "execute_result"
    }
   ],
   "source": [
    "df[df_cat_cols[-3:]].head()"
   ]
  },
  {
   "cell_type": "markdown",
   "metadata": {},
   "source": [
    "- OST_WEST_KZ: has two values [O, W]\n",
    "- CAMEO_DEUG_2015: has 9 numeric values encoded as object dtype.\n",
    "- CAMEO_DEU_2015: has 44 values and it is a more detailed version CAMEO_DEUG_2015."
   ]
  },
  {
   "cell_type": "code",
   "execution_count": 49,
   "metadata": {},
   "outputs": [
    {
     "data": {
      "text/plain": [
       "array(['W', 'O'], dtype=object)"
      ]
     },
     "execution_count": 49,
     "metadata": {},
     "output_type": "execute_result"
    }
   ],
   "source": [
    "# encode OST_WEST_KZ values\n",
    "df['OST_WEST_KZ'].unique()"
   ]
  },
  {
   "cell_type": "code",
   "execution_count": 50,
   "metadata": {},
   "outputs": [],
   "source": [
    "df['OST_WEST_KZ'] = df['OST_WEST_KZ'].replace({'O': 0, 'W': 1})"
   ]
  },
  {
   "cell_type": "code",
   "execution_count": 51,
   "metadata": {},
   "outputs": [
    {
     "data": {
      "text/plain": [
       "NATIONALITAET_KZ     3\n",
       "SHOPPER_TYP          4\n",
       "LP_FAMILIE_GROB      5\n",
       "LP_STATUS_GROB       5\n",
       "CJT_GESAMTTYP        6\n",
       "FINANZTYP            6\n",
       "ZABEOTYP             6\n",
       "GEBAEUDETYP          7\n",
       "CAMEO_DEUG_2015      9\n",
       "LP_STATUS_FEIN      10\n",
       "LP_FAMILIE_FEIN     11\n",
       "GFK_URLAUBERTYP     12\n",
       "CAMEO_DEU_2015      44\n",
       "dtype: int64"
      ]
     },
     "execution_count": 51,
     "metadata": {},
     "output_type": "execute_result"
    }
   ],
   "source": [
    "# Select the multilevel categorical features\n",
    "cat_nunique = df[df_cat_cols].nunique()\n",
    "cat_to_encode = cat_nunique[cat_nunique>2]\n",
    "cat_to_encode.sort_values()"
   ]
  },
  {
   "cell_type": "code",
   "execution_count": 52,
   "metadata": {},
   "outputs": [],
   "source": [
    "# Drop the multilevel categorical features to keep things straightforward\n",
    "df = df.drop(columns=cat_to_encode.index, axis=0)"
   ]
  },
  {
   "cell_type": "code",
   "execution_count": 53,
   "metadata": {},
   "outputs": [
    {
     "data": {
      "text/plain": [
       "(747109, 66)"
      ]
     },
     "execution_count": 53,
     "metadata": {},
     "output_type": "execute_result"
    }
   ],
   "source": [
    "df.shape"
   ]
  },
  {
   "cell_type": "markdown",
   "metadata": {},
   "source": [
    "#### Discussion 1.2.1: Re-Encode Categorical Features\n",
    "\n",
    "- Data contains 18 categorical features, including 5 binary and 13 multilevel features.\n",
    "- OST_WEST_KZ: has two values [O, W] which re-encoded to values [0, 1]\n",
    "- The rest of the binary features will be kept without re-encoding.\n",
    "- To keep things straightforward, 13 multilevel features are dropped."
   ]
  },
  {
   "cell_type": "markdown",
   "metadata": {},
   "source": [
    "#### Step 1.2.2: Engineer Mixed-Type Features\n",
    "\n",
    "There are a handful of features that are marked as \"mixed\" in the feature summary that require special treatment in order to be included in the analysis. There are two in particular that deserve attention; the handling of the rest are up to your own choices:\n",
    "- \"PRAEGENDE_JUGENDJAHRE\" combines information on three dimensions: generation by decade, movement (mainstream vs. avantgarde), and nation (east vs. west). While there aren't enough levels to disentangle east from west, you should create two new variables to capture the other two dimensions: an interval-type variable for decade, and a binary variable for movement.\n",
    "- \"CAMEO_INTL_2015\" combines information on two axes: wealth and life stage. Break up the two-digit codes by their 'tens'-place and 'ones'-place digits into two new ordinal variables (which, for the purposes of this project, is equivalent to just treating them as their raw numeric values).\n",
    "- If you decide to keep or engineer new features around the other mixed-type features, make sure you note your steps in the Discussion section.\n",
    "\n",
    "Be sure to check `Data_Dictionary.md` for the details needed to finish these tasks."
   ]
  },
  {
   "cell_type": "code",
   "execution_count": 54,
   "metadata": {},
   "outputs": [
    {
     "data": {
      "text/plain": [
       "15      LP_LEBENSPHASE_FEIN\n",
       "16      LP_LEBENSPHASE_GROB\n",
       "22    PRAEGENDE_JUGENDJAHRE\n",
       "56                 WOHNLAGE\n",
       "59          CAMEO_INTL_2015\n",
       "79              PLZ8_BAUMAX\n",
       "Name: attribute, dtype: object"
      ]
     },
     "execution_count": 54,
     "metadata": {},
     "output_type": "execute_result"
    }
   ],
   "source": [
    "mixed_cols = feat_info.loc[feat_info['type'] == 'mixed'].attribute\n",
    "mixed_cols"
   ]
  },
  {
   "cell_type": "code",
   "execution_count": 55,
   "metadata": {},
   "outputs": [
    {
     "name": "stdout",
     "output_type": "stream",
     "text": [
      "<class 'pandas.core.frame.DataFrame'>\n",
      "Int64Index: 747109 entries, 1 to 891220\n",
      "Data columns (total 6 columns):\n",
      "LP_LEBENSPHASE_FEIN      714735 non-null float64\n",
      "LP_LEBENSPHASE_GROB      717274 non-null float64\n",
      "PRAEGENDE_JUGENDJAHRE    730988 non-null float64\n",
      "WOHNLAGE                 747109 non-null float64\n",
      "CAMEO_INTL_2015          743878 non-null object\n",
      "PLZ8_BAUMAX              744272 non-null float64\n",
      "dtypes: float64(5), object(1)\n",
      "memory usage: 59.9+ MB\n"
     ]
    }
   ],
   "source": [
    "df[mixed_cols].info()"
   ]
  },
  {
   "cell_type": "code",
   "execution_count": 56,
   "metadata": {},
   "outputs": [
    {
     "data": {
      "text/plain": [
       "PLZ8_BAUMAX               5\n",
       "WOHNLAGE                  8\n",
       "LP_LEBENSPHASE_GROB      12\n",
       "PRAEGENDE_JUGENDJAHRE    15\n",
       "CAMEO_INTL_2015          21\n",
       "LP_LEBENSPHASE_FEIN      40\n",
       "dtype: int64"
      ]
     },
     "execution_count": 56,
     "metadata": {},
     "output_type": "execute_result"
    }
   ],
   "source": [
    "df[mixed_cols].nunique().sort_values()"
   ]
  },
  {
   "cell_type": "code",
   "execution_count": 57,
   "metadata": {},
   "outputs": [
    {
     "data": {
      "text/plain": [
       "array(['51', '24', '12', '43', '54', '22', '14', '13', '15', '41', '34',\n",
       "       '55', '33', '25', nan, '23', '31', '52', '35', '45', '44', '32'], dtype=object)"
      ]
     },
     "execution_count": 57,
     "metadata": {},
     "output_type": "execute_result"
    }
   ],
   "source": [
    "df['CAMEO_INTL_2015'].unique()"
   ]
  },
  {
   "cell_type": "code",
   "execution_count": 58,
   "metadata": {},
   "outputs": [
    {
     "data": {
      "text/plain": [
       "array([ 14.,  15.,   8.,   3.,  10.,  11.,   9.,   6.,   4.,  nan,   5.,\n",
       "         2.,   1.,  12.,  13.,   7.])"
      ]
     },
     "execution_count": 58,
     "metadata": {},
     "output_type": "execute_result"
    }
   ],
   "source": [
    "df['PRAEGENDE_JUGENDJAHRE'].unique()"
   ]
  },
  {
   "cell_type": "code",
   "execution_count": 59,
   "metadata": {},
   "outputs": [],
   "source": [
    "# Investigate \"PRAEGENDE_JUGENDJAHRE\" and engineer two new variables.\n",
    "decade_dict = {1: 1, 2: 1, 3: 2, 4: 2, 5: 3, 6: 3, 7:  3,\n",
    "               8: 4, 9: 4, 10: 5, 11: 5, 12: 5, 13: 5,\n",
    "               14: 6, 15: 6\n",
    "              }\n",
    "movement_dict = {1: 1, 3: 1, 5: 1, 8: 1, 10: 1, 12: 1, 14: 1,\n",
    "                2: 2, 4: 2, 6: 2, 7: 2, 9: 2, 11: 2, 13: 2, 15: 2\n",
    "                }\n",
    "\n",
    "# It appears that map is approximately 10x faster than replace.\n",
    "# Ref: https://stackoverflow.com/questions/20250771/remap-values-in-pandas-column-with-a-dict\n",
    "df['ENG_DECADE'] = df['PRAEGENDE_JUGENDJAHRE'].map(decade_dict)\n",
    "df['ENG_MOVEMENT'] = df['PRAEGENDE_JUGENDJAHRE'].map(movement_dict)"
   ]
  },
  {
   "cell_type": "code",
   "execution_count": 60,
   "metadata": {},
   "outputs": [
    {
     "name": "stdout",
     "output_type": "stream",
     "text": [
      "6.0    212488\n",
      "4.0    166658\n",
      "5.0    142337\n",
      "3.0    110730\n",
      "2.0     71852\n",
      "1.0     26923\n",
      "Name: ENG_DECADE, dtype: int64\n"
     ]
    }
   ],
   "source": [
    "print(df['ENG_DECADE'].value_counts())"
   ]
  },
  {
   "cell_type": "code",
   "execution_count": 61,
   "metadata": {},
   "outputs": [
    {
     "name": "stdout",
     "output_type": "stream",
     "text": [
      "1.0    564070\n",
      "2.0    166918\n",
      "Name: ENG_MOVEMENT, dtype: int64\n"
     ]
    }
   ],
   "source": [
    "print(df['ENG_MOVEMENT'].value_counts())"
   ]
  },
  {
   "cell_type": "code",
   "execution_count": 62,
   "metadata": {},
   "outputs": [],
   "source": [
    "def get_digit(num,digit):\n",
    "    if not pd.isnull(num):\n",
    "        num = int(str(num)[digit])\n",
    "    return num"
   ]
  },
  {
   "cell_type": "code",
   "execution_count": 63,
   "metadata": {},
   "outputs": [],
   "source": [
    "# Investigate \"CAMEO_INTL_2015\" and engineer two new variables.\n",
    "df['ENG_WEALTH'] = df['CAMEO_INTL_2015'].apply(get_digit, digit=0)\n",
    "df['ENG_LIFE_STAGE'] = df['CAMEO_INTL_2015'].apply(get_digit, digit=1)"
   ]
  },
  {
   "cell_type": "code",
   "execution_count": 64,
   "metadata": {},
   "outputs": [
    {
     "name": "stdout",
     "output_type": "stream",
     "text": [
      "5.0    213978\n",
      "4.0    181187\n",
      "2.0    174240\n",
      "1.0    111831\n",
      "3.0     62642\n",
      "Name: ENG_WEALTH, dtype: int64\n"
     ]
    }
   ],
   "source": [
    "print(df['ENG_WEALTH'].value_counts())"
   ]
  },
  {
   "cell_type": "code",
   "execution_count": 65,
   "metadata": {},
   "outputs": [
    {
     "name": "stdout",
     "output_type": "stream",
     "text": [
      "1.0    232220\n",
      "4.0    220077\n",
      "5.0    111547\n",
      "3.0    108061\n",
      "2.0     71973\n",
      "Name: ENG_LIFE_STAGE, dtype: int64\n"
     ]
    }
   ],
   "source": [
    "print(df['ENG_LIFE_STAGE'].value_counts())"
   ]
  },
  {
   "cell_type": "code",
   "execution_count": 66,
   "metadata": {},
   "outputs": [
    {
     "data": {
      "text/html": [
       "<div>\n",
       "<style scoped>\n",
       "    .dataframe tbody tr th:only-of-type {\n",
       "        vertical-align: middle;\n",
       "    }\n",
       "\n",
       "    .dataframe tbody tr th {\n",
       "        vertical-align: top;\n",
       "    }\n",
       "\n",
       "    .dataframe thead th {\n",
       "        text-align: right;\n",
       "    }\n",
       "</style>\n",
       "<table border=\"1\" class=\"dataframe\">\n",
       "  <thead>\n",
       "    <tr style=\"text-align: right;\">\n",
       "      <th></th>\n",
       "      <th>ALTERSKATEGORIE_GROB</th>\n",
       "      <th>ANREDE_KZ</th>\n",
       "      <th>FINANZ_MINIMALIST</th>\n",
       "      <th>FINANZ_SPARER</th>\n",
       "      <th>FINANZ_VORSORGER</th>\n",
       "      <th>FINANZ_ANLEGER</th>\n",
       "      <th>FINANZ_UNAUFFAELLIGER</th>\n",
       "      <th>FINANZ_HAUSBAUER</th>\n",
       "      <th>GREEN_AVANTGARDE</th>\n",
       "      <th>HEALTH_TYP</th>\n",
       "      <th>...</th>\n",
       "      <th>PLZ8_ANTG4</th>\n",
       "      <th>PLZ8_HHZ</th>\n",
       "      <th>PLZ8_GBZ</th>\n",
       "      <th>ARBEIT</th>\n",
       "      <th>ORTSGR_KLS9</th>\n",
       "      <th>RELAT_AB</th>\n",
       "      <th>ENG_DECADE</th>\n",
       "      <th>ENG_MOVEMENT</th>\n",
       "      <th>ENG_WEALTH</th>\n",
       "      <th>ENG_LIFE_STAGE</th>\n",
       "    </tr>\n",
       "  </thead>\n",
       "  <tbody>\n",
       "    <tr>\n",
       "      <th>1</th>\n",
       "      <td>1.0</td>\n",
       "      <td>2.0</td>\n",
       "      <td>1.0</td>\n",
       "      <td>5.0</td>\n",
       "      <td>2.0</td>\n",
       "      <td>5.0</td>\n",
       "      <td>4.0</td>\n",
       "      <td>5.0</td>\n",
       "      <td>0.0</td>\n",
       "      <td>3.0</td>\n",
       "      <td>...</td>\n",
       "      <td>1.0</td>\n",
       "      <td>5.0</td>\n",
       "      <td>4.0</td>\n",
       "      <td>3.0</td>\n",
       "      <td>5.0</td>\n",
       "      <td>4.0</td>\n",
       "      <td>6.0</td>\n",
       "      <td>1.0</td>\n",
       "      <td>5.0</td>\n",
       "      <td>1.0</td>\n",
       "    </tr>\n",
       "    <tr>\n",
       "      <th>2</th>\n",
       "      <td>3.0</td>\n",
       "      <td>2.0</td>\n",
       "      <td>1.0</td>\n",
       "      <td>4.0</td>\n",
       "      <td>1.0</td>\n",
       "      <td>2.0</td>\n",
       "      <td>3.0</td>\n",
       "      <td>5.0</td>\n",
       "      <td>1.0</td>\n",
       "      <td>3.0</td>\n",
       "      <td>...</td>\n",
       "      <td>0.0</td>\n",
       "      <td>4.0</td>\n",
       "      <td>4.0</td>\n",
       "      <td>3.0</td>\n",
       "      <td>5.0</td>\n",
       "      <td>2.0</td>\n",
       "      <td>6.0</td>\n",
       "      <td>2.0</td>\n",
       "      <td>2.0</td>\n",
       "      <td>4.0</td>\n",
       "    </tr>\n",
       "    <tr>\n",
       "      <th>3</th>\n",
       "      <td>4.0</td>\n",
       "      <td>2.0</td>\n",
       "      <td>4.0</td>\n",
       "      <td>2.0</td>\n",
       "      <td>5.0</td>\n",
       "      <td>2.0</td>\n",
       "      <td>1.0</td>\n",
       "      <td>2.0</td>\n",
       "      <td>0.0</td>\n",
       "      <td>2.0</td>\n",
       "      <td>...</td>\n",
       "      <td>0.0</td>\n",
       "      <td>3.0</td>\n",
       "      <td>4.0</td>\n",
       "      <td>2.0</td>\n",
       "      <td>3.0</td>\n",
       "      <td>3.0</td>\n",
       "      <td>4.0</td>\n",
       "      <td>1.0</td>\n",
       "      <td>1.0</td>\n",
       "      <td>2.0</td>\n",
       "    </tr>\n",
       "    <tr>\n",
       "      <th>4</th>\n",
       "      <td>3.0</td>\n",
       "      <td>1.0</td>\n",
       "      <td>4.0</td>\n",
       "      <td>3.0</td>\n",
       "      <td>4.0</td>\n",
       "      <td>1.0</td>\n",
       "      <td>3.0</td>\n",
       "      <td>2.0</td>\n",
       "      <td>0.0</td>\n",
       "      <td>3.0</td>\n",
       "      <td>...</td>\n",
       "      <td>1.0</td>\n",
       "      <td>3.0</td>\n",
       "      <td>3.0</td>\n",
       "      <td>4.0</td>\n",
       "      <td>6.0</td>\n",
       "      <td>5.0</td>\n",
       "      <td>4.0</td>\n",
       "      <td>1.0</td>\n",
       "      <td>4.0</td>\n",
       "      <td>3.0</td>\n",
       "    </tr>\n",
       "    <tr>\n",
       "      <th>5</th>\n",
       "      <td>1.0</td>\n",
       "      <td>2.0</td>\n",
       "      <td>3.0</td>\n",
       "      <td>1.0</td>\n",
       "      <td>5.0</td>\n",
       "      <td>2.0</td>\n",
       "      <td>2.0</td>\n",
       "      <td>5.0</td>\n",
       "      <td>0.0</td>\n",
       "      <td>3.0</td>\n",
       "      <td>...</td>\n",
       "      <td>1.0</td>\n",
       "      <td>5.0</td>\n",
       "      <td>5.0</td>\n",
       "      <td>2.0</td>\n",
       "      <td>3.0</td>\n",
       "      <td>3.0</td>\n",
       "      <td>2.0</td>\n",
       "      <td>1.0</td>\n",
       "      <td>5.0</td>\n",
       "      <td>4.0</td>\n",
       "    </tr>\n",
       "  </tbody>\n",
       "</table>\n",
       "<p>5 rows × 64 columns</p>\n",
       "</div>"
      ],
      "text/plain": [
       "   ALTERSKATEGORIE_GROB  ANREDE_KZ  FINANZ_MINIMALIST  FINANZ_SPARER  \\\n",
       "1                   1.0        2.0                1.0            5.0   \n",
       "2                   3.0        2.0                1.0            4.0   \n",
       "3                   4.0        2.0                4.0            2.0   \n",
       "4                   3.0        1.0                4.0            3.0   \n",
       "5                   1.0        2.0                3.0            1.0   \n",
       "\n",
       "   FINANZ_VORSORGER  FINANZ_ANLEGER  FINANZ_UNAUFFAELLIGER  FINANZ_HAUSBAUER  \\\n",
       "1               2.0             5.0                    4.0               5.0   \n",
       "2               1.0             2.0                    3.0               5.0   \n",
       "3               5.0             2.0                    1.0               2.0   \n",
       "4               4.0             1.0                    3.0               2.0   \n",
       "5               5.0             2.0                    2.0               5.0   \n",
       "\n",
       "   GREEN_AVANTGARDE  HEALTH_TYP       ...        PLZ8_ANTG4  PLZ8_HHZ  \\\n",
       "1               0.0         3.0       ...               1.0       5.0   \n",
       "2               1.0         3.0       ...               0.0       4.0   \n",
       "3               0.0         2.0       ...               0.0       3.0   \n",
       "4               0.0         3.0       ...               1.0       3.0   \n",
       "5               0.0         3.0       ...               1.0       5.0   \n",
       "\n",
       "   PLZ8_GBZ  ARBEIT  ORTSGR_KLS9  RELAT_AB  ENG_DECADE  ENG_MOVEMENT  \\\n",
       "1       4.0     3.0          5.0       4.0         6.0           1.0   \n",
       "2       4.0     3.0          5.0       2.0         6.0           2.0   \n",
       "3       4.0     2.0          3.0       3.0         4.0           1.0   \n",
       "4       3.0     4.0          6.0       5.0         4.0           1.0   \n",
       "5       5.0     2.0          3.0       3.0         2.0           1.0   \n",
       "\n",
       "   ENG_WEALTH  ENG_LIFE_STAGE  \n",
       "1         5.0             1.0  \n",
       "2         2.0             4.0  \n",
       "3         1.0             2.0  \n",
       "4         4.0             3.0  \n",
       "5         5.0             4.0  \n",
       "\n",
       "[5 rows x 64 columns]"
      ]
     },
     "execution_count": 66,
     "metadata": {},
     "output_type": "execute_result"
    }
   ],
   "source": [
    "# Drop mixed dtype features\n",
    "df = df.drop(mixed_cols, axis=1)\n",
    "df.head()"
   ]
  },
  {
   "cell_type": "code",
   "execution_count": 67,
   "metadata": {},
   "outputs": [
    {
     "data": {
      "text/plain": [
       "(747109, 64)"
      ]
     },
     "execution_count": 67,
     "metadata": {},
     "output_type": "execute_result"
    }
   ],
   "source": [
    "df.shape"
   ]
  },
  {
   "cell_type": "markdown",
   "metadata": {},
   "source": [
    "#### Discussion 1.2.2: Engineer Mixed-Type Features\n",
    "\n",
    "- Dataset contains 6 features of mixed type.\n",
    "- Two new variables called **[ENG_DECADE, ENG_MOVEMENT]** have been engineered from the mixed feature **\"PRAEGENDE_JUGENDJAHRE\"** which combines information on three dimensions: generation by decade, movement (mainstream vs. avantgarde), and nation (east vs. west). **[ENG_DECADE, ENG_MOVEMENT]**  capture the two dimensions of original feature: an interval-type variable for decade, and a binary variable for movement.\n",
    "- Two new variables called **[ENG_WEALTH, ENG_LIFE_STAGE]** have been engineered from the mixed feature **\"CAMEO_INTL_2015\"** which combines information on two axes: wealth and life stage. **[ENG_WEALTH, ENG_LIFE_STAGE]** capture meaning from the original feature by breaking up the original two-digit codes by their 'tens'-place and 'ones'-place digits into two new ordinal variables\n",
    "- The other 4 mixed features will be dropped to keep things more straightforward."
   ]
  },
  {
   "cell_type": "markdown",
   "metadata": {},
   "source": [
    "#### Step 1.2.3: Complete Feature Selection\n",
    "\n",
    "In order to finish this step up, you need to make sure that your data frame now only has the columns that you want to keep. To summarize, the dataframe should consist of the following:\n",
    "- All numeric, interval, and ordinal type columns from the original dataset.\n",
    "- Binary categorical features (all numerically-encoded).\n",
    "- Engineered features from other multi-level categorical features and mixed features.\n",
    "\n",
    "Make sure that for any new columns that you have engineered, that you've excluded the original columns from the final dataset. Otherwise, their values will interfere with the analysis later on the project. For example, you should not keep \"PRAEGENDE_JUGENDJAHRE\", since its values won't be useful for the algorithm: only the values derived from it in the engineered features you created should be retained. As a reminder, your data should only be from **the subset with few or no missing values**."
   ]
  },
  {
   "cell_type": "code",
   "execution_count": 68,
   "metadata": {},
   "outputs": [
    {
     "data": {
      "text/plain": [
       "(747109, 64)"
      ]
     },
     "execution_count": 68,
     "metadata": {},
     "output_type": "execute_result"
    }
   ],
   "source": [
    "# If there are other re-engineering tasks you need to perform, make sure you\n",
    "# take care of them here. (Dealing with missing data will come in step 2.1.)\n",
    "df.shape"
   ]
  },
  {
   "cell_type": "code",
   "execution_count": 69,
   "metadata": {},
   "outputs": [
    {
     "data": {
      "text/plain": [
       "Index(['ALTERSKATEGORIE_GROB', 'ANREDE_KZ', 'FINANZ_MINIMALIST',\n",
       "       'FINANZ_SPARER', 'FINANZ_VORSORGER', 'FINANZ_ANLEGER',\n",
       "       'FINANZ_UNAUFFAELLIGER', 'FINANZ_HAUSBAUER', 'GREEN_AVANTGARDE',\n",
       "       'HEALTH_TYP', 'RETOURTYP_BK_S', 'SEMIO_SOZ', 'SEMIO_FAM', 'SEMIO_REL',\n",
       "       'SEMIO_MAT', 'SEMIO_VERT', 'SEMIO_LUST', 'SEMIO_ERL', 'SEMIO_KULT',\n",
       "       'SEMIO_RAT', 'SEMIO_KRIT', 'SEMIO_DOM', 'SEMIO_KAEM', 'SEMIO_PFLICHT',\n",
       "       'SEMIO_TRADV', 'SOHO_KZ', 'VERS_TYP', 'ANZ_PERSONEN', 'ANZ_TITEL',\n",
       "       'HH_EINKOMMEN_SCORE', 'W_KEIT_KIND_HH', 'WOHNDAUER_2008',\n",
       "       'ANZ_HAUSHALTE_AKTIV', 'ANZ_HH_TITEL', 'KONSUMNAEHE',\n",
       "       'MIN_GEBAEUDEJAHR', 'OST_WEST_KZ', 'KBA05_ANTG1', 'KBA05_ANTG2',\n",
       "       'KBA05_ANTG3', 'KBA05_ANTG4', 'KBA05_GBZ', 'BALLRAUM', 'EWDICHTE',\n",
       "       'INNENSTADT', 'GEBAEUDETYP_RASTER', 'KKK', 'MOBI_REGIO',\n",
       "       'ONLINE_AFFINITAET', 'REGIOTYP', 'KBA13_ANZAHL_PKW', 'PLZ8_ANTG1',\n",
       "       'PLZ8_ANTG2', 'PLZ8_ANTG3', 'PLZ8_ANTG4', 'PLZ8_HHZ', 'PLZ8_GBZ',\n",
       "       'ARBEIT', 'ORTSGR_KLS9', 'RELAT_AB', 'ENG_DECADE', 'ENG_MOVEMENT',\n",
       "       'ENG_WEALTH', 'ENG_LIFE_STAGE'],\n",
       "      dtype='object')"
      ]
     },
     "execution_count": 69,
     "metadata": {},
     "output_type": "execute_result"
    }
   ],
   "source": [
    "# Do whatever you need to in order to ensure that the dataframe only contains\n",
    "# the columns that should be passed to the algorithm functions.\n",
    "df.columns"
   ]
  },
  {
   "cell_type": "code",
   "execution_count": 70,
   "metadata": {},
   "outputs": [
    {
     "data": {
      "text/plain": [
       "array([dtype('float64'), dtype('int64')], dtype=object)"
      ]
     },
     "execution_count": 70,
     "metadata": {},
     "output_type": "execute_result"
    }
   ],
   "source": [
    "# check all data types\n",
    "df.dtypes.unique()"
   ]
  },
  {
   "cell_type": "markdown",
   "metadata": {},
   "source": [
    "### Step 1.3: Create a Cleaning Function\n",
    "\n",
    "Even though you've finished cleaning up the general population demographics data, it's important to look ahead to the future and realize that you'll need to perform the same cleaning steps on the customer demographics data. In this substep, complete the function below to execute the main feature selection, encoding, and re-engineering steps you performed above. Then, when it comes to looking at the customer data in Step 3, you can just run this function on that DataFrame to get the trimmed dataset in a single step."
   ]
  },
  {
   "cell_type": "code",
   "execution_count": 106,
   "metadata": {},
   "outputs": [],
   "source": [
    "def clean_data(df):\n",
    "    \"\"\"\n",
    "    Perform feature trimming, re-encoding, and engineering for demographics\n",
    "    data\n",
    "\n",
    "    INPUT: Demographics DataFrame\n",
    "    OUTPUT: Trimmed and cleaned demographics DataFrame\n",
    "    \"\"\"\n",
    "\n",
    "    # Put in code here to execute all main cleaning steps:\n",
    "    # convert missing value codes into NaNs, ...\n",
    "    df = convert_missingdata_encodings_to_nans(df)\n",
    "    print('Convert missing value codes into NaN, OK')\n",
    "\n",
    "    # remove selected columns , ...\n",
    "    df = drop_selected_columns(df)\n",
    "    # remove selected rows and return both dfs\n",
    "    df, df_cust_highna = drop_selected_rows(df)\n",
    "    print('Remove selected columns and rows, OK')\n",
    "    \n",
    "    # select, re-encode, and engineer column values.\n",
    "    df = reencode_categorical_feat(df)\n",
    "    df = engineer_mixed_feat(df)\n",
    "    print('Select, re-encode, and engineer column value, OK')\n",
    "    \n",
    "    # Return the cleaned dataframe and the high NaN Df.\n",
    "    return df, df_cust_highna\n",
    "\n",
    "\n",
    "def convert_missingdata_encodings_to_nans(df, debug=False):\n",
    "    '''Convert to nans using the missing_data_encode dictionary'''\n",
    "\n",
    "    for col in missing_data_dict.keys():\n",
    "        if debug:\n",
    "            print(col, 'nans before: ', df[col].isnull().sum())\n",
    "        df.loc[df[col].isin(missing_data_dict[col]), col] = np.nan\n",
    "        if debug:\n",
    "            print(col, 'nans after: ', df[col].isnull().sum(), '\\n')\n",
    "    return df\n",
    "\n",
    "\n",
    "def drop_selected_columns(df):\n",
    "    ''''''\n",
    "    return df.drop(columns=outliers_features, axis=1)\n",
    "\n",
    "\n",
    "def drop_selected_rows(df):\n",
    "    '''split the dataset into two parts:\n",
    "    One with a percntage of NaN per row over the threshhold\n",
    "    and one below. Return both.'''\n",
    "    threshhold = 0.1\n",
    "    df['row_nan_perc'] = df.isnull().mean(axis=1)\n",
    "    \n",
    "    df_lowna = df.loc[df['row_nan_perc'] < threshhold, :].\\\n",
    "                                drop(columns='row_nan_perc', axis=1)\n",
    "    df_highna = df.loc[df['row_nan_perc'] > threshhold, :].\\\n",
    "                                drop(columns='row_nan_perc', axis=1)\n",
    "\n",
    "    return df_lowna, df_highna\n",
    "\n",
    "\n",
    "def reencode_categorical_feat(df):\n",
    "    ''''''\n",
    "    # Reencode the binary OST_WEST_KZ to numeric categories\n",
    "    df['OST_WEST_KZ'] = df['OST_WEST_KZ'].replace({'O': 0,\n",
    "                                                   'W': 1})\n",
    "\n",
    "    # choose the categorical features with more than 2 levels\n",
    "    df_cat_cols = feat_info[feat_info.type == 'categorical'].attribute\n",
    "    cat_nunique = df[df_cat_cols].nunique()\n",
    "    cat_to_encode = cat_nunique[cat_nunique > 2]\n",
    "\n",
    "    # DROP THE MULTI-LEVEL CATEGORICAL FEATURES\n",
    "    df = df.drop(columns=cat_to_encode.index, axis=0)\n",
    "\n",
    "    return df\n",
    "\n",
    "\n",
    "def engineer_mixed_feat(df):\n",
    "    '''Engineer new variables from the \n",
    "    mixed features. Drop he old features'''\n",
    "    # Engineer two new variables from 'PRAEGENDE_JUGENDJAHRE'\n",
    "    decade_dict = {1: 1, 2: 1, 3: 2, 4: 2, 5: 3, 6: 3, 7:  3,\n",
    "                   8: 4, 9: 4, 10: 5, 11: 5, 12: 5, 13: 5,\n",
    "                   14: 6, 15: 6\n",
    "                   }\n",
    "    movement_dict = {1: 1, 3: 1, 5: 1, 8: 1, 10: 1, 12: 1, 14: 1,\n",
    "                     2: 2, 4: 2, 6: 2, 7: 2, 9: 2, 11: 2, 13: 2, 15: 2\n",
    "                     }\n",
    "\n",
    "    df['ENG_DECADE'] = df['PRAEGENDE_JUGENDJAHRE'].map(decade_dict)\n",
    "    df['ENG_MOVEMENT'] = df['PRAEGENDE_JUGENDJAHRE'].map(movement_dict)\n",
    "    df.drop\n",
    "\n",
    "    # Engineer two new variables from 'CAMEO_INTL_2015'\n",
    "    df['ENG_WEALTH'] = df['CAMEO_INTL_2015'].apply(\n",
    "        get_digit, digit=0)\n",
    "    df['ENG_LIFE_STAGE'] = df['CAMEO_INTL_2015'].apply(\n",
    "        get_digit, digit=1)\n",
    "\n",
    "    # Drop mixed dtype features\n",
    "    mixed_feat_cols = feat_info[feat_info.type == 'mixed'].attribute\n",
    "    df = df.drop(mixed_feat_cols, axis=1)\n",
    "\n",
    "    return df"
   ]
  },
  {
   "cell_type": "markdown",
   "metadata": {},
   "source": [
    "## Step 2: Feature Transformation\n",
    "\n",
    "### Step 2.1: Apply Feature Scaling\n",
    "\n",
    "Before we apply dimensionality reduction techniques to the data, we need to perform feature scaling so that the principal component vectors are not influenced by the natural differences in scale for features. Starting from this part of the project, you'll want to keep an eye on the [API reference page for sklearn](http://scikit-learn.org/stable/modules/classes.html) to help you navigate to all of the classes and functions that you'll need. In this substep, you'll need to check the following:\n",
    "\n",
    "- sklearn requires that data not have missing values in order for its estimators to work properly. So, before applying the scaler to your data, make sure that you've cleaned the DataFrame of the remaining missing values. This can be as simple as just removing all data points with missing data, or applying an [Imputer](http://scikit-learn.org/stable/modules/generated/sklearn.preprocessing.Imputer.html) to replace all missing values. You might also try a more complicated procedure where you temporarily remove missing values in order to compute the scaling parameters before re-introducing those missing values and applying imputation. Think about how much missing data you have and what possible effects each approach might have on your analysis, and justify your decision in the discussion section below.\n",
    "- For the actual scaling function, a [StandardScaler](http://scikit-learn.org/stable/modules/generated/sklearn.preprocessing.StandardScaler.html) instance is suggested, scaling each feature to mean 0 and standard deviation 1.\n",
    "- For these classes, you can make use of the `.fit_transform()` method to both fit a procedure to the data as well as apply the transformation to the data at the same time. Don't forget to keep the fit sklearn objects handy, since you'll be applying them to the customer demographics data towards the end of the project."
   ]
  },
  {
   "cell_type": "code",
   "execution_count": 72,
   "metadata": {},
   "outputs": [
    {
     "data": {
      "text/plain": [
       "count    64.000000\n",
       "mean      0.006708\n",
       "std       0.013393\n",
       "min       0.000000\n",
       "25%       0.000000\n",
       "50%       0.000034\n",
       "75%       0.004917\n",
       "max       0.060785\n",
       "dtype: float64"
      ]
     },
     "execution_count": 72,
     "metadata": {},
     "output_type": "execute_result"
    }
   ],
   "source": [
    "# check missing rate\n",
    "df.isnull().mean().describe()"
   ]
  },
  {
   "cell_type": "code",
   "execution_count": 73,
   "metadata": {},
   "outputs": [
    {
     "data": {
      "text/plain": [
       "W_KEIT_KIND_HH         6.078497\n",
       "KKK                    5.410188\n",
       "REGIOTYP               5.410188\n",
       "HEALTH_TYP             3.260033\n",
       "VERS_TYP               3.260033\n",
       "ENG_MOVEMENT           2.157784\n",
       "ENG_DECADE             2.157784\n",
       "KBA05_ANTG1            1.470870\n",
       "KBA05_ANTG3            1.470870\n",
       "KBA05_ANTG4            1.470870\n",
       "KBA05_GBZ              1.470870\n",
       "MOBI_REGIO             1.470870\n",
       "KBA05_ANTG2            1.470870\n",
       "ANZ_HAUSHALTE_AKTIV    0.711543\n",
       "ARBEIT                 0.499659\n",
       "dtype: float64"
      ]
     },
     "execution_count": 73,
     "metadata": {},
     "output_type": "execute_result"
    }
   ],
   "source": [
    "# Percentage of nans per column\n",
    "(df.isnull().mean(axis=0) * 100).sort_values(ascending=False)[:15]"
   ]
  },
  {
   "cell_type": "code",
   "execution_count": 74,
   "metadata": {},
   "outputs": [],
   "source": [
    "# Percentage of nans per row \n",
    "nan_perc = (df.isnull().mean(axis=1) * 100).sort_values(ascending=False)\n",
    "\n",
    "#How many rows have nans?\n",
    "num_nan_rows = nan_perc[nan_perc > 0].shape[0]"
   ]
  },
  {
   "cell_type": "code",
   "execution_count": 75,
   "metadata": {},
   "outputs": [
    {
     "name": "stdout",
     "output_type": "stream",
     "text": [
      "num of rows with nan values = 123898\n"
     ]
    }
   ],
   "source": [
    "print('num of rows with nan values = {}'.format(num_nan_rows))"
   ]
  },
  {
   "cell_type": "code",
   "execution_count": 76,
   "metadata": {},
   "outputs": [
    {
     "name": "stdout",
     "output_type": "stream",
     "text": [
      "Total percentage of rows that have NaNs :  16.5837 %\n"
     ]
    }
   ],
   "source": [
    "# as a percentage of rows\n",
    "print('Total percentage of rows that have NaNs : ', round(num_nan_rows/ df.shape[0]  * 100, 4),'%')"
   ]
  },
  {
   "cell_type": "code",
   "execution_count": 77,
   "metadata": {},
   "outputs": [
    {
     "data": {
      "text/plain": [
       "StandardScaler(copy=True, with_mean=True, with_std=True)"
      ]
     },
     "execution_count": 77,
     "metadata": {},
     "output_type": "execute_result"
    }
   ],
   "source": [
    "# Fit the Scaler without NaNs\n",
    "no_nan_df = df.dropna(axis=0)\n",
    "scaler = StandardScaler()\n",
    "scaler.fit(no_nan_df)\n"
   ]
  },
  {
   "cell_type": "code",
   "execution_count": 78,
   "metadata": {},
   "outputs": [],
   "source": [
    "# Imput missing values in the full df with the mean\n",
    "imp = Imputer(missing_values='NaN', strategy='mean', axis=0)\n",
    "X_impute = imp.fit_transform(df)"
   ]
  },
  {
   "cell_type": "code",
   "execution_count": 79,
   "metadata": {},
   "outputs": [],
   "source": [
    "# Transform the df with the fitted scaler\n",
    "X_scale = scaler.transform(X_impute)"
   ]
  },
  {
   "cell_type": "code",
   "execution_count": 80,
   "metadata": {},
   "outputs": [
    {
     "data": {
      "text/html": [
       "<div>\n",
       "<style scoped>\n",
       "    .dataframe tbody tr th:only-of-type {\n",
       "        vertical-align: middle;\n",
       "    }\n",
       "\n",
       "    .dataframe tbody tr th {\n",
       "        vertical-align: top;\n",
       "    }\n",
       "\n",
       "    .dataframe thead th {\n",
       "        text-align: right;\n",
       "    }\n",
       "</style>\n",
       "<table border=\"1\" class=\"dataframe\">\n",
       "  <thead>\n",
       "    <tr style=\"text-align: right;\">\n",
       "      <th></th>\n",
       "      <th>ALTERSKATEGORIE_GROB</th>\n",
       "      <th>ANREDE_KZ</th>\n",
       "      <th>FINANZ_MINIMALIST</th>\n",
       "      <th>FINANZ_SPARER</th>\n",
       "      <th>FINANZ_VORSORGER</th>\n",
       "      <th>FINANZ_ANLEGER</th>\n",
       "      <th>FINANZ_UNAUFFAELLIGER</th>\n",
       "      <th>FINANZ_HAUSBAUER</th>\n",
       "      <th>GREEN_AVANTGARDE</th>\n",
       "      <th>HEALTH_TYP</th>\n",
       "      <th>...</th>\n",
       "      <th>PLZ8_ANTG4</th>\n",
       "      <th>PLZ8_HHZ</th>\n",
       "      <th>PLZ8_GBZ</th>\n",
       "      <th>ARBEIT</th>\n",
       "      <th>ORTSGR_KLS9</th>\n",
       "      <th>RELAT_AB</th>\n",
       "      <th>ENG_DECADE</th>\n",
       "      <th>ENG_MOVEMENT</th>\n",
       "      <th>ENG_WEALTH</th>\n",
       "      <th>ENG_LIFE_STAGE</th>\n",
       "    </tr>\n",
       "  </thead>\n",
       "  <tbody>\n",
       "    <tr>\n",
       "      <th>count</th>\n",
       "      <td>747109.000000</td>\n",
       "      <td>747109.000000</td>\n",
       "      <td>747109.000000</td>\n",
       "      <td>747109.000000</td>\n",
       "      <td>747109.000000</td>\n",
       "      <td>747109.000000</td>\n",
       "      <td>747109.000000</td>\n",
       "      <td>747109.000000</td>\n",
       "      <td>747109.000000</td>\n",
       "      <td>747109.000000</td>\n",
       "      <td>...</td>\n",
       "      <td>747109.000000</td>\n",
       "      <td>747109.000000</td>\n",
       "      <td>747109.000000</td>\n",
       "      <td>747109.000000</td>\n",
       "      <td>747109.000000</td>\n",
       "      <td>747109.000000</td>\n",
       "      <td>747109.000000</td>\n",
       "      <td>747109.000000</td>\n",
       "      <td>747109.000000</td>\n",
       "      <td>747109.000000</td>\n",
       "    </tr>\n",
       "    <tr>\n",
       "      <th>mean</th>\n",
       "      <td>0.003698</td>\n",
       "      <td>0.015413</td>\n",
       "      <td>0.001930</td>\n",
       "      <td>0.008389</td>\n",
       "      <td>-0.000648</td>\n",
       "      <td>0.030617</td>\n",
       "      <td>0.024543</td>\n",
       "      <td>-0.011613</td>\n",
       "      <td>-0.026449</td>\n",
       "      <td>0.000891</td>\n",
       "      <td>...</td>\n",
       "      <td>-0.020237</td>\n",
       "      <td>-0.002344</td>\n",
       "      <td>0.020456</td>\n",
       "      <td>-0.019430</td>\n",
       "      <td>-0.034443</td>\n",
       "      <td>-0.021471</td>\n",
       "      <td>0.005359</td>\n",
       "      <td>-0.014822</td>\n",
       "      <td>-0.029240</td>\n",
       "      <td>-0.000760</td>\n",
       "    </tr>\n",
       "    <tr>\n",
       "      <th>std</th>\n",
       "      <td>0.997498</td>\n",
       "      <td>0.999536</td>\n",
       "      <td>1.006980</td>\n",
       "      <td>1.008161</td>\n",
       "      <td>0.995106</td>\n",
       "      <td>1.011898</td>\n",
       "      <td>1.009243</td>\n",
       "      <td>1.015730</td>\n",
       "      <td>0.982942</td>\n",
       "      <td>0.979313</td>\n",
       "      <td>...</td>\n",
       "      <td>0.993209</td>\n",
       "      <td>1.009009</td>\n",
       "      <td>0.996363</td>\n",
       "      <td>1.003865</td>\n",
       "      <td>0.999515</td>\n",
       "      <td>1.002373</td>\n",
       "      <td>0.995194</td>\n",
       "      <td>0.979819</td>\n",
       "      <td>1.003429</td>\n",
       "      <td>0.992829</td>\n",
       "    </tr>\n",
       "    <tr>\n",
       "      <th>min</th>\n",
       "      <td>-1.746287</td>\n",
       "      <td>-1.022678</td>\n",
       "      <td>-1.512226</td>\n",
       "      <td>-1.141397</td>\n",
       "      <td>-1.765054</td>\n",
       "      <td>-1.221852</td>\n",
       "      <td>-1.139026</td>\n",
       "      <td>-1.588887</td>\n",
       "      <td>-0.553672</td>\n",
       "      <td>-1.591635</td>\n",
       "      <td>...</td>\n",
       "      <td>-0.981973</td>\n",
       "      <td>-2.721004</td>\n",
       "      <td>-2.111170</td>\n",
       "      <td>-2.223015</td>\n",
       "      <td>-1.914219</td>\n",
       "      <td>-1.563993</td>\n",
       "      <td>-2.280170</td>\n",
       "      <td>-0.553672</td>\n",
       "      <td>-1.595951</td>\n",
       "      <td>-1.251111</td>\n",
       "    </tr>\n",
       "    <tr>\n",
       "      <th>25%</th>\n",
       "      <td>-0.772089</td>\n",
       "      <td>-1.022678</td>\n",
       "      <td>-0.777350</td>\n",
       "      <td>-1.141397</td>\n",
       "      <td>-1.045045</td>\n",
       "      <td>-1.221852</td>\n",
       "      <td>-1.139026</td>\n",
       "      <td>-0.856544</td>\n",
       "      <td>-0.553672</td>\n",
       "      <td>-0.273495</td>\n",
       "      <td>...</td>\n",
       "      <td>-0.981973</td>\n",
       "      <td>-0.639701</td>\n",
       "      <td>-0.314765</td>\n",
       "      <td>-0.201175</td>\n",
       "      <td>-0.607437</td>\n",
       "      <td>-0.823841</td>\n",
       "      <td>-0.902320</td>\n",
       "      <td>-0.553672</td>\n",
       "      <td>-0.909992</td>\n",
       "      <td>-1.251111</td>\n",
       "    </tr>\n",
       "    <tr>\n",
       "      <th>50%</th>\n",
       "      <td>0.202108</td>\n",
       "      <td>0.977825</td>\n",
       "      <td>-0.042475</td>\n",
       "      <td>0.219832</td>\n",
       "      <td>0.394972</td>\n",
       "      <td>0.158605</td>\n",
       "      <td>-0.410325</td>\n",
       "      <td>-0.124201</td>\n",
       "      <td>-0.553672</td>\n",
       "      <td>-0.273495</td>\n",
       "      <td>...</td>\n",
       "      <td>0.384671</td>\n",
       "      <td>-0.002344</td>\n",
       "      <td>-0.314765</td>\n",
       "      <td>-0.201175</td>\n",
       "      <td>-0.171843</td>\n",
       "      <td>-0.083688</td>\n",
       "      <td>-0.213395</td>\n",
       "      <td>-0.553672</td>\n",
       "      <td>0.461926</td>\n",
       "      <td>0.082843</td>\n",
       "    </tr>\n",
       "    <tr>\n",
       "      <th>75%</th>\n",
       "      <td>1.176305</td>\n",
       "      <td>0.977825</td>\n",
       "      <td>0.692400</td>\n",
       "      <td>0.900446</td>\n",
       "      <td>1.114980</td>\n",
       "      <td>0.848833</td>\n",
       "      <td>1.047076</td>\n",
       "      <td>0.608142</td>\n",
       "      <td>-0.553672</td>\n",
       "      <td>1.044646</td>\n",
       "      <td>...</td>\n",
       "      <td>0.384671</td>\n",
       "      <td>0.400951</td>\n",
       "      <td>0.583438</td>\n",
       "      <td>0.809745</td>\n",
       "      <td>0.699344</td>\n",
       "      <td>0.656464</td>\n",
       "      <td>1.164455</td>\n",
       "      <td>-0.553672</td>\n",
       "      <td>1.147884</td>\n",
       "      <td>0.749820</td>\n",
       "    </tr>\n",
       "    <tr>\n",
       "      <th>max</th>\n",
       "      <td>1.176305</td>\n",
       "      <td>0.977825</td>\n",
       "      <td>1.427276</td>\n",
       "      <td>1.581061</td>\n",
       "      <td>1.114980</td>\n",
       "      <td>1.539061</td>\n",
       "      <td>1.775776</td>\n",
       "      <td>1.340485</td>\n",
       "      <td>1.806125</td>\n",
       "      <td>1.044646</td>\n",
       "      <td>...</td>\n",
       "      <td>1.751315</td>\n",
       "      <td>1.441603</td>\n",
       "      <td>1.481641</td>\n",
       "      <td>1.820665</td>\n",
       "      <td>1.570532</td>\n",
       "      <td>1.396616</td>\n",
       "      <td>1.164455</td>\n",
       "      <td>1.806125</td>\n",
       "      <td>1.147884</td>\n",
       "      <td>1.416797</td>\n",
       "    </tr>\n",
       "  </tbody>\n",
       "</table>\n",
       "<p>8 rows × 64 columns</p>\n",
       "</div>"
      ],
      "text/plain": [
       "       ALTERSKATEGORIE_GROB      ANREDE_KZ  FINANZ_MINIMALIST  FINANZ_SPARER  \\\n",
       "count         747109.000000  747109.000000      747109.000000  747109.000000   \n",
       "mean               0.003698       0.015413           0.001930       0.008389   \n",
       "std                0.997498       0.999536           1.006980       1.008161   \n",
       "min               -1.746287      -1.022678          -1.512226      -1.141397   \n",
       "25%               -0.772089      -1.022678          -0.777350      -1.141397   \n",
       "50%                0.202108       0.977825          -0.042475       0.219832   \n",
       "75%                1.176305       0.977825           0.692400       0.900446   \n",
       "max                1.176305       0.977825           1.427276       1.581061   \n",
       "\n",
       "       FINANZ_VORSORGER  FINANZ_ANLEGER  FINANZ_UNAUFFAELLIGER  \\\n",
       "count     747109.000000   747109.000000          747109.000000   \n",
       "mean          -0.000648        0.030617               0.024543   \n",
       "std            0.995106        1.011898               1.009243   \n",
       "min           -1.765054       -1.221852              -1.139026   \n",
       "25%           -1.045045       -1.221852              -1.139026   \n",
       "50%            0.394972        0.158605              -0.410325   \n",
       "75%            1.114980        0.848833               1.047076   \n",
       "max            1.114980        1.539061               1.775776   \n",
       "\n",
       "       FINANZ_HAUSBAUER  GREEN_AVANTGARDE     HEALTH_TYP       ...        \\\n",
       "count     747109.000000     747109.000000  747109.000000       ...         \n",
       "mean          -0.011613         -0.026449       0.000891       ...         \n",
       "std            1.015730          0.982942       0.979313       ...         \n",
       "min           -1.588887         -0.553672      -1.591635       ...         \n",
       "25%           -0.856544         -0.553672      -0.273495       ...         \n",
       "50%           -0.124201         -0.553672      -0.273495       ...         \n",
       "75%            0.608142         -0.553672       1.044646       ...         \n",
       "max            1.340485          1.806125       1.044646       ...         \n",
       "\n",
       "          PLZ8_ANTG4       PLZ8_HHZ       PLZ8_GBZ         ARBEIT  \\\n",
       "count  747109.000000  747109.000000  747109.000000  747109.000000   \n",
       "mean       -0.020237      -0.002344       0.020456      -0.019430   \n",
       "std         0.993209       1.009009       0.996363       1.003865   \n",
       "min        -0.981973      -2.721004      -2.111170      -2.223015   \n",
       "25%        -0.981973      -0.639701      -0.314765      -0.201175   \n",
       "50%         0.384671      -0.002344      -0.314765      -0.201175   \n",
       "75%         0.384671       0.400951       0.583438       0.809745   \n",
       "max         1.751315       1.441603       1.481641       1.820665   \n",
       "\n",
       "         ORTSGR_KLS9       RELAT_AB     ENG_DECADE   ENG_MOVEMENT  \\\n",
       "count  747109.000000  747109.000000  747109.000000  747109.000000   \n",
       "mean       -0.034443      -0.021471       0.005359      -0.014822   \n",
       "std         0.999515       1.002373       0.995194       0.979819   \n",
       "min        -1.914219      -1.563993      -2.280170      -0.553672   \n",
       "25%        -0.607437      -0.823841      -0.902320      -0.553672   \n",
       "50%        -0.171843      -0.083688      -0.213395      -0.553672   \n",
       "75%         0.699344       0.656464       1.164455      -0.553672   \n",
       "max         1.570532       1.396616       1.164455       1.806125   \n",
       "\n",
       "          ENG_WEALTH  ENG_LIFE_STAGE  \n",
       "count  747109.000000   747109.000000  \n",
       "mean       -0.029240       -0.000760  \n",
       "std         1.003429        0.992829  \n",
       "min        -1.595951       -1.251111  \n",
       "25%        -0.909992       -1.251111  \n",
       "50%         0.461926        0.082843  \n",
       "75%         1.147884        0.749820  \n",
       "max         1.147884        1.416797  \n",
       "\n",
       "[8 rows x 64 columns]"
      ]
     },
     "execution_count": 80,
     "metadata": {},
     "output_type": "execute_result"
    }
   ],
   "source": [
    "df_scale = pd.DataFrame(X_scale, columns=df.columns)\n",
    "df_scale.describe()"
   ]
  },
  {
   "cell_type": "markdown",
   "metadata": {},
   "source": [
    "### Discussion 2.1: Apply Feature Scaling\n",
    "\n",
    "- Percentage of rows that contain NanNs is 16,37%.\n",
    "- Droping them would discard a significant amount of data in order to handle much smaller amount of actually missing data.\n",
    "- StandardScaler is used to fit the data without the NaNs and then reintroduce them, imputing them with the mean and transforming them with the fitted StandardScaler object thus resulting in a distributions that retain a higher amount of information."
   ]
  },
  {
   "cell_type": "markdown",
   "metadata": {},
   "source": [
    "### Step 2.2: Perform Dimensionality Reduction\n",
    "\n",
    "On your scaled data, you are now ready to apply dimensionality reduction techniques.\n",
    "\n",
    "- Use sklearn's [PCA](http://scikit-learn.org/stable/modules/generated/sklearn.decomposition.PCA.html) class to apply principal component analysis on the data, thus finding the vectors of maximal variance in the data. To start, you should not set any parameters (so all components are computed) or set a number of components that is at least half the number of features (so there's enough features to see the general trend in variability).\n",
    "- Check out the ratio of variance explained by each principal component as well as the cumulative variance explained. Try plotting the cumulative or sequential values using matplotlib's [`plot()`](https://matplotlib.org/api/_as_gen/matplotlib.pyplot.plot.html) function. Based on what you find, select a value for the number of transformed features you'll retain for the clustering part of the project.\n",
    "- Once you've made a choice for the number of components to keep, make sure you re-fit a PCA instance to perform the decided-on transformation."
   ]
  },
  {
   "cell_type": "code",
   "execution_count": 81,
   "metadata": {},
   "outputs": [
    {
     "data": {
      "text/plain": [
       "(747109, 64)"
      ]
     },
     "execution_count": 81,
     "metadata": {},
     "output_type": "execute_result"
    }
   ],
   "source": [
    "X_scale.shape"
   ]
  },
  {
   "cell_type": "code",
   "execution_count": 82,
   "metadata": {},
   "outputs": [],
   "source": [
    "# Apply PCA to the data.\n",
    "pca = PCA()\n",
    "df_pca = pca.fit_transform(X_scale)"
   ]
  },
  {
   "cell_type": "code",
   "execution_count": 83,
   "metadata": {},
   "outputs": [],
   "source": [
    "# check components number should be the same as total features\n",
    "components_total = len(pca.explained_variance_ratio_)\n",
    "# generate sequence for plotting\n",
    "components = np.arange(components_total)"
   ]
  },
  {
   "cell_type": "code",
   "execution_count": 84,
   "metadata": {},
   "outputs": [
    {
     "data": {
      "text/plain": [
       "Text(0.5,1,'Cumulative Explained Variance vs No. of Principal Components')"
      ]
     },
     "execution_count": 84,
     "metadata": {},
     "output_type": "execute_result"
    },
    {
     "data": {
      "image/png": "[encoded data removed]",
      "text/plain": [
       "<matplotlib.figure.Figure at 0x7f8e1b8b1390>"
      ]
     },
     "metadata": {
      "needs_background": "light"
     },
     "output_type": "display_data"
    }
   ],
   "source": [
    "# Investigate the variance accounted for by each principal component.\n",
    "# refer to this blog:https://github.com/S-Tabor/udacity-customer-segmentation-project/blob/master/identify_customer_segments_final.ipynb\n",
    "fig, ax1 = plt.subplots(figsize=(15,5))\n",
    "\n",
    "ax1.bar(components, pca.explained_variance_ratio_)\n",
    "ax1.set_ylabel('Explained Variance', color=\"blue\")\n",
    "ax1.set_xlabel('Number of Components')\n",
    "\n",
    "ax2 = ax1.twinx() \n",
    "ax2.plot(np.cumsum(pca.explained_variance_ratio_), color=\"red\",marker='o')\n",
    "ax2.set_ylabel('Cumulative Explained Variance', color=\"red\")\n",
    "plt.title(\"Cumulative Explained Variance vs No. of Principal Components\")"
   ]
  },
  {
   "cell_type": "code",
   "execution_count": 85,
   "metadata": {},
   "outputs": [
    {
     "data": {
      "text/plain": [
       "0.84406757032126845"
      ]
     },
     "execution_count": 85,
     "metadata": {},
     "output_type": "execute_result"
    }
   ],
   "source": [
    "np.cumsum(pca.explained_variance_ratio_[:25])[-1]"
   ]
  },
  {
   "cell_type": "code",
   "execution_count": 86,
   "metadata": {},
   "outputs": [],
   "source": [
    "# Re-apply PCA to the data while selecting for number of components to retain.\n",
    "pca = PCA(n_components=25)\n",
    "pca_25 = pca.fit_transform(X_scale)\n",
    "pca_25_df = pd.DataFrame(pca_25)"
   ]
  },
  {
   "cell_type": "markdown",
   "metadata": {},
   "source": [
    "### Discussion 2.2: Perform Dimensionality Reduction\n",
    "\n",
    "- PCA method is used on the scaled dataset and plot explained variance against the number of components together with cumulative explained variance.\n",
    "- 25 components are kept to retain 84% of cumulative explained variance."
   ]
  },
  {
   "cell_type": "markdown",
   "metadata": {},
   "source": [
    "### Step 2.3: Interpret Principal Components\n",
    "\n",
    "Now that we have our transformed principal components, it's a nice idea to check out the weight of each variable on the first few components to see if they can be interpreted in some fashion.\n",
    "\n",
    "As a reminder, each principal component is a unit vector that points in the direction of highest variance (after accounting for the variance captured by earlier principal components). The further a weight is from zero, the more the principal component is in the direction of the corresponding feature. If two features have large weights of the same sign (both positive or both negative), then increases in one tend expect to be associated with increases in the other. To contrast, features with different signs can be expected to show a negative correlation: increases in one variable should result in a decrease in the other.\n",
    "\n",
    "- To investigate the features, you should map each weight to their corresponding feature name, then sort the features according to weight. The most interesting features for each principal component, then, will be those at the beginning and end of the sorted list. Use the data dictionary document to help you understand these most prominent features, their relationships, and what a positive or negative value on the principal component might indicate.\n",
    "- You should investigate and interpret feature associations from the first three principal components in this substep. To help facilitate this, you should write a function that you can call at any time to print the sorted list of feature weights, for the *i*-th principal component. This might come in handy in the next step of the project, when you interpret the tendencies of the discovered clusters."
   ]
  },
  {
   "cell_type": "code",
   "execution_count": 87,
   "metadata": {},
   "outputs": [
    {
     "data": {
      "text/plain": [
       "64"
      ]
     },
     "execution_count": 87,
     "metadata": {},
     "output_type": "execute_result"
    }
   ],
   "source": [
    "len(pca.components_[0])"
   ]
  },
  {
   "cell_type": "code",
   "execution_count": 88,
   "metadata": {},
   "outputs": [
    {
     "data": {
      "text/plain": [
       "(747109, 64)"
      ]
     },
     "execution_count": 88,
     "metadata": {},
     "output_type": "execute_result"
    }
   ],
   "source": [
    "df_scale.shape"
   ]
  },
  {
   "cell_type": "code",
   "execution_count": 89,
   "metadata": {},
   "outputs": [
    {
     "data": {
      "text/html": [
       "<div>\n",
       "<style scoped>\n",
       "    .dataframe tbody tr th:only-of-type {\n",
       "        vertical-align: middle;\n",
       "    }\n",
       "\n",
       "    .dataframe tbody tr th {\n",
       "        vertical-align: top;\n",
       "    }\n",
       "\n",
       "    .dataframe thead th {\n",
       "        text-align: right;\n",
       "    }\n",
       "</style>\n",
       "<table border=\"1\" class=\"dataframe\">\n",
       "  <thead>\n",
       "    <tr style=\"text-align: right;\">\n",
       "      <th></th>\n",
       "      <th>ALTERSKATEGORIE_GROB</th>\n",
       "      <th>ANREDE_KZ</th>\n",
       "      <th>FINANZ_MINIMALIST</th>\n",
       "      <th>FINANZ_SPARER</th>\n",
       "      <th>FINANZ_VORSORGER</th>\n",
       "      <th>FINANZ_ANLEGER</th>\n",
       "      <th>FINANZ_UNAUFFAELLIGER</th>\n",
       "      <th>FINANZ_HAUSBAUER</th>\n",
       "      <th>GREEN_AVANTGARDE</th>\n",
       "      <th>HEALTH_TYP</th>\n",
       "      <th>...</th>\n",
       "      <th>PLZ8_ANTG4</th>\n",
       "      <th>PLZ8_HHZ</th>\n",
       "      <th>PLZ8_GBZ</th>\n",
       "      <th>ARBEIT</th>\n",
       "      <th>ORTSGR_KLS9</th>\n",
       "      <th>RELAT_AB</th>\n",
       "      <th>ENG_DECADE</th>\n",
       "      <th>ENG_MOVEMENT</th>\n",
       "      <th>ENG_WEALTH</th>\n",
       "      <th>ENG_LIFE_STAGE</th>\n",
       "    </tr>\n",
       "  </thead>\n",
       "  <tbody>\n",
       "    <tr>\n",
       "      <th>0</th>\n",
       "      <td>-0.1175</td>\n",
       "      <td>0.0057</td>\n",
       "      <td>-0.2193</td>\n",
       "      <td>0.1436</td>\n",
       "      <td>-0.1105</td>\n",
       "      <td>0.0650</td>\n",
       "      <td>0.0734</td>\n",
       "      <td>0.1645</td>\n",
       "      <td>-0.1083</td>\n",
       "      <td>0.0283</td>\n",
       "      <td>...</td>\n",
       "      <td>0.2178</td>\n",
       "      <td>0.0419</td>\n",
       "      <td>-0.1672</td>\n",
       "      <td>0.1441</td>\n",
       "      <td>0.1970</td>\n",
       "      <td>0.1353</td>\n",
       "      <td>0.0997</td>\n",
       "      <td>-0.1068</td>\n",
       "      <td>0.2078</td>\n",
       "      <td>-0.1236</td>\n",
       "    </tr>\n",
       "    <tr>\n",
       "      <th>1</th>\n",
       "      <td>0.2604</td>\n",
       "      <td>0.0864</td>\n",
       "      <td>0.0719</td>\n",
       "      <td>-0.2418</td>\n",
       "      <td>0.2337</td>\n",
       "      <td>-0.2121</td>\n",
       "      <td>-0.2312</td>\n",
       "      <td>0.1161</td>\n",
       "      <td>-0.0134</td>\n",
       "      <td>-0.0581</td>\n",
       "      <td>...</td>\n",
       "      <td>0.0861</td>\n",
       "      <td>0.0130</td>\n",
       "      <td>-0.0694</td>\n",
       "      <td>0.0652</td>\n",
       "      <td>0.0882</td>\n",
       "      <td>0.0630</td>\n",
       "      <td>-0.2515</td>\n",
       "      <td>-0.0113</td>\n",
       "      <td>0.0709</td>\n",
       "      <td>0.0028</td>\n",
       "    </tr>\n",
       "    <tr>\n",
       "      <th>2</th>\n",
       "      <td>0.0765</td>\n",
       "      <td>-0.3727</td>\n",
       "      <td>0.1599</td>\n",
       "      <td>-0.1035</td>\n",
       "      <td>0.0975</td>\n",
       "      <td>-0.1905</td>\n",
       "      <td>-0.0951</td>\n",
       "      <td>-0.0495</td>\n",
       "      <td>0.0501</td>\n",
       "      <td>-0.0151</td>\n",
       "      <td>...</td>\n",
       "      <td>0.0432</td>\n",
       "      <td>0.0052</td>\n",
       "      <td>-0.0358</td>\n",
       "      <td>0.0323</td>\n",
       "      <td>0.0462</td>\n",
       "      <td>0.0305</td>\n",
       "      <td>-0.1049</td>\n",
       "      <td>0.0493</td>\n",
       "      <td>0.0237</td>\n",
       "      <td>-0.0079</td>\n",
       "    </tr>\n",
       "    <tr>\n",
       "      <th>3</th>\n",
       "      <td>-0.0435</td>\n",
       "      <td>0.0403</td>\n",
       "      <td>0.0639</td>\n",
       "      <td>-0.0002</td>\n",
       "      <td>-0.0163</td>\n",
       "      <td>-0.1265</td>\n",
       "      <td>0.0906</td>\n",
       "      <td>-0.1095</td>\n",
       "      <td>0.3894</td>\n",
       "      <td>0.0054</td>\n",
       "      <td>...</td>\n",
       "      <td>0.0795</td>\n",
       "      <td>0.1483</td>\n",
       "      <td>0.0426</td>\n",
       "      <td>0.0463</td>\n",
       "      <td>0.2498</td>\n",
       "      <td>0.0939</td>\n",
       "      <td>0.0399</td>\n",
       "      <td>0.3876</td>\n",
       "      <td>-0.1281</td>\n",
       "      <td>0.0596</td>\n",
       "    </tr>\n",
       "    <tr>\n",
       "      <th>4</th>\n",
       "      <td>0.0054</td>\n",
       "      <td>0.0079</td>\n",
       "      <td>0.0860</td>\n",
       "      <td>-0.0064</td>\n",
       "      <td>-0.0647</td>\n",
       "      <td>0.0360</td>\n",
       "      <td>-0.0460</td>\n",
       "      <td>-0.0978</td>\n",
       "      <td>0.0636</td>\n",
       "      <td>0.0130</td>\n",
       "      <td>...</td>\n",
       "      <td>0.0316</td>\n",
       "      <td>-0.4701</td>\n",
       "      <td>-0.3933</td>\n",
       "      <td>0.2176</td>\n",
       "      <td>0.0950</td>\n",
       "      <td>0.1407</td>\n",
       "      <td>0.0284</td>\n",
       "      <td>0.0613</td>\n",
       "      <td>-0.0117</td>\n",
       "      <td>0.0211</td>\n",
       "    </tr>\n",
       "  </tbody>\n",
       "</table>\n",
       "<p>5 rows × 64 columns</p>\n",
       "</div>"
      ],
      "text/plain": [
       "   ALTERSKATEGORIE_GROB  ANREDE_KZ  FINANZ_MINIMALIST  FINANZ_SPARER  \\\n",
       "0               -0.1175     0.0057            -0.2193         0.1436   \n",
       "1                0.2604     0.0864             0.0719        -0.2418   \n",
       "2                0.0765    -0.3727             0.1599        -0.1035   \n",
       "3               -0.0435     0.0403             0.0639        -0.0002   \n",
       "4                0.0054     0.0079             0.0860        -0.0064   \n",
       "\n",
       "   FINANZ_VORSORGER  FINANZ_ANLEGER  FINANZ_UNAUFFAELLIGER  FINANZ_HAUSBAUER  \\\n",
       "0           -0.1105          0.0650                 0.0734            0.1645   \n",
       "1            0.2337         -0.2121                -0.2312            0.1161   \n",
       "2            0.0975         -0.1905                -0.0951           -0.0495   \n",
       "3           -0.0163         -0.1265                 0.0906           -0.1095   \n",
       "4           -0.0647          0.0360                -0.0460           -0.0978   \n",
       "\n",
       "   GREEN_AVANTGARDE  HEALTH_TYP       ...        PLZ8_ANTG4  PLZ8_HHZ  \\\n",
       "0           -0.1083      0.0283       ...            0.2178    0.0419   \n",
       "1           -0.0134     -0.0581       ...            0.0861    0.0130   \n",
       "2            0.0501     -0.0151       ...            0.0432    0.0052   \n",
       "3            0.3894      0.0054       ...            0.0795    0.1483   \n",
       "4            0.0636      0.0130       ...            0.0316   -0.4701   \n",
       "\n",
       "   PLZ8_GBZ  ARBEIT  ORTSGR_KLS9  RELAT_AB  ENG_DECADE  ENG_MOVEMENT  \\\n",
       "0   -0.1672  0.1441       0.1970    0.1353      0.0997       -0.1068   \n",
       "1   -0.0694  0.0652       0.0882    0.0630     -0.2515       -0.0113   \n",
       "2   -0.0358  0.0323       0.0462    0.0305     -0.1049        0.0493   \n",
       "3    0.0426  0.0463       0.2498    0.0939      0.0399        0.3876   \n",
       "4   -0.3933  0.2176       0.0950    0.1407      0.0284        0.0613   \n",
       "\n",
       "   ENG_WEALTH  ENG_LIFE_STAGE  \n",
       "0      0.2078         -0.1236  \n",
       "1      0.0709          0.0028  \n",
       "2      0.0237         -0.0079  \n",
       "3     -0.1281          0.0596  \n",
       "4     -0.0117          0.0211  \n",
       "\n",
       "[5 rows x 64 columns]"
      ]
     },
     "execution_count": 89,
     "metadata": {},
     "output_type": "execute_result"
    }
   ],
   "source": [
    "# the weights df\n",
    "weights = pd.DataFrame(np.round(pca.components_, 4), columns=df_scale.columns)\n",
    "weights.head()"
   ]
  },
  {
   "cell_type": "code",
   "execution_count": 90,
   "metadata": {},
   "outputs": [],
   "source": [
    "def get_cpn_feat_wgt(pca, df, cpn_num):\n",
    "    \"\"\"Give feature weight of n-th component of pca object\n",
    "    \n",
    "    Args:\n",
    "    pca: pca object. The fitted pca. \n",
    "    df: data frame. Original feature data frame.\n",
    "    cpn_num: int. n-th component.\n",
    "    \n",
    "    Returns:\n",
    "    weight_n: data frame. Feature weight of n-th component.\n",
    "    \"\"\"\n",
    "    \n",
    "    weights = pd.DataFrame(np.round(pca.components_, 4), columns = df.columns)\n",
    "    weight_n = weights.iloc[cpn_num - 1, :].sort_values()\n",
    "    weight_n = weight_n.to_frame()\n",
    "    weight_n.reset_index(level=0, inplace=True)\n",
    "    weight_n.columns = ['colname','weight']\n",
    "    return weight_n"
   ]
  },
  {
   "cell_type": "code",
   "execution_count": 91,
   "metadata": {},
   "outputs": [],
   "source": [
    "def get_topn_feat(cpn_feat_wgt, n=5):\n",
    "    \"\"\"Give feature weight of n-th component of pca object\n",
    "    \n",
    "    Args:\n",
    "    cpn_feat_wgt: data frame. The feature weight of a component.\n",
    "    n: int. The number of top and tail features we want to see.\n",
    "    \n",
    "    Returns:\n",
    "    top_n: data frame. Top N positive and N negative features and corresponding weight.\n",
    "    \"\"\"\n",
    "    tail_n = cpn_feat_wgt.head(n).reset_index(drop=True)\n",
    "    head_n = cpn_feat_wgt.tail(n).sort_values(by='weight',ascending=False).reset_index(drop=True)\n",
    "    top_n = pd.concat([head_n, tail_n], axis=1)\n",
    "    top_n.columns = ['top_pos_col','top_pos_col_weight','top_neg_col','top_neg_col_weight']\n",
    "    return top_n"
   ]
  },
  {
   "cell_type": "code",
   "execution_count": 92,
   "metadata": {},
   "outputs": [
    {
     "data": {
      "text/html": [
       "<style  type=\"text/css\" >\n",
       "    #T_34d1c7be_4bef_11eb_b559_0242ac120002row0_col1 {\n",
       "            width:  10em;\n",
       "             height:  80%;\n",
       "            background:  linear-gradient(90deg, transparent 0%, transparent 0.0%, #d65f5f 0.0%, #d65f5f 100.0%, transparent 100.0%);\n",
       "        }    #T_34d1c7be_4bef_11eb_b559_0242ac120002row0_col3 {\n",
       "            width:  10em;\n",
       "             height:  80%;\n",
       "            background:  linear-gradient(90deg, transparent 0%, transparent 0.0%, #d65f5f 0.0%, #d65f5f 100.0%, transparent 100.0%);\n",
       "        }    #T_34d1c7be_4bef_11eb_b559_0242ac120002row1_col1 {\n",
       "            width:  10em;\n",
       "             height:  80%;\n",
       "            background:  linear-gradient(90deg, transparent 0%, transparent 0.0%, #d65f5f 0.0%, #d65f5f 96.2%, transparent 96.2%);\n",
       "        }    #T_34d1c7be_4bef_11eb_b559_0242ac120002row1_col3 {\n",
       "            width:  10em;\n",
       "             height:  80%;\n",
       "            background:  linear-gradient(90deg, transparent 0%, transparent 7.4%, #d65f5f 7.4%, #d65f5f 100.0%, transparent 100.0%);\n",
       "        }    #T_34d1c7be_4bef_11eb_b559_0242ac120002row2_col1 {\n",
       "            width:  10em;\n",
       "             height:  80%;\n",
       "            background:  linear-gradient(90deg, transparent 0%, transparent 0.0%, #d65f5f 0.0%, #d65f5f 92.0%, transparent 92.0%);\n",
       "        }    #T_34d1c7be_4bef_11eb_b559_0242ac120002row2_col3 {\n",
       "            width:  10em;\n",
       "             height:  80%;\n",
       "            background:  linear-gradient(90deg, transparent 0%, transparent 8.0%, #d65f5f 8.0%, #d65f5f 100.0%, transparent 100.0%);\n",
       "        }    #T_34d1c7be_4bef_11eb_b559_0242ac120002row3_col1 {\n",
       "            width:  10em;\n",
       "             height:  80%;\n",
       "            background:  linear-gradient(90deg, transparent 0%, transparent 0.0%, #d65f5f 0.0%, #d65f5f 91.8%, transparent 91.8%);\n",
       "        }    #T_34d1c7be_4bef_11eb_b559_0242ac120002row3_col3 {\n",
       "            width:  10em;\n",
       "             height:  80%;\n",
       "            background:  linear-gradient(90deg, transparent 0%, transparent 9.6%, #d65f5f 9.6%, #d65f5f 100.0%, transparent 100.0%);\n",
       "        }    #T_34d1c7be_4bef_11eb_b559_0242ac120002row4_col1 {\n",
       "            width:  10em;\n",
       "             height:  80%;\n",
       "            background:  linear-gradient(90deg, transparent 0%, transparent 0.0%, #d65f5f 0.0%, #d65f5f 87.0%, transparent 87.0%);\n",
       "        }    #T_34d1c7be_4bef_11eb_b559_0242ac120002row4_col3 {\n",
       "            width:  10em;\n",
       "             height:  80%;\n",
       "            background:  linear-gradient(90deg, transparent 0%, transparent 10.0%, #d65f5f 10.0%, #d65f5f 100.0%, transparent 100.0%);\n",
       "        }</style>  \n",
       "<table id=\"T_34d1c7be_4bef_11eb_b559_0242ac120002\" > \n",
       "<thead>    <tr> \n",
       "        <th class=\"blank level0\" ></th> \n",
       "        <th class=\"col_heading level0 col0\" >top_pos_col</th> \n",
       "        <th class=\"col_heading level0 col1\" >top_pos_col_weight</th> \n",
       "        <th class=\"col_heading level0 col2\" >top_neg_col</th> \n",
       "        <th class=\"col_heading level0 col3\" >top_neg_col_weight</th> \n",
       "    </tr></thead> \n",
       "<tbody>    <tr> \n",
       "        <th id=\"T_34d1c7be_4bef_11eb_b559_0242ac120002level0_row0\" class=\"row_heading level0 row0\" >0</th> \n",
       "        <td id=\"T_34d1c7be_4bef_11eb_b559_0242ac120002row0_col0\" class=\"data row0 col0\" >PLZ8_ANTG3</td> \n",
       "        <td id=\"T_34d1c7be_4bef_11eb_b559_0242ac120002row0_col1\" class=\"data row0 col1\" >0.2264</td> \n",
       "        <td id=\"T_34d1c7be_4bef_11eb_b559_0242ac120002row0_col2\" class=\"data row0 col2\" >MOBI_REGIO</td> \n",
       "        <td id=\"T_34d1c7be_4bef_11eb_b559_0242ac120002row0_col3\" class=\"data row0 col3\" >-0.2425</td> \n",
       "    </tr>    <tr> \n",
       "        <th id=\"T_34d1c7be_4bef_11eb_b559_0242ac120002level0_row1\" class=\"row_heading level0 row1\" >1</th> \n",
       "        <td id=\"T_34d1c7be_4bef_11eb_b559_0242ac120002row1_col0\" class=\"data row1 col0\" >PLZ8_ANTG4</td> \n",
       "        <td id=\"T_34d1c7be_4bef_11eb_b559_0242ac120002row1_col1\" class=\"data row1 col1\" >0.2178</td> \n",
       "        <td id=\"T_34d1c7be_4bef_11eb_b559_0242ac120002row1_col2\" class=\"data row1 col2\" >PLZ8_ANTG1</td> \n",
       "        <td id=\"T_34d1c7be_4bef_11eb_b559_0242ac120002row1_col3\" class=\"data row1 col3\" >-0.2245</td> \n",
       "    </tr>    <tr> \n",
       "        <th id=\"T_34d1c7be_4bef_11eb_b559_0242ac120002level0_row2\" class=\"row_heading level0 row2\" >2</th> \n",
       "        <td id=\"T_34d1c7be_4bef_11eb_b559_0242ac120002row2_col0\" class=\"data row2 col0\" >HH_EINKOMMEN_SCORE</td> \n",
       "        <td id=\"T_34d1c7be_4bef_11eb_b559_0242ac120002row2_col1\" class=\"data row2 col1\" >0.2082</td> \n",
       "        <td id=\"T_34d1c7be_4bef_11eb_b559_0242ac120002row2_col2\" class=\"data row2 col2\" >KBA05_ANTG1</td> \n",
       "        <td id=\"T_34d1c7be_4bef_11eb_b559_0242ac120002row2_col3\" class=\"data row2 col3\" >-0.223</td> \n",
       "    </tr>    <tr> \n",
       "        <th id=\"T_34d1c7be_4bef_11eb_b559_0242ac120002level0_row3\" class=\"row_heading level0 row3\" >3</th> \n",
       "        <td id=\"T_34d1c7be_4bef_11eb_b559_0242ac120002row3_col0\" class=\"data row3 col0\" >ENG_WEALTH</td> \n",
       "        <td id=\"T_34d1c7be_4bef_11eb_b559_0242ac120002row3_col1\" class=\"data row3 col1\" >0.2078</td> \n",
       "        <td id=\"T_34d1c7be_4bef_11eb_b559_0242ac120002row3_col2\" class=\"data row3 col2\" >FINANZ_MINIMALIST</td> \n",
       "        <td id=\"T_34d1c7be_4bef_11eb_b559_0242ac120002row3_col3\" class=\"data row3 col3\" >-0.2193</td> \n",
       "    </tr>    <tr> \n",
       "        <th id=\"T_34d1c7be_4bef_11eb_b559_0242ac120002level0_row4\" class=\"row_heading level0 row4\" >4</th> \n",
       "        <td id=\"T_34d1c7be_4bef_11eb_b559_0242ac120002row4_col0\" class=\"data row4 col0\" >ORTSGR_KLS9</td> \n",
       "        <td id=\"T_34d1c7be_4bef_11eb_b559_0242ac120002row4_col1\" class=\"data row4 col1\" >0.197</td> \n",
       "        <td id=\"T_34d1c7be_4bef_11eb_b559_0242ac120002row4_col2\" class=\"data row4 col2\" >KBA05_GBZ</td> \n",
       "        <td id=\"T_34d1c7be_4bef_11eb_b559_0242ac120002row4_col3\" class=\"data row4 col3\" >-0.2183</td> \n",
       "    </tr></tbody> \n",
       "</table> "
      ],
      "text/plain": [
       "<pandas.io.formats.style.Styler at 0x7f8e1b5aaeb8>"
      ]
     },
     "execution_count": 92,
     "metadata": {},
     "output_type": "execute_result"
    }
   ],
   "source": [
    "# Map weights for the first principal component to corresponding feature names\n",
    "# and then print the linked values, sorted by weight.\n",
    "# HINT: Try defining a function here or in a new cell that you can reuse in the\n",
    "# other cells.\n",
    "cpn_wgt_1st = get_cpn_feat_wgt(pca, df_scale, 1)\n",
    "get_topn_feat(cpn_wgt_1st).style.bar(align='mid')"
   ]
  },
  {
   "cell_type": "markdown",
   "metadata": {},
   "source": [
    "Top 5 Positive\n",
    "\n",
    "- **PLZ8_ANTG3**: Number of 6-10 family houses in the PLZ8 region (0: no 6-10 family homes, 3: high share of 6-10 family homes)\n",
    "- **PLZ8_ANTG4**: Number of 10+ family houses in the PLZ8 region (0: no 10+ family home, 2: - high share of 10+ family homes)\n",
    "- **HH_EINKOMMEN_SCORE**: Estimated household net income (1: highest income, 6: very low income)\n",
    "- **ENG_WEALTH**: Household wealth - Engineered (1: Wealthy Households, 5: Poorer Households)\n",
    "- **ORTSGR_KLS9**:Size of community\n",
    "\n",
    "Top 5 Negative\n",
    "\n",
    "- **MOBI_REGIO**: Movement patterns (1: very high movement, 6: none)\n",
    "- **FINANZ_MINIMALIST**: Financial typology - MINIMALIST: low financial interest (1: very high, 5: very low)\n",
    "- **KBA05_ANTG1**: Number of 1-2 family houses in the microcell (0: no 1-2 family homes, 4: very high share of 1-2 family homes)\n",
    "- **KBA05_GBZ**: Number of buildings in the microcell(1: 1-2 buildings;5: >=23 buildings)\n",
    "- **PLZ8_ANTG1**: Number of 1-2 family houses in the PLZ8 region (0: no 1-2 family homes, 4: very high share of 1-2 family homes)\n",
    "\n",
    "So the first component captures **population density and income**"
   ]
  },
  {
   "cell_type": "code",
   "execution_count": 93,
   "metadata": {},
   "outputs": [
    {
     "data": {
      "text/html": [
       "<style  type=\"text/css\" >\n",
       "    #T_4ec64bb8_4bef_11eb_b559_0242ac120002row0_col1 {\n",
       "            width:  10em;\n",
       "             height:  80%;\n",
       "            background:  linear-gradient(90deg, transparent 0%, transparent 0.0%, #d65f5f 0.0%, #d65f5f 100.0%, transparent 100.0%);\n",
       "        }    #T_4ec64bb8_4bef_11eb_b559_0242ac120002row0_col3 {\n",
       "            width:  10em;\n",
       "             height:  80%;\n",
       "            background:  linear-gradient(90deg, transparent 0%, transparent 0.0%, #d65f5f 0.0%, #d65f5f 100.0%, transparent 100.0%);\n",
       "        }    #T_4ec64bb8_4bef_11eb_b559_0242ac120002row1_col1 {\n",
       "            width:  10em;\n",
       "             height:  80%;\n",
       "            background:  linear-gradient(90deg, transparent 0%, transparent 0.0%, #d65f5f 0.0%, #d65f5f 89.7%, transparent 89.7%);\n",
       "        }    #T_4ec64bb8_4bef_11eb_b559_0242ac120002row1_col3 {\n",
       "            width:  10em;\n",
       "             height:  80%;\n",
       "            background:  linear-gradient(90deg, transparent 0%, transparent 3.6%, #d65f5f 3.6%, #d65f5f 100.0%, transparent 100.0%);\n",
       "        }    #T_4ec64bb8_4bef_11eb_b559_0242ac120002row2_col1 {\n",
       "            width:  10em;\n",
       "             height:  80%;\n",
       "            background:  linear-gradient(90deg, transparent 0%, transparent 0.0%, #d65f5f 0.0%, #d65f5f 88.2%, transparent 88.2%);\n",
       "        }    #T_4ec64bb8_4bef_11eb_b559_0242ac120002row2_col3 {\n",
       "            width:  10em;\n",
       "             height:  80%;\n",
       "            background:  linear-gradient(90deg, transparent 0%, transparent 7.3%, #d65f5f 7.3%, #d65f5f 100.0%, transparent 100.0%);\n",
       "        }    #T_4ec64bb8_4bef_11eb_b559_0242ac120002row3_col1 {\n",
       "            width:  10em;\n",
       "             height:  80%;\n",
       "            background:  linear-gradient(90deg, transparent 0%, transparent 0.0%, #d65f5f 0.0%, #d65f5f 69.6%, transparent 69.6%);\n",
       "        }    #T_4ec64bb8_4bef_11eb_b559_0242ac120002row3_col3 {\n",
       "            width:  10em;\n",
       "             height:  80%;\n",
       "            background:  linear-gradient(90deg, transparent 0%, transparent 11.4%, #d65f5f 11.4%, #d65f5f 100.0%, transparent 100.0%);\n",
       "        }    #T_4ec64bb8_4bef_11eb_b559_0242ac120002row4_col1 {\n",
       "            width:  10em;\n",
       "             height:  80%;\n",
       "            background:  linear-gradient(90deg, transparent 0%, transparent 0.0%, #d65f5f 0.0%, #d65f5f 64.6%, transparent 64.6%);\n",
       "        }    #T_4ec64bb8_4bef_11eb_b559_0242ac120002row4_col3 {\n",
       "            width:  10em;\n",
       "             height:  80%;\n",
       "            background:  linear-gradient(90deg, transparent 0%, transparent 12.8%, #d65f5f 12.8%, #d65f5f 100.0%, transparent 100.0%);\n",
       "        }</style>  \n",
       "<table id=\"T_4ec64bb8_4bef_11eb_b559_0242ac120002\" > \n",
       "<thead>    <tr> \n",
       "        <th class=\"blank level0\" ></th> \n",
       "        <th class=\"col_heading level0 col0\" >top_pos_col</th> \n",
       "        <th class=\"col_heading level0 col1\" >top_pos_col_weight</th> \n",
       "        <th class=\"col_heading level0 col2\" >top_neg_col</th> \n",
       "        <th class=\"col_heading level0 col3\" >top_neg_col_weight</th> \n",
       "    </tr></thead> \n",
       "<tbody>    <tr> \n",
       "        <th id=\"T_4ec64bb8_4bef_11eb_b559_0242ac120002level0_row0\" class=\"row_heading level0 row0\" >0</th> \n",
       "        <td id=\"T_4ec64bb8_4bef_11eb_b559_0242ac120002row0_col0\" class=\"data row0 col0\" >ALTERSKATEGORIE_GROB</td> \n",
       "        <td id=\"T_4ec64bb8_4bef_11eb_b559_0242ac120002row0_col1\" class=\"data row0 col1\" >0.2604</td> \n",
       "        <td id=\"T_4ec64bb8_4bef_11eb_b559_0242ac120002row0_col2\" class=\"data row0 col2\" >SEMIO_REL</td> \n",
       "        <td id=\"T_4ec64bb8_4bef_11eb_b559_0242ac120002row0_col3\" class=\"data row0 col3\" >-0.2609</td> \n",
       "    </tr>    <tr> \n",
       "        <th id=\"T_4ec64bb8_4bef_11eb_b559_0242ac120002level0_row1\" class=\"row_heading level0 row1\" >1</th> \n",
       "        <td id=\"T_4ec64bb8_4bef_11eb_b559_0242ac120002row1_col0\" class=\"data row1 col0\" >FINANZ_VORSORGER</td> \n",
       "        <td id=\"T_4ec64bb8_4bef_11eb_b559_0242ac120002row1_col1\" class=\"data row1 col1\" >0.2337</td> \n",
       "        <td id=\"T_4ec64bb8_4bef_11eb_b559_0242ac120002row1_col2\" class=\"data row1 col2\" >ENG_DECADE</td> \n",
       "        <td id=\"T_4ec64bb8_4bef_11eb_b559_0242ac120002row1_col3\" class=\"data row1 col3\" >-0.2515</td> \n",
       "    </tr>    <tr> \n",
       "        <th id=\"T_4ec64bb8_4bef_11eb_b559_0242ac120002level0_row2\" class=\"row_heading level0 row2\" >2</th> \n",
       "        <td id=\"T_4ec64bb8_4bef_11eb_b559_0242ac120002row2_col0\" class=\"data row2 col0\" >SEMIO_ERL</td> \n",
       "        <td id=\"T_4ec64bb8_4bef_11eb_b559_0242ac120002row2_col1\" class=\"data row2 col1\" >0.2297</td> \n",
       "        <td id=\"T_4ec64bb8_4bef_11eb_b559_0242ac120002row2_col2\" class=\"data row2 col2\" >FINANZ_SPARER</td> \n",
       "        <td id=\"T_4ec64bb8_4bef_11eb_b559_0242ac120002row2_col3\" class=\"data row2 col3\" >-0.2418</td> \n",
       "    </tr>    <tr> \n",
       "        <th id=\"T_4ec64bb8_4bef_11eb_b559_0242ac120002level0_row3\" class=\"row_heading level0 row3\" >3</th> \n",
       "        <td id=\"T_4ec64bb8_4bef_11eb_b559_0242ac120002row3_col0\" class=\"data row3 col0\" >SEMIO_LUST</td> \n",
       "        <td id=\"T_4ec64bb8_4bef_11eb_b559_0242ac120002row3_col1\" class=\"data row3 col1\" >0.1812</td> \n",
       "        <td id=\"T_4ec64bb8_4bef_11eb_b559_0242ac120002row3_col2\" class=\"data row3 col2\" >FINANZ_UNAUFFAELLIGER</td> \n",
       "        <td id=\"T_4ec64bb8_4bef_11eb_b559_0242ac120002row3_col3\" class=\"data row3 col3\" >-0.2312</td> \n",
       "    </tr>    <tr> \n",
       "        <th id=\"T_4ec64bb8_4bef_11eb_b559_0242ac120002level0_row4\" class=\"row_heading level0 row4\" >4</th> \n",
       "        <td id=\"T_4ec64bb8_4bef_11eb_b559_0242ac120002row4_col0\" class=\"data row4 col0\" >RETOURTYP_BK_S</td> \n",
       "        <td id=\"T_4ec64bb8_4bef_11eb_b559_0242ac120002row4_col1\" class=\"data row4 col1\" >0.1681</td> \n",
       "        <td id=\"T_4ec64bb8_4bef_11eb_b559_0242ac120002row4_col2\" class=\"data row4 col2\" >SEMIO_TRADV</td> \n",
       "        <td id=\"T_4ec64bb8_4bef_11eb_b559_0242ac120002row4_col3\" class=\"data row4 col3\" >-0.2276</td> \n",
       "    </tr></tbody> \n",
       "</table> "
      ],
      "text/plain": [
       "<pandas.io.formats.style.Styler at 0x7f8e44e7fd30>"
      ]
     },
     "execution_count": 93,
     "metadata": {},
     "output_type": "execute_result"
    }
   ],
   "source": [
    "# Map weights for the second principal component to corresponding feature names\n",
    "# and then print the linked values, sorted by weight.\n",
    "cpn_wgt_1st = get_cpn_feat_wgt(pca, df_scale, 2)\n",
    "get_topn_feat(cpn_wgt_1st).style.bar(align='mid')"
   ]
  },
  {
   "cell_type": "markdown",
   "metadata": {},
   "source": [
    "Top 5 Positive\n",
    "\n",
    "- **ALTERSKATEGORIE_GROB**: Estimated age based on given name analysis (1: < 30 years old, 4: > 60 years old, 9: uniformly distributed)\n",
    "- **FINANZ_VORSORGER**: Financial be prepared(1: very high)\n",
    "- **RETOURTYP_BK_S**: Return type\n",
    "- **SEMIO_ERL**: Personality typology - event-oriented ( 1: highest affinity, 7: lowest affinity)\n",
    "- **SEMIO_LUST**: Personality typology - sensual-minded ( 1: highest affinity, 7: lowest affinity)\n",
    "\n",
    "Top 5 Negative\n",
    "\n",
    "- **ENG_DECADE**: Person’s decade of youth (1: 40s , 6: 90s)\n",
    "- **FINANZ_SPARER**: Financial typology - money-saver (1: Very high, 5: Very low)\n",
    "- **SEMIO_REL**: Personality typology - religious ( 1: highest affinity, 7: lowest affinity)\n",
    "- **FINANZ_UNAUFFAELLIGER**: Financial typology - inconspicuous (1: Very high, 5: Very low)\n",
    "- **SEMIO_TRADV**: Personality typology\n",
    "\n",
    "So the second component seems to indicate **age and personality**"
   ]
  },
  {
   "cell_type": "code",
   "execution_count": 94,
   "metadata": {},
   "outputs": [
    {
     "data": {
      "text/html": [
       "<style  type=\"text/css\" >\n",
       "    #T_50897236_4bef_11eb_b559_0242ac120002row0_col1 {\n",
       "            width:  10em;\n",
       "             height:  80%;\n",
       "            background:  linear-gradient(90deg, transparent 0%, transparent 0.0%, #d65f5f 0.0%, #d65f5f 100.0%, transparent 100.0%);\n",
       "        }    #T_50897236_4bef_11eb_b559_0242ac120002row0_col3 {\n",
       "            width:  10em;\n",
       "             height:  80%;\n",
       "            background:  linear-gradient(90deg, transparent 0%, transparent 0.0%, #d65f5f 0.0%, #d65f5f 100.0%, transparent 100.0%);\n",
       "        }    #T_50897236_4bef_11eb_b559_0242ac120002row1_col1 {\n",
       "            width:  10em;\n",
       "             height:  80%;\n",
       "            background:  linear-gradient(90deg, transparent 0%, transparent 0.0%, #d65f5f 0.0%, #d65f5f 75.6%, transparent 75.6%);\n",
       "        }    #T_50897236_4bef_11eb_b559_0242ac120002row1_col3 {\n",
       "            width:  10em;\n",
       "             height:  80%;\n",
       "            background:  linear-gradient(90deg, transparent 0%, transparent 10.6%, #d65f5f 10.6%, #d65f5f 100.0%, transparent 100.0%);\n",
       "        }    #T_50897236_4bef_11eb_b559_0242ac120002row2_col1 {\n",
       "            width:  10em;\n",
       "             height:  80%;\n",
       "            background:  linear-gradient(90deg, transparent 0%, transparent 0.0%, #d65f5f 0.0%, #d65f5f 71.8%, transparent 71.8%);\n",
       "        }    #T_50897236_4bef_11eb_b559_0242ac120002row2_col3 {\n",
       "            width:  10em;\n",
       "             height:  80%;\n",
       "            background:  linear-gradient(90deg, transparent 0%, transparent 17.2%, #d65f5f 17.2%, #d65f5f 100.0%, transparent 100.0%);\n",
       "        }    #T_50897236_4bef_11eb_b559_0242ac120002row3_col1 {\n",
       "            width:  10em;\n",
       "             height:  80%;\n",
       "            background:  linear-gradient(90deg, transparent 0%, transparent 0.0%, #d65f5f 0.0%, #d65f5f 66.8%, transparent 66.8%);\n",
       "        }    #T_50897236_4bef_11eb_b559_0242ac120002row3_col3 {\n",
       "            width:  10em;\n",
       "             height:  80%;\n",
       "            background:  linear-gradient(90deg, transparent 0%, transparent 27.2%, #d65f5f 27.2%, #d65f5f 100.0%, transparent 100.0%);\n",
       "        }    #T_50897236_4bef_11eb_b559_0242ac120002row4_col1 {\n",
       "            width:  10em;\n",
       "             height:  80%;\n",
       "            background:  linear-gradient(90deg, transparent 0%, transparent 0.0%, #d65f5f 0.0%, #d65f5f 45.4%, transparent 45.4%);\n",
       "        }    #T_50897236_4bef_11eb_b559_0242ac120002row4_col3 {\n",
       "            width:  10em;\n",
       "             height:  80%;\n",
       "            background:  linear-gradient(90deg, transparent 0%, transparent 43.1%, #d65f5f 43.1%, #d65f5f 100.0%, transparent 100.0%);\n",
       "        }</style>  \n",
       "<table id=\"T_50897236_4bef_11eb_b559_0242ac120002\" > \n",
       "<thead>    <tr> \n",
       "        <th class=\"blank level0\" ></th> \n",
       "        <th class=\"col_heading level0 col0\" >top_pos_col</th> \n",
       "        <th class=\"col_heading level0 col1\" >top_pos_col_weight</th> \n",
       "        <th class=\"col_heading level0 col2\" >top_neg_col</th> \n",
       "        <th class=\"col_heading level0 col3\" >top_neg_col_weight</th> \n",
       "    </tr></thead> \n",
       "<tbody>    <tr> \n",
       "        <th id=\"T_50897236_4bef_11eb_b559_0242ac120002level0_row0\" class=\"row_heading level0 row0\" >0</th> \n",
       "        <td id=\"T_50897236_4bef_11eb_b559_0242ac120002row0_col0\" class=\"data row0 col0\" >SEMIO_VERT</td> \n",
       "        <td id=\"T_50897236_4bef_11eb_b559_0242ac120002row0_col1\" class=\"data row0 col1\" >0.3524</td> \n",
       "        <td id=\"T_50897236_4bef_11eb_b559_0242ac120002row0_col2\" class=\"data row0 col2\" >ANREDE_KZ</td> \n",
       "        <td id=\"T_50897236_4bef_11eb_b559_0242ac120002row0_col3\" class=\"data row0 col3\" >-0.3727</td> \n",
       "    </tr>    <tr> \n",
       "        <th id=\"T_50897236_4bef_11eb_b559_0242ac120002level0_row1\" class=\"row_heading level0 row1\" >1</th> \n",
       "        <td id=\"T_50897236_4bef_11eb_b559_0242ac120002row1_col0\" class=\"data row1 col0\" >SEMIO_SOZ</td> \n",
       "        <td id=\"T_50897236_4bef_11eb_b559_0242ac120002row1_col1\" class=\"data row1 col1\" >0.2664</td> \n",
       "        <td id=\"T_50897236_4bef_11eb_b559_0242ac120002row1_col2\" class=\"data row1 col2\" >SEMIO_KAEM</td> \n",
       "        <td id=\"T_50897236_4bef_11eb_b559_0242ac120002row1_col3\" class=\"data row1 col3\" >-0.3332</td> \n",
       "    </tr>    <tr> \n",
       "        <th id=\"T_50897236_4bef_11eb_b559_0242ac120002level0_row2\" class=\"row_heading level0 row2\" >2</th> \n",
       "        <td id=\"T_50897236_4bef_11eb_b559_0242ac120002row2_col0\" class=\"data row2 col0\" >SEMIO_FAM</td> \n",
       "        <td id=\"T_50897236_4bef_11eb_b559_0242ac120002row2_col1\" class=\"data row2 col1\" >0.2529</td> \n",
       "        <td id=\"T_50897236_4bef_11eb_b559_0242ac120002row2_col2\" class=\"data row2 col2\" >SEMIO_DOM</td> \n",
       "        <td id=\"T_50897236_4bef_11eb_b559_0242ac120002row2_col3\" class=\"data row2 col3\" >-0.3087</td> \n",
       "    </tr>    <tr> \n",
       "        <th id=\"T_50897236_4bef_11eb_b559_0242ac120002level0_row3\" class=\"row_heading level0 row3\" >3</th> \n",
       "        <td id=\"T_50897236_4bef_11eb_b559_0242ac120002row3_col0\" class=\"data row3 col0\" >SEMIO_KULT</td> \n",
       "        <td id=\"T_50897236_4bef_11eb_b559_0242ac120002row3_col1\" class=\"data row3 col1\" >0.2354</td> \n",
       "        <td id=\"T_50897236_4bef_11eb_b559_0242ac120002row3_col2\" class=\"data row3 col2\" >SEMIO_KRIT</td> \n",
       "        <td id=\"T_50897236_4bef_11eb_b559_0242ac120002row3_col3\" class=\"data row3 col3\" >-0.2713</td> \n",
       "    </tr>    <tr> \n",
       "        <th id=\"T_50897236_4bef_11eb_b559_0242ac120002level0_row4\" class=\"row_heading level0 row4\" >4</th> \n",
       "        <td id=\"T_50897236_4bef_11eb_b559_0242ac120002row4_col0\" class=\"data row4 col0\" >FINANZ_MINIMALIST</td> \n",
       "        <td id=\"T_50897236_4bef_11eb_b559_0242ac120002row4_col1\" class=\"data row4 col1\" >0.1599</td> \n",
       "        <td id=\"T_50897236_4bef_11eb_b559_0242ac120002row4_col2\" class=\"data row4 col2\" >SEMIO_RAT</td> \n",
       "        <td id=\"T_50897236_4bef_11eb_b559_0242ac120002row4_col3\" class=\"data row4 col3\" >-0.2119</td> \n",
       "    </tr></tbody> \n",
       "</table> "
      ],
      "text/plain": [
       "<pandas.io.formats.style.Styler at 0x7f8e1af90b00>"
      ]
     },
     "execution_count": 94,
     "metadata": {},
     "output_type": "execute_result"
    }
   ],
   "source": [
    "# Map weights for the third principal component to corresponding feature names\n",
    "# and then print the linked values, sorted by weight.\n",
    "cpn_wgt_1st = get_cpn_feat_wgt(pca, df_scale, 3)\n",
    "get_topn_feat(cpn_wgt_1st).style.bar(align='mid')"
   ]
  },
  {
   "cell_type": "markdown",
   "metadata": {},
   "source": [
    "Top 5 Positive\n",
    "\n",
    "- **SEMIO_VERT**: Personality typology - VERT: dreamful (1: highest affinity, 7: lowest affinity)\n",
    "- **SEMIO_FAM**: Personality typology - family-minded ( 1: highest affinity, 7: lowest affinity)\n",
    "- **SEMIO_SOZ**: Personality typology - SOZ: socially-minded (1: highest affinity, 7: lowest affinity)\n",
    "- **SEMIO_KULT**: Personality typology - cultural-minded ( 1: highest affinity, 7: lowest affinity)\n",
    "- **FINANZ_MINIMALIST**: Financial typology\n",
    "\n",
    "Top 5 Negative\n",
    "\n",
    "- **ANREDE_KZ**: Gender ( 1: male, 2: female)\n",
    "- **SEMIO_KAEM**: Personality typology - KAEM: combative attitude ( 1: highest affinity, 7: lowest affinity)\n",
    "- **SEMIO_DOM**: Personality typology - DOM: dominant-minded ( 1: highest affinity, 7: lowest affinity)\n",
    "- **SEMIO_KRIT**: Personality typology - KRIT: critical-minded ( 1: highest affinity, 7: lowest affinity)\n",
    "- **SEMIO_RAT**: Personality typology\n",
    "\n",
    "So The third component seems to indicate **gender and personality**"
   ]
  },
  {
   "cell_type": "markdown",
   "metadata": {},
   "source": [
    "### Discussion 2.3: Interpret Principal Components\n",
    "\n",
    "(Double-click this cell and replace this text with your own text, reporting your observations from detailed investigation of the first few principal components generated. Can we interpret positive and negative values from them in a meaningful way?)\n",
    "\n",
    "- **1ST component** captures the population density and financial condition\n",
    "    - [PLZ8_ANTG3, PLZ8_ANTG4, HH_EINKOMMEN_SCORE, ENG_WEALTH, ORTSGR_KLS9] have high positive weights correlated with **People that live in more densely populated areas and with lower financial affluence.**\n",
    "    - [MOBI_REGIO, FINANZ_MINIMALIST, KBA05_ANTG1, KBA05_GBZ, PLZ8_ANTG1] have high negative weights correlated with **People that live in less densely populated areas and with higher financial affluence.**\n",
    "\n",
    "\n",
    "- **2nd component** seems to indicate age,personality\n",
    "    - [ALTERSKATEGORIE_GROB, FINANZ_VORSORGER, RETOURTYP_BK_S, SEMIO_ERL, SEMIO_LUST] have high positive weights correlated with **Older people with lower financial preparation and home ownership that are less sensual and event oriented.**\n",
    "    - [ENG_DECADE, FINANZ_SPARER, SEMIO_REL, FINANZ_UNAUFFAELLIGER, SEMIO_TRADV] have high negative weights correlated with **Younger generation, with lower religious affinity, lower money saving, less inconspicuous and less traditional minded.**\n",
    "\n",
    "\n",
    "- **3rd component** seems to indicate gender,personality\n",
    "    - [SEMIO_VERT, SEMIO_FAM, SEMIO_SOZ, SEMIO_KULT, FINANZ_MINIMALIST] have high positive weights correlated with **Men that are less dreamful, less socially-minded, less cultural-minded not financial minimalists and conservative return shopper types.**\n",
    "    - [ANREDE_KZ, SEMIO_KAEM, SEMIO_DOM, SEMIO_KRIT, SEMIO_RAT] have high negative weights correlated with **Women that are less dominant-minded, less critical-minded, less rational, have less combative attitude and are less prone to investing.**\n"
   ]
  },
  {
   "cell_type": "markdown",
   "metadata": {},
   "source": [
    "## Step 3: Clustering\n",
    "\n",
    "### Step 3.1: Apply Clustering to General Population\n",
    "\n",
    "You've assessed and cleaned the demographics data, then scaled and transformed them. Now, it's time to see how the data clusters in the principal components space. In this substep, you will apply k-means clustering to the dataset and use the average within-cluster distances from each point to their assigned cluster's centroid to decide on a number of clusters to keep.\n",
    "\n",
    "- Use sklearn's [KMeans](http://scikit-learn.org/stable/modules/generated/sklearn.cluster.KMeans.html#sklearn.cluster.KMeans) class to perform k-means clustering on the PCA-transformed data.\n",
    "- Then, compute the average difference from each point to its assigned cluster's center. **Hint**: The KMeans object's `.score()` method might be useful here, but note that in sklearn, scores tend to be defined so that larger is better. Try applying it to a small, toy dataset, or use an internet search to help your understanding.\n",
    "- Perform the above two steps for a number of different cluster counts. You can then see how the average distance decreases with an increasing number of clusters. However, each additional cluster provides a smaller net benefit. Use this fact to select a final number of clusters in which to group the data. **Warning**: because of the large size of the dataset, it can take a long time for the algorithm to resolve. The more clusters to fit, the longer the algorithm will take. You should test for cluster counts through at least 10 clusters to get the full picture, but you shouldn't need to test for a number of clusters above about 30.\n",
    "- Once you've selected a final number of clusters to use, re-fit a KMeans instance to perform the clustering operation. Make sure that you also obtain the cluster assignments for the general demographics data, since you'll be using them in the final Step 3.3."
   ]
  },
  {
   "cell_type": "code",
   "execution_count": 95,
   "metadata": {},
   "outputs": [
    {
     "name": "stdout",
     "output_type": "stream",
     "text": [
      "2\n",
      "3\n",
      "4\n",
      "5\n",
      "6\n",
      "7\n",
      "8\n",
      "9\n",
      "10\n",
      "11\n",
      "12\n",
      "13\n",
      "14\n"
     ]
    }
   ],
   "source": [
    "max_cluster = 15  \n",
    "scores = {}\n",
    "for i in range(2, max_cluster):\n",
    "    # run k-means clustering on the data and keep the score\n",
    "    print(i)\n",
    "    scores[i] = np.abs(KMeans(n_clusters=i).fit(pca_25).score(pca_25))"
   ]
  },
  {
   "cell_type": "code",
   "execution_count": 96,
   "metadata": {},
   "outputs": [
    {
     "data": {
      "image/png": "[encoded data removed]",
      "text/plain": [
       "<matplotlib.figure.Figure at 0x7f8e1af3e908>"
      ]
     },
     "metadata": {
      "needs_background": "light"
     },
     "output_type": "display_data"
    }
   ],
   "source": [
    "# Investigate the change in within-cluster distance across number of clusters.\n",
    "# HINT: Use matplotlib's plot function to visualize this relationship.\n",
    "fig, ax = plt.subplots(figsize=(16,10))    \n",
    "ax = pd.Series(scores).plot(marker='o', color='slategray')\n",
    "ax.set_xticks(np.arange(2, max_cluster), minor=False);\n",
    "ax.set_xlabel(\"Number of Clusters\")\n",
    "ax.set_ylabel(\"SSE\");"
   ]
  },
  {
   "cell_type": "code",
   "execution_count": 97,
   "metadata": {},
   "outputs": [],
   "source": [
    "# Re-fit the k-means model with the selected number of clusters and obtain\n",
    "# cluster predictions for the general population demographics data.\n",
    "clusters_num = 9\n",
    "kmeans_model = KMeans(n_clusters=clusters_num, n_jobs=-1, random_state=0).fit(pca_25)"
   ]
  },
  {
   "cell_type": "code",
   "execution_count": 98,
   "metadata": {},
   "outputs": [
    {
     "name": "stdout",
     "output_type": "stream",
     "text": [
      "[5 6 6 ..., 3 7 4]\n"
     ]
    }
   ],
   "source": [
    "print(kmeans_model.labels_)"
   ]
  },
  {
   "cell_type": "markdown",
   "metadata": {},
   "source": [
    "### Discussion 3.1: Apply Clustering to General Population\n",
    "\n",
    "- The curve in the Distance to Number of Clusters relationship plot is **plotted aganist 15 cluster scores**.\n",
    "\n",
    "- An obvious elbow in the curve where adding additional clusters less effective in reducing the within-cluster distance can be inferred to be **9 clusters** and this number has been used as the number of clusters to fit the the KMeans algorithm on the transformed demographics data and predict cluster labels."
   ]
  },
  {
   "cell_type": "markdown",
   "metadata": {},
   "source": [
    "### Step 3.2: Apply All Steps to the Customer Data\n",
    "\n",
    "Now that you have clusters and cluster centers for the general population, it's time to see how the customer data maps on to those clusters. Take care to not confuse this for re-fitting all of the models to the customer data. Instead, you're going to use the fits from the general population to clean, transform, and cluster the customer data. In the last step of the project, you will interpret how the general population fits apply to the customer data.\n",
    "\n",
    "- Don't forget when loading in the customers data, that it is semicolon (`;`) delimited.\n",
    "- Apply the same feature wrangling, selection, and engineering steps to the customer demographics using the `clean_data()` function you created earlier. (You can assume that the customer demographics data has similar meaning behind missing data patterns as the general demographics data.)\n",
    "- Use the sklearn objects from the general demographics data, and apply their transformations to the customers data. That is, you should not be using a `.fit()` or `.fit_transform()` method to re-fit the old objects, nor should you be creating new sklearn objects! Carry the data through the feature scaling, PCA, and clustering steps, obtaining cluster assignments for all of the data in the customer demographics data."
   ]
  },
  {
   "cell_type": "code",
   "execution_count": 107,
   "metadata": {},
   "outputs": [],
   "source": [
    "# Load in the customer demographics data.\n",
    "customers = pd.read_csv('Udacity_CUSTOMERS_Subset.csv', delimiter=';')"
   ]
  },
  {
   "cell_type": "code",
   "execution_count": 108,
   "metadata": {},
   "outputs": [
    {
     "data": {
      "text/plain": [
       "(191652, 85)"
      ]
     },
     "execution_count": 108,
     "metadata": {},
     "output_type": "execute_result"
    }
   ],
   "source": [
    "customers.shape"
   ]
  },
  {
   "cell_type": "code",
   "execution_count": 109,
   "metadata": {},
   "outputs": [
    {
     "data": {
      "text/html": [
       "<div>\n",
       "<style scoped>\n",
       "    .dataframe tbody tr th:only-of-type {\n",
       "        vertical-align: middle;\n",
       "    }\n",
       "\n",
       "    .dataframe tbody tr th {\n",
       "        vertical-align: top;\n",
       "    }\n",
       "\n",
       "    .dataframe thead th {\n",
       "        text-align: right;\n",
       "    }\n",
       "</style>\n",
       "<table border=\"1\" class=\"dataframe\">\n",
       "  <thead>\n",
       "    <tr style=\"text-align: right;\">\n",
       "      <th></th>\n",
       "      <th>AGER_TYP</th>\n",
       "      <th>ALTERSKATEGORIE_GROB</th>\n",
       "      <th>ANREDE_KZ</th>\n",
       "      <th>CJT_GESAMTTYP</th>\n",
       "      <th>FINANZ_MINIMALIST</th>\n",
       "      <th>FINANZ_SPARER</th>\n",
       "      <th>FINANZ_VORSORGER</th>\n",
       "      <th>FINANZ_ANLEGER</th>\n",
       "      <th>FINANZ_UNAUFFAELLIGER</th>\n",
       "      <th>FINANZ_HAUSBAUER</th>\n",
       "      <th>...</th>\n",
       "      <th>PLZ8_ANTG1</th>\n",
       "      <th>PLZ8_ANTG2</th>\n",
       "      <th>PLZ8_ANTG3</th>\n",
       "      <th>PLZ8_ANTG4</th>\n",
       "      <th>PLZ8_BAUMAX</th>\n",
       "      <th>PLZ8_HHZ</th>\n",
       "      <th>PLZ8_GBZ</th>\n",
       "      <th>ARBEIT</th>\n",
       "      <th>ORTSGR_KLS9</th>\n",
       "      <th>RELAT_AB</th>\n",
       "    </tr>\n",
       "  </thead>\n",
       "  <tbody>\n",
       "    <tr>\n",
       "      <th>0</th>\n",
       "      <td>2</td>\n",
       "      <td>4</td>\n",
       "      <td>1</td>\n",
       "      <td>5.0</td>\n",
       "      <td>5</td>\n",
       "      <td>1</td>\n",
       "      <td>5</td>\n",
       "      <td>1</td>\n",
       "      <td>2</td>\n",
       "      <td>2</td>\n",
       "      <td>...</td>\n",
       "      <td>3.0</td>\n",
       "      <td>3.0</td>\n",
       "      <td>1.0</td>\n",
       "      <td>0.0</td>\n",
       "      <td>1.0</td>\n",
       "      <td>5.0</td>\n",
       "      <td>5.0</td>\n",
       "      <td>1.0</td>\n",
       "      <td>2.0</td>\n",
       "      <td>1.0</td>\n",
       "    </tr>\n",
       "    <tr>\n",
       "      <th>1</th>\n",
       "      <td>-1</td>\n",
       "      <td>4</td>\n",
       "      <td>1</td>\n",
       "      <td>NaN</td>\n",
       "      <td>5</td>\n",
       "      <td>1</td>\n",
       "      <td>5</td>\n",
       "      <td>1</td>\n",
       "      <td>3</td>\n",
       "      <td>2</td>\n",
       "      <td>...</td>\n",
       "      <td>NaN</td>\n",
       "      <td>NaN</td>\n",
       "      <td>NaN</td>\n",
       "      <td>NaN</td>\n",
       "      <td>NaN</td>\n",
       "      <td>NaN</td>\n",
       "      <td>NaN</td>\n",
       "      <td>NaN</td>\n",
       "      <td>NaN</td>\n",
       "      <td>NaN</td>\n",
       "    </tr>\n",
       "    <tr>\n",
       "      <th>2</th>\n",
       "      <td>-1</td>\n",
       "      <td>4</td>\n",
       "      <td>2</td>\n",
       "      <td>2.0</td>\n",
       "      <td>5</td>\n",
       "      <td>1</td>\n",
       "      <td>5</td>\n",
       "      <td>1</td>\n",
       "      <td>4</td>\n",
       "      <td>4</td>\n",
       "      <td>...</td>\n",
       "      <td>2.0</td>\n",
       "      <td>3.0</td>\n",
       "      <td>3.0</td>\n",
       "      <td>1.0</td>\n",
       "      <td>3.0</td>\n",
       "      <td>3.0</td>\n",
       "      <td>2.0</td>\n",
       "      <td>3.0</td>\n",
       "      <td>5.0</td>\n",
       "      <td>3.0</td>\n",
       "    </tr>\n",
       "    <tr>\n",
       "      <th>3</th>\n",
       "      <td>1</td>\n",
       "      <td>4</td>\n",
       "      <td>1</td>\n",
       "      <td>2.0</td>\n",
       "      <td>5</td>\n",
       "      <td>1</td>\n",
       "      <td>5</td>\n",
       "      <td>2</td>\n",
       "      <td>1</td>\n",
       "      <td>2</td>\n",
       "      <td>...</td>\n",
       "      <td>3.0</td>\n",
       "      <td>2.0</td>\n",
       "      <td>1.0</td>\n",
       "      <td>0.0</td>\n",
       "      <td>1.0</td>\n",
       "      <td>3.0</td>\n",
       "      <td>4.0</td>\n",
       "      <td>1.0</td>\n",
       "      <td>3.0</td>\n",
       "      <td>1.0</td>\n",
       "    </tr>\n",
       "    <tr>\n",
       "      <th>4</th>\n",
       "      <td>-1</td>\n",
       "      <td>3</td>\n",
       "      <td>1</td>\n",
       "      <td>6.0</td>\n",
       "      <td>3</td>\n",
       "      <td>1</td>\n",
       "      <td>4</td>\n",
       "      <td>4</td>\n",
       "      <td>5</td>\n",
       "      <td>2</td>\n",
       "      <td>...</td>\n",
       "      <td>2.0</td>\n",
       "      <td>4.0</td>\n",
       "      <td>2.0</td>\n",
       "      <td>1.0</td>\n",
       "      <td>2.0</td>\n",
       "      <td>3.0</td>\n",
       "      <td>3.0</td>\n",
       "      <td>3.0</td>\n",
       "      <td>5.0</td>\n",
       "      <td>1.0</td>\n",
       "    </tr>\n",
       "  </tbody>\n",
       "</table>\n",
       "<p>5 rows × 85 columns</p>\n",
       "</div>"
      ],
      "text/plain": [
       "   AGER_TYP  ALTERSKATEGORIE_GROB  ANREDE_KZ  CJT_GESAMTTYP  \\\n",
       "0         2                     4          1            5.0   \n",
       "1        -1                     4          1            NaN   \n",
       "2        -1                     4          2            2.0   \n",
       "3         1                     4          1            2.0   \n",
       "4        -1                     3          1            6.0   \n",
       "\n",
       "   FINANZ_MINIMALIST  FINANZ_SPARER  FINANZ_VORSORGER  FINANZ_ANLEGER  \\\n",
       "0                  5              1                 5               1   \n",
       "1                  5              1                 5               1   \n",
       "2                  5              1                 5               1   \n",
       "3                  5              1                 5               2   \n",
       "4                  3              1                 4               4   \n",
       "\n",
       "   FINANZ_UNAUFFAELLIGER  FINANZ_HAUSBAUER    ...     PLZ8_ANTG1  PLZ8_ANTG2  \\\n",
       "0                      2                 2    ...            3.0         3.0   \n",
       "1                      3                 2    ...            NaN         NaN   \n",
       "2                      4                 4    ...            2.0         3.0   \n",
       "3                      1                 2    ...            3.0         2.0   \n",
       "4                      5                 2    ...            2.0         4.0   \n",
       "\n",
       "   PLZ8_ANTG3  PLZ8_ANTG4  PLZ8_BAUMAX  PLZ8_HHZ  PLZ8_GBZ  ARBEIT  \\\n",
       "0         1.0         0.0          1.0       5.0       5.0     1.0   \n",
       "1         NaN         NaN          NaN       NaN       NaN     NaN   \n",
       "2         3.0         1.0          3.0       3.0       2.0     3.0   \n",
       "3         1.0         0.0          1.0       3.0       4.0     1.0   \n",
       "4         2.0         1.0          2.0       3.0       3.0     3.0   \n",
       "\n",
       "   ORTSGR_KLS9  RELAT_AB  \n",
       "0          2.0       1.0  \n",
       "1          NaN       NaN  \n",
       "2          5.0       3.0  \n",
       "3          3.0       1.0  \n",
       "4          5.0       1.0  \n",
       "\n",
       "[5 rows x 85 columns]"
      ]
     },
     "execution_count": 109,
     "metadata": {},
     "output_type": "execute_result"
    }
   ],
   "source": [
    "customers.head()"
   ]
  },
  {
   "cell_type": "code",
   "execution_count": 110,
   "metadata": {},
   "outputs": [
    {
     "name": "stdout",
     "output_type": "stream",
     "text": [
      "Convert missing value codes into NaN, OK\n",
      "Remove selected columns and rows, OK\n",
      "Select, re-encode, and engineer column value, OK\n"
     ]
    }
   ],
   "source": [
    "# Apply preprocessing, feature transformation, and clustering from the general\n",
    "# demographics onto the customer data, obtaining cluster predictions for the\n",
    "# customer demographics data.\n",
    "df_cust, df_cust_highna = clean_data(customers)"
   ]
  },
  {
   "cell_type": "code",
   "execution_count": 111,
   "metadata": {},
   "outputs": [
    {
     "data": {
      "text/plain": [
       "(133427, 64)"
      ]
     },
     "execution_count": 111,
     "metadata": {},
     "output_type": "execute_result"
    }
   ],
   "source": [
    "df_cust.shape"
   ]
  },
  {
   "cell_type": "code",
   "execution_count": 112,
   "metadata": {},
   "outputs": [
    {
     "data": {
      "text/plain": [
       "(58225, 79)"
      ]
     },
     "execution_count": 112,
     "metadata": {},
     "output_type": "execute_result"
    }
   ],
   "source": [
    "df_cust_highna.shape"
   ]
  },
  {
   "cell_type": "code",
   "execution_count": 113,
   "metadata": {},
   "outputs": [],
   "source": [
    "# Feature transformation\n",
    "# Impute\n",
    "X_cust_imp = imp.transform(df_cust)"
   ]
  },
  {
   "cell_type": "code",
   "execution_count": 114,
   "metadata": {},
   "outputs": [],
   "source": [
    "# Scale\n",
    "X_cust_sc = scaler.transform(X_cust_imp)"
   ]
  },
  {
   "cell_type": "code",
   "execution_count": 115,
   "metadata": {},
   "outputs": [
    {
     "data": {
      "text/plain": [
       "(133427, 25)"
      ]
     },
     "execution_count": 115,
     "metadata": {},
     "output_type": "execute_result"
    }
   ],
   "source": [
    "# Dimensionality reduction\n",
    "X_cust_pca = pca.transform(X_cust_sc)\n",
    "X_cust_pca.shape"
   ]
  },
  {
   "cell_type": "code",
   "execution_count": 116,
   "metadata": {},
   "outputs": [
    {
     "data": {
      "text/html": [
       "<div>\n",
       "<style scoped>\n",
       "    .dataframe tbody tr th:only-of-type {\n",
       "        vertical-align: middle;\n",
       "    }\n",
       "\n",
       "    .dataframe tbody tr th {\n",
       "        vertical-align: top;\n",
       "    }\n",
       "\n",
       "    .dataframe thead th {\n",
       "        text-align: right;\n",
       "    }\n",
       "</style>\n",
       "<table border=\"1\" class=\"dataframe\">\n",
       "  <thead>\n",
       "    <tr style=\"text-align: right;\">\n",
       "      <th></th>\n",
       "      <th>1</th>\n",
       "      <th>2</th>\n",
       "      <th>3</th>\n",
       "      <th>4</th>\n",
       "      <th>5</th>\n",
       "      <th>6</th>\n",
       "      <th>7</th>\n",
       "      <th>8</th>\n",
       "      <th>9</th>\n",
       "      <th>10</th>\n",
       "      <th>...</th>\n",
       "      <th>16</th>\n",
       "      <th>17</th>\n",
       "      <th>18</th>\n",
       "      <th>19</th>\n",
       "      <th>20</th>\n",
       "      <th>21</th>\n",
       "      <th>22</th>\n",
       "      <th>23</th>\n",
       "      <th>24</th>\n",
       "      <th>25</th>\n",
       "    </tr>\n",
       "  </thead>\n",
       "  <tbody>\n",
       "    <tr>\n",
       "      <th>count</th>\n",
       "      <td>133427.000000</td>\n",
       "      <td>133427.000000</td>\n",
       "      <td>133427.000000</td>\n",
       "      <td>133427.000000</td>\n",
       "      <td>133427.000000</td>\n",
       "      <td>133427.000000</td>\n",
       "      <td>133427.000000</td>\n",
       "      <td>133427.000000</td>\n",
       "      <td>133427.000000</td>\n",
       "      <td>133427.000000</td>\n",
       "      <td>...</td>\n",
       "      <td>133427.000000</td>\n",
       "      <td>133427.000000</td>\n",
       "      <td>133427.000000</td>\n",
       "      <td>133427.000000</td>\n",
       "      <td>133427.000000</td>\n",
       "      <td>133427.000000</td>\n",
       "      <td>133427.000000</td>\n",
       "      <td>133427.000000</td>\n",
       "      <td>133427.000000</td>\n",
       "      <td>133427.000000</td>\n",
       "    </tr>\n",
       "    <tr>\n",
       "      <th>mean</th>\n",
       "      <td>-2.420121</td>\n",
       "      <td>1.310225</td>\n",
       "      <td>1.459638</td>\n",
       "      <td>0.926336</td>\n",
       "      <td>-0.021038</td>\n",
       "      <td>0.017390</td>\n",
       "      <td>0.159557</td>\n",
       "      <td>0.006043</td>\n",
       "      <td>0.218610</td>\n",
       "      <td>0.331010</td>\n",
       "      <td>...</td>\n",
       "      <td>0.111786</td>\n",
       "      <td>0.008328</td>\n",
       "      <td>0.215701</td>\n",
       "      <td>-0.209841</td>\n",
       "      <td>0.041691</td>\n",
       "      <td>0.138386</td>\n",
       "      <td>0.016471</td>\n",
       "      <td>0.022484</td>\n",
       "      <td>0.024198</td>\n",
       "      <td>-0.119216</td>\n",
       "    </tr>\n",
       "    <tr>\n",
       "      <th>std</th>\n",
       "      <td>2.719404</td>\n",
       "      <td>2.177324</td>\n",
       "      <td>2.195574</td>\n",
       "      <td>2.011810</td>\n",
       "      <td>1.504572</td>\n",
       "      <td>1.364384</td>\n",
       "      <td>1.366321</td>\n",
       "      <td>1.415994</td>\n",
       "      <td>1.265903</td>\n",
       "      <td>1.059389</td>\n",
       "      <td>...</td>\n",
       "      <td>1.080339</td>\n",
       "      <td>1.073269</td>\n",
       "      <td>0.752995</td>\n",
       "      <td>1.036479</td>\n",
       "      <td>1.212363</td>\n",
       "      <td>1.174703</td>\n",
       "      <td>0.806475</td>\n",
       "      <td>0.917382</td>\n",
       "      <td>0.785501</td>\n",
       "      <td>0.756968</td>\n",
       "    </tr>\n",
       "    <tr>\n",
       "      <th>min</th>\n",
       "      <td>-7.957291</td>\n",
       "      <td>-7.519120</td>\n",
       "      <td>-4.753565</td>\n",
       "      <td>-5.341116</td>\n",
       "      <td>-6.098238</td>\n",
       "      <td>-3.503259</td>\n",
       "      <td>-9.769573</td>\n",
       "      <td>-5.366594</td>\n",
       "      <td>-5.284718</td>\n",
       "      <td>-4.556009</td>\n",
       "      <td>...</td>\n",
       "      <td>-12.981623</td>\n",
       "      <td>-1.116020</td>\n",
       "      <td>-3.350681</td>\n",
       "      <td>-8.857510</td>\n",
       "      <td>-23.118446</td>\n",
       "      <td>-21.041421</td>\n",
       "      <td>-3.849230</td>\n",
       "      <td>-14.889198</td>\n",
       "      <td>-5.976454</td>\n",
       "      <td>-4.838951</td>\n",
       "    </tr>\n",
       "    <tr>\n",
       "      <th>25%</th>\n",
       "      <td>-4.481219</td>\n",
       "      <td>-0.028096</td>\n",
       "      <td>-0.776501</td>\n",
       "      <td>-0.708211</td>\n",
       "      <td>-0.982957</td>\n",
       "      <td>-0.792933</td>\n",
       "      <td>-0.346196</td>\n",
       "      <td>-0.996865</td>\n",
       "      <td>-0.635036</td>\n",
       "      <td>-0.388918</td>\n",
       "      <td>...</td>\n",
       "      <td>-0.543850</td>\n",
       "      <td>-0.131947</td>\n",
       "      <td>-0.266562</td>\n",
       "      <td>-0.800754</td>\n",
       "      <td>-0.539999</td>\n",
       "      <td>-0.445849</td>\n",
       "      <td>-0.501431</td>\n",
       "      <td>-0.467156</td>\n",
       "      <td>-0.522574</td>\n",
       "      <td>-0.647081</td>\n",
       "    </tr>\n",
       "    <tr>\n",
       "      <th>50%</th>\n",
       "      <td>-3.155340</td>\n",
       "      <td>1.249593</td>\n",
       "      <td>2.196788</td>\n",
       "      <td>0.962413</td>\n",
       "      <td>0.083596</td>\n",
       "      <td>-0.116105</td>\n",
       "      <td>0.300868</td>\n",
       "      <td>0.037560</td>\n",
       "      <td>0.180560</td>\n",
       "      <td>0.354690</td>\n",
       "      <td>...</td>\n",
       "      <td>0.086382</td>\n",
       "      <td>-0.094754</td>\n",
       "      <td>0.186023</td>\n",
       "      <td>-0.267316</td>\n",
       "      <td>-0.034099</td>\n",
       "      <td>0.077357</td>\n",
       "      <td>0.037230</td>\n",
       "      <td>0.049094</td>\n",
       "      <td>0.070688</td>\n",
       "      <td>-0.083373</td>\n",
       "    </tr>\n",
       "    <tr>\n",
       "      <th>75%</th>\n",
       "      <td>-0.792494</td>\n",
       "      <td>2.715569</td>\n",
       "      <td>3.232503</td>\n",
       "      <td>2.563867</td>\n",
       "      <td>1.013643</td>\n",
       "      <td>0.620167</td>\n",
       "      <td>0.919030</td>\n",
       "      <td>1.010944</td>\n",
       "      <td>1.042183</td>\n",
       "      <td>1.063898</td>\n",
       "      <td>...</td>\n",
       "      <td>0.715205</td>\n",
       "      <td>-0.058939</td>\n",
       "      <td>0.644267</td>\n",
       "      <td>0.264388</td>\n",
       "      <td>0.489573</td>\n",
       "      <td>0.602716</td>\n",
       "      <td>0.564079</td>\n",
       "      <td>0.541542</td>\n",
       "      <td>0.572566</td>\n",
       "      <td>0.418602</td>\n",
       "    </tr>\n",
       "    <tr>\n",
       "      <th>max</th>\n",
       "      <td>11.321036</td>\n",
       "      <td>10.919475</td>\n",
       "      <td>6.259991</td>\n",
       "      <td>9.462838</td>\n",
       "      <td>6.793035</td>\n",
       "      <td>29.692491</td>\n",
       "      <td>17.844792</td>\n",
       "      <td>7.610073</td>\n",
       "      <td>7.303221</td>\n",
       "      <td>5.469269</td>\n",
       "      <td>...</td>\n",
       "      <td>15.970780</td>\n",
       "      <td>10.943246</td>\n",
       "      <td>7.211263</td>\n",
       "      <td>21.317919</td>\n",
       "      <td>31.461145</td>\n",
       "      <td>28.311848</td>\n",
       "      <td>3.539890</td>\n",
       "      <td>19.073339</td>\n",
       "      <td>5.536410</td>\n",
       "      <td>4.899705</td>\n",
       "    </tr>\n",
       "  </tbody>\n",
       "</table>\n",
       "<p>8 rows × 25 columns</p>\n",
       "</div>"
      ],
      "text/plain": [
       "                  1              2              3              4   \\\n",
       "count  133427.000000  133427.000000  133427.000000  133427.000000   \n",
       "mean       -2.420121       1.310225       1.459638       0.926336   \n",
       "std         2.719404       2.177324       2.195574       2.011810   \n",
       "min        -7.957291      -7.519120      -4.753565      -5.341116   \n",
       "25%        -4.481219      -0.028096      -0.776501      -0.708211   \n",
       "50%        -3.155340       1.249593       2.196788       0.962413   \n",
       "75%        -0.792494       2.715569       3.232503       2.563867   \n",
       "max        11.321036      10.919475       6.259991       9.462838   \n",
       "\n",
       "                  5              6              7              8   \\\n",
       "count  133427.000000  133427.000000  133427.000000  133427.000000   \n",
       "mean       -0.021038       0.017390       0.159557       0.006043   \n",
       "std         1.504572       1.364384       1.366321       1.415994   \n",
       "min        -6.098238      -3.503259      -9.769573      -5.366594   \n",
       "25%        -0.982957      -0.792933      -0.346196      -0.996865   \n",
       "50%         0.083596      -0.116105       0.300868       0.037560   \n",
       "75%         1.013643       0.620167       0.919030       1.010944   \n",
       "max         6.793035      29.692491      17.844792       7.610073   \n",
       "\n",
       "                  9              10      ...                   16  \\\n",
       "count  133427.000000  133427.000000      ...        133427.000000   \n",
       "mean        0.218610       0.331010      ...             0.111786   \n",
       "std         1.265903       1.059389      ...             1.080339   \n",
       "min        -5.284718      -4.556009      ...           -12.981623   \n",
       "25%        -0.635036      -0.388918      ...            -0.543850   \n",
       "50%         0.180560       0.354690      ...             0.086382   \n",
       "75%         1.042183       1.063898      ...             0.715205   \n",
       "max         7.303221       5.469269      ...            15.970780   \n",
       "\n",
       "                  17             18             19             20  \\\n",
       "count  133427.000000  133427.000000  133427.000000  133427.000000   \n",
       "mean        0.008328       0.215701      -0.209841       0.041691   \n",
       "std         1.073269       0.752995       1.036479       1.212363   \n",
       "min        -1.116020      -3.350681      -8.857510     -23.118446   \n",
       "25%        -0.131947      -0.266562      -0.800754      -0.539999   \n",
       "50%        -0.094754       0.186023      -0.267316      -0.034099   \n",
       "75%        -0.058939       0.644267       0.264388       0.489573   \n",
       "max        10.943246       7.211263      21.317919      31.461145   \n",
       "\n",
       "                  21             22             23             24  \\\n",
       "count  133427.000000  133427.000000  133427.000000  133427.000000   \n",
       "mean        0.138386       0.016471       0.022484       0.024198   \n",
       "std         1.174703       0.806475       0.917382       0.785501   \n",
       "min       -21.041421      -3.849230     -14.889198      -5.976454   \n",
       "25%        -0.445849      -0.501431      -0.467156      -0.522574   \n",
       "50%         0.077357       0.037230       0.049094       0.070688   \n",
       "75%         0.602716       0.564079       0.541542       0.572566   \n",
       "max        28.311848       3.539890      19.073339       5.536410   \n",
       "\n",
       "                  25  \n",
       "count  133427.000000  \n",
       "mean       -0.119216  \n",
       "std         0.756968  \n",
       "min        -4.838951  \n",
       "25%        -0.647081  \n",
       "50%        -0.083373  \n",
       "75%         0.418602  \n",
       "max         4.899705  \n",
       "\n",
       "[8 rows x 25 columns]"
      ]
     },
     "execution_count": 116,
     "metadata": {},
     "output_type": "execute_result"
    }
   ],
   "source": [
    "df_cust_pca = pd.DataFrame(X_cust_pca, columns=np.arange(1, 26))\n",
    "df_cust_pca.describe()"
   ]
  },
  {
   "cell_type": "code",
   "execution_count": 118,
   "metadata": {},
   "outputs": [],
   "source": [
    "# Clustering\n",
    "X_cust_kmeans = kmeans_model.predict(X_cust_pca)"
   ]
  },
  {
   "cell_type": "code",
   "execution_count": 119,
   "metadata": {},
   "outputs": [
    {
     "data": {
      "text/plain": [
       "array([0, 1, 2, 3, 4, 5, 6, 7, 8], dtype=int32)"
      ]
     },
     "execution_count": 119,
     "metadata": {},
     "output_type": "execute_result"
    }
   ],
   "source": [
    "np.unique(X_cust_kmeans)"
   ]
  },
  {
   "cell_type": "markdown",
   "metadata": {},
   "source": [
    "### Step 3.3: Compare Customer Data to Demographics Data\n",
    "\n",
    "At this point, you have clustered data based on demographics of the general population of Germany, and seen how the customer data for a mail-order sales company maps onto those demographic clusters. In this final substep, you will compare the two cluster distributions to see where the strongest customer base for the company is.\n",
    "\n",
    "Consider the proportion of persons in each cluster for the general population, and the proportions for the customers. If we think the company's customer base to be universal, then the cluster assignment proportions should be fairly similar between the two. If there are only particular segments of the population that are interested in the company's products, then we should see a mismatch from one to the other. If there is a higher proportion of persons in a cluster for the customer data compared to the general population (e.g. 5% of persons are assigned to a cluster for the general population, but 15% of the customer data is closest to that cluster's centroid) then that suggests the people in that cluster to be a target audience for the company. On the other hand, the proportion of the data in a cluster being larger in the general population than the customer data (e.g. only 2% of customers closest to a population centroid that captures 6% of the data) suggests that group of persons to be outside of the target demographics.\n",
    "\n",
    "Take a look at the following points in this step:\n",
    "\n",
    "- Compute the proportion of data points in each cluster for the general population and the customer data. Visualizations will be useful here: both for the individual dataset proportions, but also to visualize the ratios in cluster representation between groups. Seaborn's [`countplot()`](https://seaborn.pydata.org/generated/seaborn.countplot.html) or [`barplot()`](https://seaborn.pydata.org/generated/seaborn.barplot.html) function could be handy.\n",
    "  - Recall the analysis you performed in step 1.1.3 of the project, where you separated out certain data points from the dataset if they had more than a specified threshold of missing values. If you found that this group was qualitatively different from the main bulk of the data, you should treat this as an additional data cluster in this analysis. Make sure that you account for the number of data points in this subset, for both the general population and customer datasets, when making your computations!\n",
    "- Which cluster or clusters are overrepresented in the customer dataset compared to the general population? Select at least one such cluster and infer what kind of people might be represented by that cluster. Use the principal component interpretations from step 2.3 or look at additional components to help you make this inference. Alternatively, you can use the `.inverse_transform()` method of the PCA and StandardScaler objects to transform centroids back to the original data space and interpret the retrieved values directly.\n",
    "- Perform a similar investigation for the underrepresented clusters. Which cluster or clusters are underrepresented in the customer dataset compared to the general population, and what kinds of people are typified by these clusters?"
   ]
  },
  {
   "cell_type": "code",
   "execution_count": 127,
   "metadata": {},
   "outputs": [],
   "source": [
    "# Compare the proportion of data in each cluster for the customer data to the\n",
    "# proportion of data in each cluster for the general population.\n",
    "def count_group(df, group_name):\n",
    "    \"\"\"Compute the proportion of data points in each cluster for the data\n",
    "    \n",
    "    Args:\n",
    "    df: data.frame. The clustered data\n",
    "    group_name: char. The name of the data \n",
    "    \n",
    "    Returns:\n",
    "    per_group: data.frame. The percentage of each group of the data\n",
    "    \n",
    "    \"\"\"\n",
    "    per_group = pd.DataFrame(itemfreq(df[\"labels\"]),columns=['label','freq'])\n",
    "    per_group['group'] = group_name\n",
    "    per_group['freq'] = per_group['freq']/per_group['freq'].sum()\n",
    "    return per_group\n"
   ]
  },
  {
   "cell_type": "code",
   "execution_count": 129,
   "metadata": {},
   "outputs": [],
   "source": [
    "pca_25_df[\"labels\"] = kmeans_model.labels_\n",
    "df_cust_pca[\"labels\"] = X_cust_kmeans"
   ]
  },
  {
   "cell_type": "code",
   "execution_count": 130,
   "metadata": {},
   "outputs": [
    {
     "name": "stdout",
     "output_type": "stream",
     "text": [
      "   label      freq       group\n",
      "0      0  0.089299  population\n",
      "1      1  0.139798  population\n",
      "2      2  0.165910  population\n",
      "3      3  0.108997  population\n",
      "4      4  0.135059  population\n",
      "5      5  0.105135  population\n",
      "6      6  0.163269  population\n",
      "7      7  0.088213  population\n",
      "8      8  0.004319  population\n",
      "0      0  0.026022    customer\n",
      "1      1  0.105683    customer\n",
      "2      2  0.495320    customer\n",
      "3      3  0.017890    customer\n",
      "4      4  0.124495    customer\n",
      "5      5  0.010313    customer\n",
      "6      6  0.190029    customer\n",
      "7      7  0.009893    customer\n",
      "8      8  0.020356    customer\n"
     ]
    }
   ],
   "source": [
    "pop_per_group = count_group(pca_25_df, 'population')\n",
    "cus_per_group = count_group(df_cust_pca, 'customer')\n",
    "total_per_group = pop_per_group.append(cus_per_group)\n",
    "print(total_per_group)"
   ]
  },
  {
   "cell_type": "code",
   "execution_count": 131,
   "metadata": {},
   "outputs": [
    {
     "data": {
      "image/png": "[encoded data removed]",
      "text/plain": [
       "<matplotlib.figure.Figure at 0x7f8e1ae1fa58>"
      ]
     },
     "metadata": {
      "needs_background": "light"
     },
     "output_type": "display_data"
    }
   ],
   "source": [
    "# make a visual plot\n",
    "fig, ax = plt.subplots(figsize=(16,10))    \n",
    "ax=sns.barplot(x='label', y='freq', hue='group', data=total_per_group)"
   ]
  },
  {
   "cell_type": "code",
   "execution_count": 132,
   "metadata": {},
   "outputs": [
    {
     "data": {
      "image/png": "[encoded data removed]",
      "text/plain": [
       "<matplotlib.figure.Figure at 0x7f8e1ae28a58>"
      ]
     },
     "metadata": {
      "needs_background": "light"
     },
     "output_type": "display_data"
    }
   ],
   "source": [
    "# make a visual plot about customer freq - population freq\n",
    "fig, ax = plt.subplots(figsize=(16,10))\n",
    "ax=sns.barplot(x=cus_per_group.label, y=cus_per_group.freq - pop_per_group.freq)"
   ]
  },
  {
   "cell_type": "code",
   "execution_count": 137,
   "metadata": {},
   "outputs": [],
   "source": [
    "# Rename components for better reading\n",
    "df_cust_pca = df_cust_pca.rename(columns = {1: 'pop_density-finance_status',\n",
    "                                            2: 'age-generation',\n",
    "                                            3: 'gender'}\n",
    "                                )"
   ]
  },
  {
   "cell_type": "code",
   "execution_count": 145,
   "metadata": {},
   "outputs": [],
   "source": [
    "def map_cluster_to_feats(kmeans, df, cnum):\n",
    "    '''Map pca weights to  individual features\n",
    "    and return two pd.Series on with the highest\n",
    "    positive weights and one with the lowest negative\n",
    "    weights\n",
    "    \n",
    "    Args:\n",
    "    kmeans: kmeans object.\n",
    "    df: data frame. The pca data frame of original data.\n",
    "    cnum: int. The n-th cluster.\n",
    "    \n",
    "    Returns:\n",
    "    top_pca_feat: data frame. The top N positive and negative pca features. \n",
    "    '''\n",
    "    \n",
    "    # get coordinates of cluster centers\n",
    "    weights = pd.DataFrame(np.round(kmeans.cluster_centers_, 4), columns=df.keys())\n",
    "    # the centroid of cluster cnum\n",
    "    centroid = weights.iloc[cnum, :]\n",
    "    # postive pca feature\n",
    "    cent_pos = centroid[centroid > 0].sort_values(ascending=False).to_frame()\n",
    "    cent_pos.reset_index(level=0, inplace=True)\n",
    "    cent_pos.columns = ['top_pos_col','top_pos_col_weight']\n",
    "    # negative pca feature\n",
    "    cent_neg = centroid[centroid < 0].sort_values(ascending=True).to_frame()\n",
    "    cent_neg.reset_index(level=0, inplace=True)\n",
    "    cent_neg.columns = ['top_neg_col','top_neg_col_weight']\n",
    "    # concat postive and negative\n",
    "    top_pca_feat = pd.concat([cent_pos, cent_neg], axis=1)\n",
    "    top_pca_feat['top_neg_col'] = top_pca_feat['top_neg_col'].apply(str)\n",
    "    top_pca_feat['top_pos_col'] = top_pca_feat['top_pos_col'].apply(str)\n",
    "    return top_pca_feat"
   ]
  },
  {
   "cell_type": "code",
   "execution_count": 144,
   "metadata": {},
   "outputs": [
    {
     "data": {
      "text/html": [
       "<style  type=\"text/css\" >\n",
       "    #T_ffa07d30_4c00_11eb_b559_0242ac120002row0_col1 {\n",
       "            width:  10em;\n",
       "             height:  80%;\n",
       "            background:  linear-gradient(90deg, transparent 0%, transparent 0.0%, #d65f5f 0.0%, #d65f5f 100.0%, transparent 100.0%);\n",
       "        }    #T_ffa07d30_4c00_11eb_b559_0242ac120002row0_col3 {\n",
       "            width:  10em;\n",
       "             height:  80%;\n",
       "            background:  linear-gradient(90deg, transparent 0%, transparent 0.0%, #d65f5f 0.0%, #d65f5f 100.0%, transparent 100.0%);\n",
       "        }    #T_ffa07d30_4c00_11eb_b559_0242ac120002row1_col1 {\n",
       "            width:  10em;\n",
       "             height:  80%;\n",
       "            background:  linear-gradient(90deg, transparent 0%, transparent 0.0%, #d65f5f 0.0%, #d65f5f 6.8%, transparent 6.8%);\n",
       "        }    #T_ffa07d30_4c00_11eb_b559_0242ac120002row1_col3 {\n",
       "            width:  10em;\n",
       "             height:  80%;\n",
       "            background:  linear-gradient(90deg, transparent 0%, transparent 93.8%, #d65f5f 93.8%, #d65f5f 100.0%, transparent 100.0%);\n",
       "        }    #T_ffa07d30_4c00_11eb_b559_0242ac120002row2_col1 {\n",
       "            width:  10em;\n",
       "             height:  80%;\n",
       "            background:  linear-gradient(90deg, transparent 0%, transparent 0.0%, #d65f5f 0.0%, #d65f5f 6.2%, transparent 6.2%);\n",
       "        }    #T_ffa07d30_4c00_11eb_b559_0242ac120002row2_col3 {\n",
       "            width:  10em;\n",
       "             height:  80%;\n",
       "            background:  linear-gradient(90deg, transparent 0%, transparent 97.0%, #d65f5f 97.0%, #d65f5f 100.0%, transparent 100.0%);\n",
       "        }    #T_ffa07d30_4c00_11eb_b559_0242ac120002row3_col1 {\n",
       "            width:  10em;\n",
       "             height:  80%;\n",
       "            background:  linear-gradient(90deg, transparent 0%, transparent 0.0%, #d65f5f 0.0%, #d65f5f 4.4%, transparent 4.4%);\n",
       "        }    #T_ffa07d30_4c00_11eb_b559_0242ac120002row3_col3 {\n",
       "            width:  10em;\n",
       "             height:  80%;\n",
       "            background:  linear-gradient(90deg, transparent 0%, transparent 98.1%, #d65f5f 98.1%, #d65f5f 100.0%, transparent 100.0%);\n",
       "        }    #T_ffa07d30_4c00_11eb_b559_0242ac120002row4_col1 {\n",
       "            width:  10em;\n",
       "             height:  80%;\n",
       "            background:  linear-gradient(90deg, transparent 0%, transparent 0.0%, #d65f5f 0.0%, #d65f5f 3.9%, transparent 3.9%);\n",
       "        }    #T_ffa07d30_4c00_11eb_b559_0242ac120002row4_col3 {\n",
       "            width:  10em;\n",
       "             height:  80%;\n",
       "            background:  linear-gradient(90deg, transparent 0%, transparent 98.1%, #d65f5f 98.1%, #d65f5f 100.0%, transparent 100.0%);\n",
       "        }    #T_ffa07d30_4c00_11eb_b559_0242ac120002row5_col1 {\n",
       "            width:  10em;\n",
       "             height:  80%;\n",
       "            background:  linear-gradient(90deg, transparent 0%, transparent 0.0%, #d65f5f 0.0%, #d65f5f 3.2%, transparent 3.2%);\n",
       "        }    #T_ffa07d30_4c00_11eb_b559_0242ac120002row5_col3 {\n",
       "            width:  10em;\n",
       "             height:  80%;\n",
       "            background:  linear-gradient(90deg, transparent 0%, transparent 98.1%, #d65f5f 98.1%, #d65f5f 100.0%, transparent 100.0%);\n",
       "        }    #T_ffa07d30_4c00_11eb_b559_0242ac120002row6_col1 {\n",
       "            width:  10em;\n",
       "             height:  80%;\n",
       "            background:  linear-gradient(90deg, transparent 0%, transparent 0.0%, #d65f5f 0.0%, #d65f5f 2.5%, transparent 2.5%);\n",
       "        }    #T_ffa07d30_4c00_11eb_b559_0242ac120002row6_col3 {\n",
       "            width:  10em;\n",
       "             height:  80%;\n",
       "            background:  linear-gradient(90deg, transparent 0%, transparent 98.7%, #d65f5f 98.7%, #d65f5f 100.0%, transparent 100.0%);\n",
       "        }    #T_ffa07d30_4c00_11eb_b559_0242ac120002row7_col1 {\n",
       "            width:  10em;\n",
       "             height:  80%;\n",
       "            background:  linear-gradient(90deg, transparent 0%, transparent 0.0%, #d65f5f 0.0%, #d65f5f 1.8%, transparent 1.8%);\n",
       "        }    #T_ffa07d30_4c00_11eb_b559_0242ac120002row7_col3 {\n",
       "            width:  10em;\n",
       "             height:  80%;\n",
       "            background:  linear-gradient(90deg, transparent 0%, transparent 99.2%, #d65f5f 99.2%, #d65f5f 100.0%, transparent 100.0%);\n",
       "        }    #T_ffa07d30_4c00_11eb_b559_0242ac120002row8_col1 {\n",
       "            width:  10em;\n",
       "             height:  80%;\n",
       "            background:  linear-gradient(90deg, transparent 0%, transparent 0.0%, #d65f5f 0.0%, #d65f5f 1.7%, transparent 1.7%);\n",
       "        }    #T_ffa07d30_4c00_11eb_b559_0242ac120002row8_col3 {\n",
       "            width:  10em;\n",
       "             height:  80%;\n",
       "            background:  linear-gradient(90deg, transparent 0%, transparent 99.2%, #d65f5f 99.2%, #d65f5f 100.0%, transparent 100.0%);\n",
       "        }    #T_ffa07d30_4c00_11eb_b559_0242ac120002row9_col1 {\n",
       "            width:  10em;\n",
       "             height:  80%;\n",
       "            background:  linear-gradient(90deg, transparent 0%, transparent 0.0%, #d65f5f 0.0%, #d65f5f 0.9%, transparent 0.9%);\n",
       "        }    #T_ffa07d30_4c00_11eb_b559_0242ac120002row9_col3 {\n",
       "            width:  10em;\n",
       "             height:  80%;\n",
       "            background:  linear-gradient(90deg, transparent 0%, transparent 99.3%, #d65f5f 99.3%, #d65f5f 100.0%, transparent 100.0%);\n",
       "        }    #T_ffa07d30_4c00_11eb_b559_0242ac120002row10_col1 {\n",
       "            width:  10em;\n",
       "             height:  80%;\n",
       "            background:  linear-gradient(90deg, transparent 0%, transparent 0.0%, #d65f5f 0.0%, #d65f5f 0.2%, transparent 0.2%);\n",
       "        }    #T_ffa07d30_4c00_11eb_b559_0242ac120002row10_col3 {\n",
       "            width:  10em;\n",
       "             height:  80%;\n",
       "            background:  linear-gradient(90deg, transparent 0%, transparent 99.3%, #d65f5f 99.3%, #d65f5f 100.0%, transparent 100.0%);\n",
       "        }    #T_ffa07d30_4c00_11eb_b559_0242ac120002row11_col1 {\n",
       "            width:  10em;\n",
       "             height:  80%;\n",
       "            background:  linear-gradient(90deg, transparent 0%, transparent 0.0%, #d65f5f 0.0%, #d65f5f 0.0%, transparent 0.0%);\n",
       "        }    #T_ffa07d30_4c00_11eb_b559_0242ac120002row11_col3 {\n",
       "            width:  10em;\n",
       "             height:  80%;\n",
       "            background:  linear-gradient(90deg, transparent 0%, transparent 99.4%, #d65f5f 99.4%, #d65f5f 100.0%, transparent 100.0%);\n",
       "        }    #T_ffa07d30_4c00_11eb_b559_0242ac120002row12_col1 {\n",
       "            width:  10em;\n",
       "             height:  80%;\n",
       "            background:  linear-gradient(90deg, transparent 0%, transparent nan%, #d65f5f nan%, #d65f5f 0.0%, transparent 0.0%);\n",
       "        }    #T_ffa07d30_4c00_11eb_b559_0242ac120002row12_col3 {\n",
       "            width:  10em;\n",
       "             height:  80%;\n",
       "            background:  linear-gradient(90deg, transparent 0%, transparent 99.6%, #d65f5f 99.6%, #d65f5f 100.0%, transparent 100.0%);\n",
       "        }</style>  \n",
       "<table id=\"T_ffa07d30_4c00_11eb_b559_0242ac120002\" > \n",
       "<thead>    <tr> \n",
       "        <th class=\"blank level0\" ></th> \n",
       "        <th class=\"col_heading level0 col0\" >top_pos_col</th> \n",
       "        <th class=\"col_heading level0 col1\" >top_pos_col_weight</th> \n",
       "        <th class=\"col_heading level0 col2\" >top_neg_col</th> \n",
       "        <th class=\"col_heading level0 col3\" >top_neg_col_weight</th> \n",
       "    </tr></thead> \n",
       "<tbody>    <tr> \n",
       "        <th id=\"T_ffa07d30_4c00_11eb_b559_0242ac120002level0_row0\" class=\"row_heading level0 row0\" >0</th> \n",
       "        <td id=\"T_ffa07d30_4c00_11eb_b559_0242ac120002row0_col0\" class=\"data row0 col0\" >gender</td> \n",
       "        <td id=\"T_ffa07d30_4c00_11eb_b559_0242ac120002row0_col1\" class=\"data row0 col1\" >2.2105</td> \n",
       "        <td id=\"T_ffa07d30_4c00_11eb_b559_0242ac120002row0_col2\" class=\"data row0 col2\" >pop_density-finance_status</td> \n",
       "        <td id=\"T_ffa07d30_4c00_11eb_b559_0242ac120002row0_col3\" class=\"data row0 col3\" >-3.4077</td> \n",
       "    </tr>    <tr> \n",
       "        <th id=\"T_ffa07d30_4c00_11eb_b559_0242ac120002level0_row1\" class=\"row_heading level0 row1\" >1</th> \n",
       "        <td id=\"T_ffa07d30_4c00_11eb_b559_0242ac120002row1_col0\" class=\"data row1 col0\" >12</td> \n",
       "        <td id=\"T_ffa07d30_4c00_11eb_b559_0242ac120002row1_col1\" class=\"data row1 col1\" >0.1494</td> \n",
       "        <td id=\"T_ffa07d30_4c00_11eb_b559_0242ac120002row1_col2\" class=\"data row1 col2\" >9</td> \n",
       "        <td id=\"T_ffa07d30_4c00_11eb_b559_0242ac120002row1_col3\" class=\"data row1 col3\" >-0.2108</td> \n",
       "    </tr>    <tr> \n",
       "        <th id=\"T_ffa07d30_4c00_11eb_b559_0242ac120002level0_row2\" class=\"row_heading level0 row2\" >2</th> \n",
       "        <td id=\"T_ffa07d30_4c00_11eb_b559_0242ac120002row2_col0\" class=\"data row2 col0\" >8</td> \n",
       "        <td id=\"T_ffa07d30_4c00_11eb_b559_0242ac120002row2_col1\" class=\"data row2 col1\" >0.1372</td> \n",
       "        <td id=\"T_ffa07d30_4c00_11eb_b559_0242ac120002row2_col2\" class=\"data row2 col2\" >14</td> \n",
       "        <td id=\"T_ffa07d30_4c00_11eb_b559_0242ac120002row2_col3\" class=\"data row2 col3\" >-0.1037</td> \n",
       "    </tr>    <tr> \n",
       "        <th id=\"T_ffa07d30_4c00_11eb_b559_0242ac120002level0_row3\" class=\"row_heading level0 row3\" >3</th> \n",
       "        <td id=\"T_ffa07d30_4c00_11eb_b559_0242ac120002row3_col0\" class=\"data row3 col0\" >5</td> \n",
       "        <td id=\"T_ffa07d30_4c00_11eb_b559_0242ac120002row3_col1\" class=\"data row3 col1\" >0.098</td> \n",
       "        <td id=\"T_ffa07d30_4c00_11eb_b559_0242ac120002row3_col2\" class=\"data row3 col2\" >13</td> \n",
       "        <td id=\"T_ffa07d30_4c00_11eb_b559_0242ac120002row3_col3\" class=\"data row3 col3\" >-0.0663</td> \n",
       "    </tr>    <tr> \n",
       "        <th id=\"T_ffa07d30_4c00_11eb_b559_0242ac120002level0_row4\" class=\"row_heading level0 row4\" >4</th> \n",
       "        <td id=\"T_ffa07d30_4c00_11eb_b559_0242ac120002row4_col0\" class=\"data row4 col0\" >15</td> \n",
       "        <td id=\"T_ffa07d30_4c00_11eb_b559_0242ac120002row4_col1\" class=\"data row4 col1\" >0.0856</td> \n",
       "        <td id=\"T_ffa07d30_4c00_11eb_b559_0242ac120002row4_col2\" class=\"data row4 col2\" >10</td> \n",
       "        <td id=\"T_ffa07d30_4c00_11eb_b559_0242ac120002row4_col3\" class=\"data row4 col3\" >-0.0653</td> \n",
       "    </tr>    <tr> \n",
       "        <th id=\"T_ffa07d30_4c00_11eb_b559_0242ac120002level0_row5\" class=\"row_heading level0 row5\" >5</th> \n",
       "        <td id=\"T_ffa07d30_4c00_11eb_b559_0242ac120002row5_col0\" class=\"data row5 col0\" >11</td> \n",
       "        <td id=\"T_ffa07d30_4c00_11eb_b559_0242ac120002row5_col1\" class=\"data row5 col1\" >0.0713</td> \n",
       "        <td id=\"T_ffa07d30_4c00_11eb_b559_0242ac120002row5_col2\" class=\"data row5 col2\" >16</td> \n",
       "        <td id=\"T_ffa07d30_4c00_11eb_b559_0242ac120002row5_col3\" class=\"data row5 col3\" >-0.0645</td> \n",
       "    </tr>    <tr> \n",
       "        <th id=\"T_ffa07d30_4c00_11eb_b559_0242ac120002level0_row6\" class=\"row_heading level0 row6\" >6</th> \n",
       "        <td id=\"T_ffa07d30_4c00_11eb_b559_0242ac120002row6_col0\" class=\"data row6 col0\" >18</td> \n",
       "        <td id=\"T_ffa07d30_4c00_11eb_b559_0242ac120002row6_col1\" class=\"data row6 col1\" >0.0561</td> \n",
       "        <td id=\"T_ffa07d30_4c00_11eb_b559_0242ac120002row6_col2\" class=\"data row6 col2\" >25</td> \n",
       "        <td id=\"T_ffa07d30_4c00_11eb_b559_0242ac120002row6_col3\" class=\"data row6 col3\" >-0.0456</td> \n",
       "    </tr>    <tr> \n",
       "        <th id=\"T_ffa07d30_4c00_11eb_b559_0242ac120002level0_row7\" class=\"row_heading level0 row7\" >7</th> \n",
       "        <td id=\"T_ffa07d30_4c00_11eb_b559_0242ac120002row7_col0\" class=\"data row7 col0\" >24</td> \n",
       "        <td id=\"T_ffa07d30_4c00_11eb_b559_0242ac120002row7_col1\" class=\"data row7 col1\" >0.04</td> \n",
       "        <td id=\"T_ffa07d30_4c00_11eb_b559_0242ac120002row7_col2\" class=\"data row7 col2\" >age-generation</td> \n",
       "        <td id=\"T_ffa07d30_4c00_11eb_b559_0242ac120002row7_col3\" class=\"data row7 col3\" >-0.0283</td> \n",
       "    </tr>    <tr> \n",
       "        <th id=\"T_ffa07d30_4c00_11eb_b559_0242ac120002level0_row8\" class=\"row_heading level0 row8\" >8</th> \n",
       "        <td id=\"T_ffa07d30_4c00_11eb_b559_0242ac120002row8_col0\" class=\"data row8 col0\" >7</td> \n",
       "        <td id=\"T_ffa07d30_4c00_11eb_b559_0242ac120002row8_col1\" class=\"data row8 col1\" >0.038</td> \n",
       "        <td id=\"T_ffa07d30_4c00_11eb_b559_0242ac120002row8_col2\" class=\"data row8 col2\" >4</td> \n",
       "        <td id=\"T_ffa07d30_4c00_11eb_b559_0242ac120002row8_col3\" class=\"data row8 col3\" >-0.0279</td> \n",
       "    </tr>    <tr> \n",
       "        <th id=\"T_ffa07d30_4c00_11eb_b559_0242ac120002level0_row9\" class=\"row_heading level0 row9\" >9</th> \n",
       "        <td id=\"T_ffa07d30_4c00_11eb_b559_0242ac120002row9_col0\" class=\"data row9 col0\" >23</td> \n",
       "        <td id=\"T_ffa07d30_4c00_11eb_b559_0242ac120002row9_col1\" class=\"data row9 col1\" >0.0203</td> \n",
       "        <td id=\"T_ffa07d30_4c00_11eb_b559_0242ac120002row9_col2\" class=\"data row9 col2\" >21</td> \n",
       "        <td id=\"T_ffa07d30_4c00_11eb_b559_0242ac120002row9_col3\" class=\"data row9 col3\" >-0.0235</td> \n",
       "    </tr>    <tr> \n",
       "        <th id=\"T_ffa07d30_4c00_11eb_b559_0242ac120002level0_row10\" class=\"row_heading level0 row10\" >10</th> \n",
       "        <td id=\"T_ffa07d30_4c00_11eb_b559_0242ac120002row10_col0\" class=\"data row10 col0\" >22</td> \n",
       "        <td id=\"T_ffa07d30_4c00_11eb_b559_0242ac120002row10_col1\" class=\"data row10 col1\" >0.004</td> \n",
       "        <td id=\"T_ffa07d30_4c00_11eb_b559_0242ac120002row10_col2\" class=\"data row10 col2\" >6</td> \n",
       "        <td id=\"T_ffa07d30_4c00_11eb_b559_0242ac120002row10_col3\" class=\"data row10 col3\" >-0.0228</td> \n",
       "    </tr>    <tr> \n",
       "        <th id=\"T_ffa07d30_4c00_11eb_b559_0242ac120002level0_row11\" class=\"row_heading level0 row11\" >11</th> \n",
       "        <td id=\"T_ffa07d30_4c00_11eb_b559_0242ac120002row11_col0\" class=\"data row11 col0\" >17</td> \n",
       "        <td id=\"T_ffa07d30_4c00_11eb_b559_0242ac120002row11_col1\" class=\"data row11 col1\" >0.0006</td> \n",
       "        <td id=\"T_ffa07d30_4c00_11eb_b559_0242ac120002row11_col2\" class=\"data row11 col2\" >20</td> \n",
       "        <td id=\"T_ffa07d30_4c00_11eb_b559_0242ac120002row11_col3\" class=\"data row11 col3\" >-0.0188</td> \n",
       "    </tr>    <tr> \n",
       "        <th id=\"T_ffa07d30_4c00_11eb_b559_0242ac120002level0_row12\" class=\"row_heading level0 row12\" >12</th> \n",
       "        <td id=\"T_ffa07d30_4c00_11eb_b559_0242ac120002row12_col0\" class=\"data row12 col0\" >nan</td> \n",
       "        <td id=\"T_ffa07d30_4c00_11eb_b559_0242ac120002row12_col1\" class=\"data row12 col1\" >nan</td> \n",
       "        <td id=\"T_ffa07d30_4c00_11eb_b559_0242ac120002row12_col2\" class=\"data row12 col2\" >19</td> \n",
       "        <td id=\"T_ffa07d30_4c00_11eb_b559_0242ac120002row12_col3\" class=\"data row12 col3\" >-0.0121</td> \n",
       "    </tr></tbody> \n",
       "</table> "
      ],
      "text/plain": [
       "<pandas.io.formats.style.Styler at 0x7f8e1acb18d0>"
      ]
     },
     "execution_count": 144,
     "metadata": {},
     "output_type": "execute_result"
    }
   ],
   "source": [
    "# What kinds of people are part of a cluster that is overrepresented in the\n",
    "# customer data compared to the general population?\n",
    "\n",
    "# Overrepresented segment is cluster 2 by barplot\n",
    "top_pca_feat = map_cluster_to_feats(kmeans_model, df_cust_pca.iloc[:, :-1], 2)\n",
    "top_pca_feat.style.bar(align='mid')\n"
   ]
  },
  {
   "cell_type": "code",
   "execution_count": 146,
   "metadata": {},
   "outputs": [
    {
     "data": {
      "text/html": [
       "<style  type=\"text/css\" >\n",
       "    #T_36459c9e_4c01_11eb_b559_0242ac120002row0_col1 {\n",
       "            width:  10em;\n",
       "             height:  80%;\n",
       "            background:  linear-gradient(90deg, transparent 0%, transparent 0.0%, #d65f5f 0.0%, #d65f5f 100.0%, transparent 100.0%);\n",
       "        }    #T_36459c9e_4c01_11eb_b559_0242ac120002row0_col3 {\n",
       "            width:  10em;\n",
       "             height:  80%;\n",
       "            background:  linear-gradient(90deg, transparent 0%, transparent 0.0%, #d65f5f 0.0%, #d65f5f 100.0%, transparent 100.0%);\n",
       "        }    #T_36459c9e_4c01_11eb_b559_0242ac120002row1_col1 {\n",
       "            width:  10em;\n",
       "             height:  80%;\n",
       "            background:  linear-gradient(90deg, transparent 0%, transparent 0.0%, #d65f5f 0.0%, #d65f5f 10.8%, transparent 10.8%);\n",
       "        }    #T_36459c9e_4c01_11eb_b559_0242ac120002row1_col3 {\n",
       "            width:  10em;\n",
       "             height:  80%;\n",
       "            background:  linear-gradient(90deg, transparent 0%, transparent 53.8%, #d65f5f 53.8%, #d65f5f 100.0%, transparent 100.0%);\n",
       "        }    #T_36459c9e_4c01_11eb_b559_0242ac120002row2_col1 {\n",
       "            width:  10em;\n",
       "             height:  80%;\n",
       "            background:  linear-gradient(90deg, transparent 0%, transparent 0.0%, #d65f5f 0.0%, #d65f5f 8.0%, transparent 8.0%);\n",
       "        }    #T_36459c9e_4c01_11eb_b559_0242ac120002row2_col3 {\n",
       "            width:  10em;\n",
       "             height:  80%;\n",
       "            background:  linear-gradient(90deg, transparent 0%, transparent 89.7%, #d65f5f 89.7%, #d65f5f 100.0%, transparent 100.0%);\n",
       "        }    #T_36459c9e_4c01_11eb_b559_0242ac120002row3_col1 {\n",
       "            width:  10em;\n",
       "             height:  80%;\n",
       "            background:  linear-gradient(90deg, transparent 0%, transparent 0.0%, #d65f5f 0.0%, #d65f5f 3.3%, transparent 3.3%);\n",
       "        }    #T_36459c9e_4c01_11eb_b559_0242ac120002row3_col3 {\n",
       "            width:  10em;\n",
       "             height:  80%;\n",
       "            background:  linear-gradient(90deg, transparent 0%, transparent 93.5%, #d65f5f 93.5%, #d65f5f 100.0%, transparent 100.0%);\n",
       "        }    #T_36459c9e_4c01_11eb_b559_0242ac120002row4_col1 {\n",
       "            width:  10em;\n",
       "             height:  80%;\n",
       "            background:  linear-gradient(90deg, transparent 0%, transparent 0.0%, #d65f5f 0.0%, #d65f5f 2.8%, transparent 2.8%);\n",
       "        }    #T_36459c9e_4c01_11eb_b559_0242ac120002row4_col3 {\n",
       "            width:  10em;\n",
       "             height:  80%;\n",
       "            background:  linear-gradient(90deg, transparent 0%, transparent 96.0%, #d65f5f 96.0%, #d65f5f 100.0%, transparent 100.0%);\n",
       "        }    #T_36459c9e_4c01_11eb_b559_0242ac120002row5_col1 {\n",
       "            width:  10em;\n",
       "             height:  80%;\n",
       "            background:  linear-gradient(90deg, transparent 0%, transparent 0.0%, #d65f5f 0.0%, #d65f5f 2.4%, transparent 2.4%);\n",
       "        }    #T_36459c9e_4c01_11eb_b559_0242ac120002row5_col3 {\n",
       "            width:  10em;\n",
       "             height:  80%;\n",
       "            background:  linear-gradient(90deg, transparent 0%, transparent 96.7%, #d65f5f 96.7%, #d65f5f 100.0%, transparent 100.0%);\n",
       "        }    #T_36459c9e_4c01_11eb_b559_0242ac120002row6_col1 {\n",
       "            width:  10em;\n",
       "             height:  80%;\n",
       "            background:  linear-gradient(90deg, transparent 0%, transparent 0.0%, #d65f5f 0.0%, #d65f5f 2.3%, transparent 2.3%);\n",
       "        }    #T_36459c9e_4c01_11eb_b559_0242ac120002row6_col3 {\n",
       "            width:  10em;\n",
       "             height:  80%;\n",
       "            background:  linear-gradient(90deg, transparent 0%, transparent 97.0%, #d65f5f 97.0%, #d65f5f 100.0%, transparent 100.0%);\n",
       "        }    #T_36459c9e_4c01_11eb_b559_0242ac120002row7_col1 {\n",
       "            width:  10em;\n",
       "             height:  80%;\n",
       "            background:  linear-gradient(90deg, transparent 0%, transparent 0.0%, #d65f5f 0.0%, #d65f5f 2.3%, transparent 2.3%);\n",
       "        }    #T_36459c9e_4c01_11eb_b559_0242ac120002row7_col3 {\n",
       "            width:  10em;\n",
       "             height:  80%;\n",
       "            background:  linear-gradient(90deg, transparent 0%, transparent 97.7%, #d65f5f 97.7%, #d65f5f 100.0%, transparent 100.0%);\n",
       "        }    #T_36459c9e_4c01_11eb_b559_0242ac120002row8_col1 {\n",
       "            width:  10em;\n",
       "             height:  80%;\n",
       "            background:  linear-gradient(90deg, transparent 0%, transparent 0.0%, #d65f5f 0.0%, #d65f5f 1.7%, transparent 1.7%);\n",
       "        }    #T_36459c9e_4c01_11eb_b559_0242ac120002row8_col3 {\n",
       "            width:  10em;\n",
       "             height:  80%;\n",
       "            background:  linear-gradient(90deg, transparent 0%, transparent 98.1%, #d65f5f 98.1%, #d65f5f 100.0%, transparent 100.0%);\n",
       "        }    #T_36459c9e_4c01_11eb_b559_0242ac120002row9_col1 {\n",
       "            width:  10em;\n",
       "             height:  80%;\n",
       "            background:  linear-gradient(90deg, transparent 0%, transparent 0.0%, #d65f5f 0.0%, #d65f5f 1.4%, transparent 1.4%);\n",
       "        }    #T_36459c9e_4c01_11eb_b559_0242ac120002row9_col3 {\n",
       "            width:  10em;\n",
       "             height:  80%;\n",
       "            background:  linear-gradient(90deg, transparent 0%, transparent 98.4%, #d65f5f 98.4%, #d65f5f 100.0%, transparent 100.0%);\n",
       "        }    #T_36459c9e_4c01_11eb_b559_0242ac120002row10_col1 {\n",
       "            width:  10em;\n",
       "             height:  80%;\n",
       "            background:  linear-gradient(90deg, transparent 0%, transparent 0.0%, #d65f5f 0.0%, #d65f5f 1.1%, transparent 1.1%);\n",
       "        }    #T_36459c9e_4c01_11eb_b559_0242ac120002row10_col3 {\n",
       "            width:  10em;\n",
       "             height:  80%;\n",
       "            background:  linear-gradient(90deg, transparent 0%, transparent 99.4%, #d65f5f 99.4%, #d65f5f 100.0%, transparent 100.0%);\n",
       "        }    #T_36459c9e_4c01_11eb_b559_0242ac120002row11_col1 {\n",
       "            width:  10em;\n",
       "             height:  80%;\n",
       "            background:  linear-gradient(90deg, transparent 0%, transparent 0.0%, #d65f5f 0.0%, #d65f5f 0.5%, transparent 0.5%);\n",
       "        }    #T_36459c9e_4c01_11eb_b559_0242ac120002row11_col3 {\n",
       "            width:  10em;\n",
       "             height:  80%;\n",
       "            background:  linear-gradient(90deg, transparent 0%, transparent nan%, #d65f5f nan%, #d65f5f 100.0%, transparent 100.0%);\n",
       "        }    #T_36459c9e_4c01_11eb_b559_0242ac120002row12_col1 {\n",
       "            width:  10em;\n",
       "             height:  80%;\n",
       "            background:  linear-gradient(90deg, transparent 0%, transparent 0.0%, #d65f5f 0.0%, #d65f5f 0.1%, transparent 0.1%);\n",
       "        }    #T_36459c9e_4c01_11eb_b559_0242ac120002row12_col3 {\n",
       "            width:  10em;\n",
       "             height:  80%;\n",
       "            background:  linear-gradient(90deg, transparent 0%, transparent nan%, #d65f5f nan%, #d65f5f 100.0%, transparent 100.0%);\n",
       "        }    #T_36459c9e_4c01_11eb_b559_0242ac120002row13_col1 {\n",
       "            width:  10em;\n",
       "             height:  80%;\n",
       "            background:  linear-gradient(90deg, transparent 0%, transparent 0.0%, #d65f5f 0.0%, #d65f5f 0.0%, transparent 0.0%);\n",
       "        }    #T_36459c9e_4c01_11eb_b559_0242ac120002row13_col3 {\n",
       "            width:  10em;\n",
       "             height:  80%;\n",
       "            background:  linear-gradient(90deg, transparent 0%, transparent nan%, #d65f5f nan%, #d65f5f 100.0%, transparent 100.0%);\n",
       "        }</style>  \n",
       "<table id=\"T_36459c9e_4c01_11eb_b559_0242ac120002\" > \n",
       "<thead>    <tr> \n",
       "        <th class=\"blank level0\" ></th> \n",
       "        <th class=\"col_heading level0 col0\" >top_pos_col</th> \n",
       "        <th class=\"col_heading level0 col1\" >top_pos_col_weight</th> \n",
       "        <th class=\"col_heading level0 col2\" >top_neg_col</th> \n",
       "        <th class=\"col_heading level0 col3\" >top_neg_col_weight</th> \n",
       "    </tr></thead> \n",
       "<tbody>    <tr> \n",
       "        <th id=\"T_36459c9e_4c01_11eb_b559_0242ac120002level0_row0\" class=\"row_heading level0 row0\" >0</th> \n",
       "        <td id=\"T_36459c9e_4c01_11eb_b559_0242ac120002row0_col0\" class=\"data row0 col0\" >pop_density-finance_status</td> \n",
       "        <td id=\"T_36459c9e_4c01_11eb_b559_0242ac120002row0_col1\" class=\"data row0 col1\" >4.3928</td> \n",
       "        <td id=\"T_36459c9e_4c01_11eb_b559_0242ac120002row0_col2\" class=\"data row0 col2\" >gender</td> \n",
       "        <td id=\"T_36459c9e_4c01_11eb_b559_0242ac120002row0_col3\" class=\"data row0 col3\" >-2.6147</td> \n",
       "    </tr>    <tr> \n",
       "        <th id=\"T_36459c9e_4c01_11eb_b559_0242ac120002level0_row1\" class=\"row_heading level0 row1\" >1</th> \n",
       "        <td id=\"T_36459c9e_4c01_11eb_b559_0242ac120002row1_col0\" class=\"data row1 col0\" >10</td> \n",
       "        <td id=\"T_36459c9e_4c01_11eb_b559_0242ac120002row1_col1\" class=\"data row1 col1\" >0.4733</td> \n",
       "        <td id=\"T_36459c9e_4c01_11eb_b559_0242ac120002row1_col2\" class=\"data row1 col2\" >age-generation</td> \n",
       "        <td id=\"T_36459c9e_4c01_11eb_b559_0242ac120002row1_col3\" class=\"data row1 col3\" >-1.2068</td> \n",
       "    </tr>    <tr> \n",
       "        <th id=\"T_36459c9e_4c01_11eb_b559_0242ac120002level0_row2\" class=\"row_heading level0 row2\" >2</th> \n",
       "        <td id=\"T_36459c9e_4c01_11eb_b559_0242ac120002row2_col0\" class=\"data row2 col0\" >4</td> \n",
       "        <td id=\"T_36459c9e_4c01_11eb_b559_0242ac120002row2_col1\" class=\"data row2 col1\" >0.3524</td> \n",
       "        <td id=\"T_36459c9e_4c01_11eb_b559_0242ac120002row2_col2\" class=\"data row2 col2\" >8</td> \n",
       "        <td id=\"T_36459c9e_4c01_11eb_b559_0242ac120002row2_col3\" class=\"data row2 col3\" >-0.2689</td> \n",
       "    </tr>    <tr> \n",
       "        <th id=\"T_36459c9e_4c01_11eb_b559_0242ac120002level0_row3\" class=\"row_heading level0 row3\" >3</th> \n",
       "        <td id=\"T_36459c9e_4c01_11eb_b559_0242ac120002row3_col0\" class=\"data row3 col0\" >18</td> \n",
       "        <td id=\"T_36459c9e_4c01_11eb_b559_0242ac120002row3_col1\" class=\"data row3 col1\" >0.1453</td> \n",
       "        <td id=\"T_36459c9e_4c01_11eb_b559_0242ac120002row3_col2\" class=\"data row3 col2\" >9</td> \n",
       "        <td id=\"T_36459c9e_4c01_11eb_b559_0242ac120002row3_col3\" class=\"data row3 col3\" >-0.17</td> \n",
       "    </tr>    <tr> \n",
       "        <th id=\"T_36459c9e_4c01_11eb_b559_0242ac120002level0_row4\" class=\"row_heading level0 row4\" >4</th> \n",
       "        <td id=\"T_36459c9e_4c01_11eb_b559_0242ac120002row4_col0\" class=\"data row4 col0\" >11</td> \n",
       "        <td id=\"T_36459c9e_4c01_11eb_b559_0242ac120002row4_col1\" class=\"data row4 col1\" >0.1221</td> \n",
       "        <td id=\"T_36459c9e_4c01_11eb_b559_0242ac120002row4_col2\" class=\"data row4 col2\" >19</td> \n",
       "        <td id=\"T_36459c9e_4c01_11eb_b559_0242ac120002row4_col3\" class=\"data row4 col3\" >-0.1052</td> \n",
       "    </tr>    <tr> \n",
       "        <th id=\"T_36459c9e_4c01_11eb_b559_0242ac120002level0_row5\" class=\"row_heading level0 row5\" >5</th> \n",
       "        <td id=\"T_36459c9e_4c01_11eb_b559_0242ac120002row5_col0\" class=\"data row5 col0\" >7</td> \n",
       "        <td id=\"T_36459c9e_4c01_11eb_b559_0242ac120002row5_col1\" class=\"data row5 col1\" >0.1045</td> \n",
       "        <td id=\"T_36459c9e_4c01_11eb_b559_0242ac120002row5_col2\" class=\"data row5 col2\" >25</td> \n",
       "        <td id=\"T_36459c9e_4c01_11eb_b559_0242ac120002row5_col3\" class=\"data row5 col3\" >-0.0859</td> \n",
       "    </tr>    <tr> \n",
       "        <th id=\"T_36459c9e_4c01_11eb_b559_0242ac120002level0_row6\" class=\"row_heading level0 row6\" >6</th> \n",
       "        <td id=\"T_36459c9e_4c01_11eb_b559_0242ac120002row6_col0\" class=\"data row6 col0\" >16</td> \n",
       "        <td id=\"T_36459c9e_4c01_11eb_b559_0242ac120002row6_col1\" class=\"data row6 col1\" >0.103</td> \n",
       "        <td id=\"T_36459c9e_4c01_11eb_b559_0242ac120002row6_col2\" class=\"data row6 col2\" >6</td> \n",
       "        <td id=\"T_36459c9e_4c01_11eb_b559_0242ac120002row6_col3\" class=\"data row6 col3\" >-0.0778</td> \n",
       "    </tr>    <tr> \n",
       "        <th id=\"T_36459c9e_4c01_11eb_b559_0242ac120002level0_row7\" class=\"row_heading level0 row7\" >7</th> \n",
       "        <td id=\"T_36459c9e_4c01_11eb_b559_0242ac120002row7_col0\" class=\"data row7 col0\" >24</td> \n",
       "        <td id=\"T_36459c9e_4c01_11eb_b559_0242ac120002row7_col1\" class=\"data row7 col1\" >0.1028</td> \n",
       "        <td id=\"T_36459c9e_4c01_11eb_b559_0242ac120002row7_col2\" class=\"data row7 col2\" >15</td> \n",
       "        <td id=\"T_36459c9e_4c01_11eb_b559_0242ac120002row7_col3\" class=\"data row7 col3\" >-0.0591</td> \n",
       "    </tr>    <tr> \n",
       "        <th id=\"T_36459c9e_4c01_11eb_b559_0242ac120002level0_row8\" class=\"row_heading level0 row8\" >8</th> \n",
       "        <td id=\"T_36459c9e_4c01_11eb_b559_0242ac120002row8_col0\" class=\"data row8 col0\" >23</td> \n",
       "        <td id=\"T_36459c9e_4c01_11eb_b559_0242ac120002row8_col1\" class=\"data row8 col1\" >0.0752</td> \n",
       "        <td id=\"T_36459c9e_4c01_11eb_b559_0242ac120002row8_col2\" class=\"data row8 col2\" >13</td> \n",
       "        <td id=\"T_36459c9e_4c01_11eb_b559_0242ac120002row8_col3\" class=\"data row8 col3\" >-0.0509</td> \n",
       "    </tr>    <tr> \n",
       "        <th id=\"T_36459c9e_4c01_11eb_b559_0242ac120002level0_row9\" class=\"row_heading level0 row9\" >9</th> \n",
       "        <td id=\"T_36459c9e_4c01_11eb_b559_0242ac120002row9_col0\" class=\"data row9 col0\" >5</td> \n",
       "        <td id=\"T_36459c9e_4c01_11eb_b559_0242ac120002row9_col1\" class=\"data row9 col1\" >0.0603</td> \n",
       "        <td id=\"T_36459c9e_4c01_11eb_b559_0242ac120002row9_col2\" class=\"data row9 col2\" >12</td> \n",
       "        <td id=\"T_36459c9e_4c01_11eb_b559_0242ac120002row9_col3\" class=\"data row9 col3\" >-0.0428</td> \n",
       "    </tr>    <tr> \n",
       "        <th id=\"T_36459c9e_4c01_11eb_b559_0242ac120002level0_row10\" class=\"row_heading level0 row10\" >10</th> \n",
       "        <td id=\"T_36459c9e_4c01_11eb_b559_0242ac120002row10_col0\" class=\"data row10 col0\" >20</td> \n",
       "        <td id=\"T_36459c9e_4c01_11eb_b559_0242ac120002row10_col1\" class=\"data row10 col1\" >0.0498</td> \n",
       "        <td id=\"T_36459c9e_4c01_11eb_b559_0242ac120002row10_col2\" class=\"data row10 col2\" >14</td> \n",
       "        <td id=\"T_36459c9e_4c01_11eb_b559_0242ac120002row10_col3\" class=\"data row10 col3\" >-0.0169</td> \n",
       "    </tr>    <tr> \n",
       "        <th id=\"T_36459c9e_4c01_11eb_b559_0242ac120002level0_row11\" class=\"row_heading level0 row11\" >11</th> \n",
       "        <td id=\"T_36459c9e_4c01_11eb_b559_0242ac120002row11_col0\" class=\"data row11 col0\" >21</td> \n",
       "        <td id=\"T_36459c9e_4c01_11eb_b559_0242ac120002row11_col1\" class=\"data row11 col1\" >0.022</td> \n",
       "        <td id=\"T_36459c9e_4c01_11eb_b559_0242ac120002row11_col2\" class=\"data row11 col2\" >nan</td> \n",
       "        <td id=\"T_36459c9e_4c01_11eb_b559_0242ac120002row11_col3\" class=\"data row11 col3\" >nan</td> \n",
       "    </tr>    <tr> \n",
       "        <th id=\"T_36459c9e_4c01_11eb_b559_0242ac120002level0_row12\" class=\"row_heading level0 row12\" >12</th> \n",
       "        <td id=\"T_36459c9e_4c01_11eb_b559_0242ac120002row12_col0\" class=\"data row12 col0\" >17</td> \n",
       "        <td id=\"T_36459c9e_4c01_11eb_b559_0242ac120002row12_col1\" class=\"data row12 col1\" >0.0029</td> \n",
       "        <td id=\"T_36459c9e_4c01_11eb_b559_0242ac120002row12_col2\" class=\"data row12 col2\" >nan</td> \n",
       "        <td id=\"T_36459c9e_4c01_11eb_b559_0242ac120002row12_col3\" class=\"data row12 col3\" >nan</td> \n",
       "    </tr>    <tr> \n",
       "        <th id=\"T_36459c9e_4c01_11eb_b559_0242ac120002level0_row13\" class=\"row_heading level0 row13\" >13</th> \n",
       "        <td id=\"T_36459c9e_4c01_11eb_b559_0242ac120002row13_col0\" class=\"data row13 col0\" >22</td> \n",
       "        <td id=\"T_36459c9e_4c01_11eb_b559_0242ac120002row13_col1\" class=\"data row13 col1\" >0.0013</td> \n",
       "        <td id=\"T_36459c9e_4c01_11eb_b559_0242ac120002row13_col2\" class=\"data row13 col2\" >nan</td> \n",
       "        <td id=\"T_36459c9e_4c01_11eb_b559_0242ac120002row13_col3\" class=\"data row13 col3\" >nan</td> \n",
       "    </tr></tbody> \n",
       "</table> "
      ],
      "text/plain": [
       "<pandas.io.formats.style.Styler at 0x7f8e1acb14a8>"
      ]
     },
     "execution_count": 146,
     "metadata": {},
     "output_type": "execute_result"
    }
   ],
   "source": [
    "# What kinds of people are part of a cluster that is underrepresented in the\n",
    "# customer data compared to the general population?\n",
    "\n",
    "# underrepresented segment is cluster 5 by barplot\n",
    "top_pca_feat = map_cluster_to_feats(kmeans_model, df_cust_pca.iloc[:, :-1], 5)\n",
    "top_pca_feat.style.bar(align='mid')"
   ]
  },
  {
   "cell_type": "markdown",
   "metadata": {},
   "source": [
    "### Discussion 3.3: Compare Customer Data to Demographics Data\n",
    "\n",
    "(Double-click this cell and replace this text with your own text, reporting findings and conclusions from the clustering analysis. Can we describe segments of the population that are relatively popular with the mail-order company, or relatively unpopular with the company?)\n",
    "\n",
    "Based on the comparison above:\n",
    "\n",
    "- The Overrepresented customer segment is **cluster#2**, which has *high positive impact of gender component* and *high negtive impact of population density and financial condition component*.\n",
    "\n",
    "- So the population that are relatively popular with the mail-order company are **relatively younger men** that are less dreamful, less socially-minded, less cultural-minded, not financial minimalists, conservative return shopper types, that have a higher financial status and **live in less densely populated areas**.\n",
    "\n",
    "\n",
    "\n",
    "- The underrepresented customer segment is **cluster#5**, which has *high positive impact of population density and financial condition component* and *high negative gender & age-generation components*.\n",
    "\n",
    "- So the population that are relatively unpopular with the mail-order company are **Younger women** that are less dominant-minded, less critical-minded, less rational, have a less combative attitude and are less prone to investing and **live in densely populated areas with a lower financial status. They have lower religious affinity, lower money saving culture and are less traditional minded."
   ]
  },
  {
   "cell_type": "markdown",
   "metadata": {},
   "source": [
    "> Congratulations on making it this far in the project! Before you finish, make sure to check through the entire notebook from top to bottom to make sure that your analysis follows a logical flow and all of your findings are documented in **Discussion** cells. Once you've checked over all of your work, you should export the notebook as an HTML document to submit for evaluation. You can do this from the menu, navigating to **File -> Download as -> HTML (.html)**. You will submit both that document and this notebook for your project submission."
   ]
  },
  {
   "cell_type": "code",
   "execution_count": null,
   "metadata": {},
   "outputs": [],
   "source": []
  }
 ],
 "metadata": {
  "kernelspec": {
   "display_name": "Python 3",
   "language": "python",
   "name": "python3"
  },
  "language_info": {
   "codemirror_mode": {
    "name": "ipython",
    "version": 3
   },
   "file_extension": ".py",
   "mimetype": "text/x-python",
   "name": "python",
   "nbconvert_exporter": "python",
   "pygments_lexer": "ipython3",
   "version": "3.6.3"
  }
 },
 "nbformat": 4,
 "nbformat_minor": 2
}
